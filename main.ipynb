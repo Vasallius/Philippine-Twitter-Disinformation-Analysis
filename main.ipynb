{
  "cells": [
    {
      "cell_type": "code",
      "execution_count": 1,
      "metadata": {
        "colab": {
          "base_uri": "https://localhost:8080/",
          "height": 339
        },
        "id": "XYchABerxjX_",
        "outputId": "351e7917-9d85-4370-f808-801acdaf63c4"
      },
      "outputs": [],
      "source": [
        "import polars as pl\n",
        "from nltk.corpus import stopwords\n",
        "import nltk\n",
        "import re\n",
        "import demoji"
      ]
    },
    {
      "cell_type": "code",
      "execution_count": 2,
      "metadata": {
        "id": "PwhDSfdD1e3R"
      },
      "outputs": [
        {
          "name": "stderr",
          "output_type": "stream",
          "text": [
            "[nltk_data] Downloading package stopwords to\n",
            "[nltk_data]     C:\\Users\\helpkreios\\AppData\\Roaming\\nltk_data...\n",
            "[nltk_data]   Package stopwords is already up-to-date!\n"
          ]
        }
      ],
      "source": [
        "# Load Stopwords and the dataset\n",
        "nltk.download('stopwords')\n",
        "ensw = stopwords.words('english')\n",
        "\n",
        "df = pl.read_csv(\"Complete_Data.csv\")"
      ]
    },
    {
      "cell_type": "code",
      "execution_count": 3,
      "metadata": {
        "id": "fiOIL7641mOy"
      },
      "outputs": [],
      "source": [
        "# Clean ID Part\n",
        "df = df.select([\n",
        "    pl.col(\"ID\").apply(lambda id: id.split(\"-\")[1]).cast(pl.Int32),\n",
        "    pl.exclude(\"ID\")\n",
        "])"
      ]
    },
    {
      "cell_type": "code",
      "execution_count": 4,
      "metadata": {
        "id": "Q6wB0hFB1uhS"
      },
      "outputs": [],
      "source": [
        "# Remove rows without tweet AND tweet URL\n",
        "df = df.filter(pl.col(\"Tweet\").is_not_null() & pl.col(\"Tweet URL\").is_not_null())\n"
      ]
    },
    {
      "cell_type": "code",
      "execution_count": 11,
      "metadata": {},
      "outputs": [
        {
          "data": {
            "application/vnd.plotly.v1+json": {
              "config": {
                "plotlyServerURL": "https://plot.ly"
              },
              "data": [
                {
                  "hovertemplate": "<b>%{text}</b><br>Following: %{x}<br>Followers: %{y}",
                  "marker": {
                    "color": "blue",
                    "line": {
                      "color": "black",
                      "width": 0.5
                    },
                    "opacity": 0.7,
                    "size": 10
                  },
                  "mode": "markers",
                  "text": [
                    "@arthur_vee",
                    "@ItsJamMagno",
                    "@Brad_Kardinal",
                    "@WinwinEklabu",
                    "@cierloX6",
                    "@LelangmoVlogger",
                    "@iskonglasalista",
                    "@mendozadino",
                    "@dTnalakRiderSR",
                    "@SLaKaTor",
                    "@iskonglasalista",
                    "@kramer_bo",
                    "@PManejr",
                    "@JVMombay",
                    "@iskonglasalista",
                    "@krameoj2",
                    "@Hyden007Toro",
                    "@hitman531ph",
                    "@Hyden007Toro",
                    "@ArianaCharice",
                    "@Whatsupjess1",
                    "@gerrydeleo",
                    "@jassyangeli",
                    "@nhoy2011",
                    "@Whatsupjess1",
                    "@jassyangeli",
                    "@iskonglasalista",
                    "@JurisImmanuel",
                    "@FilCitizenPH",
                    "@H4L0H4L0",
                    "@AnlaboTsong",
                    "@alden_chua",
                    "@TheSmilingBOW",
                    "@MalaChinaPalace",
                    "@iskonglasalita",
                    "@micashan",
                    "@gigaigurlmd",
                    "@matansero12886",
                    "@Altesing_Manny",
                    "@Ztirf17",
                    "@loloromatu",
                    "@Edelwei8",
                    "@osolge2665",
                    "@Fred_1222",
                    "@SamuraiKatipun",
                    "@blackkn05858615",
                    "@SethTojon",
                    "@marredroyalty",
                    "@marredroyalty",
                    "@AliKyle14",
                    "@sonycuerdo",
                    "@thirteenLexa",
                    "@ronald4eternity",
                    "@rom40800032",
                    "@iskonglasalista",
                    "@PinasAngInaNyo",
                    "@marredroyalty",
                    "@yellowzingers1",
                    "@jaby111219",
                    "@WinwinEklabu",
                    "@Martina40290987",
                    "@rhan_duke",
                    "@KenesuMiko",
                    "@ementriboychoi",
                    "@iammarkgarcia_",
                    "@jbrsamonte",
                    "@ace_on_airrr",
                    "@thebossEFRAIM",
                    "@iam_joshua_bc17",
                    "@saylothe",
                    "@dreamy_eyes0",
                    "@AldreanNavarro",
                    "@senall83",
                    "@jamesparmis",
                    "@Hades_alexis",
                    "@Valenzuela_Jeff",
                    "@jonnelcardano",
                    "@Smartteaser192",
                    "@babeline7",
                    "@tapatnapilipino",
                    "@emvisi",
                    "@emvisi",
                    "@tapatnapilipino",
                    "@aizenrei20",
                    "@lynmadrid2017",
                    "@Deemcma76111219",
                    "@http_brent22",
                    "@Spankmerigor",
                    "@Deemcma76111219",
                    "@TishaCM",
                    "@AngAkinLangNman",
                    "@abet023",
                    "@anazachia",
                    "@ddaengseul",
                    "@1dugoph",
                    "@gaudz1948",
                    "@apolinarcespos",
                    "@newspaperphcom",
                    "@Ur_Supermhay",
                    "@ZunRa",
                    "@alden_chua",
                    "@teriyo",
                    "@AbsoluteroC",
                    "@fu_rher_",
                    "@YolandaQueens",
                    "@pinoyanghang",
                    "@jemsenpai30",
                    "@iskonglasalista",
                    "@PulbuRonn",
                    "@zhandy_77",
                    "@olpips",
                    "@marortoll",
                    "@imnotyomom",
                    "@AtokPascua",
                    "@philwayne88",
                    "@arogante_ka_tse",
                    "@WordsinMyMind5",
                    "@Runel24947326",
                    "@iskonglasalista",
                    "@1vic2r310",
                    "@sycipft",
                    "@Domingo31356729",
                    "@sycipft",
                    "@BryanLapez",
                    "@ManuelM73700324",
                    "@marortoll",
                    "@BrujaDelDemonio",
                    "@marredroyalty",
                    "@sycipft",
                    "@SiiniGeng",
                    "@Rosmar_Masarap",
                    "@sycipft",
                    "@teriyo",
                    "@liaoericph",
                    "@rumflan60",
                    "@allain_z",
                    "@msuniversemimi",
                    "@Yelle007",
                    "@ShnFrncsc01",
                    "@cinecinecine30",
                    "@kotomba431C",
                    "Doctor Luck",
                    "@Paps_Caloy",
                    "@DontTryMeTsk",
                    "@DodongPags",
                    "@DinoMacaldo",
                    "@PulbuRonn",
                    "@roumelle_p",
                    "@theguru91010011",
                    "@MDSOnwardPH22",
                    "@bivoc1",
                    "@ManolitoMantal2",
                    "@thatsthetweet00"
                  ],
                  "type": "scatter",
                  "x": [
                    2767,
                    0,
                    1787,
                    6462,
                    542,
                    430,
                    2568,
                    260,
                    1519,
                    481,
                    2568,
                    823,
                    1060,
                    16,
                    2568,
                    481,
                    179,
                    312,
                    179,
                    2229,
                    127,
                    414,
                    185,
                    175,
                    127,
                    185,
                    2568,
                    446,
                    47,
                    61,
                    575,
                    268,
                    239,
                    504,
                    2568,
                    606,
                    689,
                    95,
                    562,
                    63,
                    43,
                    685,
                    279,
                    122,
                    657,
                    929,
                    78,
                    2475,
                    2475,
                    13,
                    16,
                    237,
                    331,
                    47,
                    2568,
                    716,
                    2475,
                    459,
                    25,
                    6462,
                    18,
                    470,
                    10,
                    43,
                    1167,
                    132,
                    187,
                    271,
                    2099,
                    30,
                    1269,
                    317,
                    1222,
                    711,
                    2491,
                    253,
                    89,
                    5007,
                    89,
                    58,
                    295,
                    295,
                    58,
                    121,
                    17,
                    190,
                    362,
                    292,
                    190,
                    434,
                    369,
                    648,
                    133,
                    58,
                    8,
                    340,
                    2001,
                    964,
                    61,
                    806,
                    268,
                    4510,
                    2,
                    61,
                    779,
                    1165,
                    287,
                    2561,
                    144,
                    9,
                    785,
                    721,
                    1394,
                    745,
                    88,
                    2153,
                    149,
                    212,
                    2561,
                    27,
                    522,
                    104,
                    522,
                    30,
                    683,
                    721,
                    362,
                    2470,
                    522,
                    1555,
                    47,
                    522,
                    4510,
                    586,
                    3952,
                    1078,
                    384,
                    1723,
                    405,
                    150,
                    2042,
                    8035,
                    1710,
                    2814,
                    2314,
                    16,
                    144,
                    14,
                    698,
                    7966,
                    5,
                    20,
                    2032
                  ],
                  "y": [
                    4255,
                    76100,
                    2067,
                    7082,
                    532,
                    257,
                    6097,
                    37,
                    3275,
                    252,
                    6097,
                    382,
                    136,
                    5,
                    6097,
                    432,
                    6,
                    5405,
                    6,
                    1909,
                    3,
                    533,
                    57,
                    21,
                    3,
                    57,
                    6097,
                    551,
                    50,
                    10,
                    13900,
                    487,
                    243,
                    191,
                    6096,
                    124,
                    753,
                    22,
                    406,
                    2,
                    6,
                    383,
                    272,
                    52,
                    502,
                    893,
                    71,
                    2171,
                    2171,
                    1,
                    2,
                    41,
                    176,
                    0,
                    6096,
                    785,
                    2171,
                    63,
                    8,
                    7082,
                    2,
                    52,
                    5,
                    85,
                    5759,
                    304,
                    212,
                    31,
                    2338,
                    1256,
                    123,
                    539,
                    105,
                    1044,
                    186,
                    165,
                    46,
                    547,
                    21,
                    315,
                    162,
                    162,
                    315,
                    12,
                    6,
                    436,
                    177,
                    63,
                    436,
                    27900,
                    490,
                    42,
                    8,
                    517,
                    3,
                    126,
                    1248,
                    159,
                    1614,
                    773,
                    482,
                    1711,
                    0,
                    75,
                    44,
                    53000,
                    44,
                    6064,
                    3766,
                    85,
                    618,
                    11000,
                    732,
                    879,
                    83,
                    788,
                    17,
                    127,
                    6064,
                    1,
                    260,
                    25,
                    260,
                    17,
                    680,
                    11000,
                    24000,
                    2169,
                    260,
                    1950,
                    441,
                    260,
                    1710,
                    181,
                    3746,
                    758,
                    202,
                    1571,
                    422,
                    1620,
                    2093,
                    20000,
                    13600,
                    3724,
                    1667,
                    0,
                    3766,
                    2,
                    490,
                    12300,
                    0,
                    12,
                    1117
                  ]
                }
              ],
              "layout": {
                "hoverlabel": {
                  "bgcolor": "white",
                  "font": {
                    "size": 12
                  }
                },
                "plot_bgcolor": "white",
                "template": {
                  "data": {
                    "bar": [
                      {
                        "error_x": {
                          "color": "#2a3f5f"
                        },
                        "error_y": {
                          "color": "#2a3f5f"
                        },
                        "marker": {
                          "line": {
                            "color": "#E5ECF6",
                            "width": 0.5
                          },
                          "pattern": {
                            "fillmode": "overlay",
                            "size": 10,
                            "solidity": 0.2
                          }
                        },
                        "type": "bar"
                      }
                    ],
                    "barpolar": [
                      {
                        "marker": {
                          "line": {
                            "color": "#E5ECF6",
                            "width": 0.5
                          },
                          "pattern": {
                            "fillmode": "overlay",
                            "size": 10,
                            "solidity": 0.2
                          }
                        },
                        "type": "barpolar"
                      }
                    ],
                    "carpet": [
                      {
                        "aaxis": {
                          "endlinecolor": "#2a3f5f",
                          "gridcolor": "white",
                          "linecolor": "white",
                          "minorgridcolor": "white",
                          "startlinecolor": "#2a3f5f"
                        },
                        "baxis": {
                          "endlinecolor": "#2a3f5f",
                          "gridcolor": "white",
                          "linecolor": "white",
                          "minorgridcolor": "white",
                          "startlinecolor": "#2a3f5f"
                        },
                        "type": "carpet"
                      }
                    ],
                    "choropleth": [
                      {
                        "colorbar": {
                          "outlinewidth": 0,
                          "ticks": ""
                        },
                        "type": "choropleth"
                      }
                    ],
                    "contour": [
                      {
                        "colorbar": {
                          "outlinewidth": 0,
                          "ticks": ""
                        },
                        "colorscale": [
                          [
                            0,
                            "#0d0887"
                          ],
                          [
                            0.1111111111111111,
                            "#46039f"
                          ],
                          [
                            0.2222222222222222,
                            "#7201a8"
                          ],
                          [
                            0.3333333333333333,
                            "#9c179e"
                          ],
                          [
                            0.4444444444444444,
                            "#bd3786"
                          ],
                          [
                            0.5555555555555556,
                            "#d8576b"
                          ],
                          [
                            0.6666666666666666,
                            "#ed7953"
                          ],
                          [
                            0.7777777777777778,
                            "#fb9f3a"
                          ],
                          [
                            0.8888888888888888,
                            "#fdca26"
                          ],
                          [
                            1,
                            "#f0f921"
                          ]
                        ],
                        "type": "contour"
                      }
                    ],
                    "contourcarpet": [
                      {
                        "colorbar": {
                          "outlinewidth": 0,
                          "ticks": ""
                        },
                        "type": "contourcarpet"
                      }
                    ],
                    "heatmap": [
                      {
                        "colorbar": {
                          "outlinewidth": 0,
                          "ticks": ""
                        },
                        "colorscale": [
                          [
                            0,
                            "#0d0887"
                          ],
                          [
                            0.1111111111111111,
                            "#46039f"
                          ],
                          [
                            0.2222222222222222,
                            "#7201a8"
                          ],
                          [
                            0.3333333333333333,
                            "#9c179e"
                          ],
                          [
                            0.4444444444444444,
                            "#bd3786"
                          ],
                          [
                            0.5555555555555556,
                            "#d8576b"
                          ],
                          [
                            0.6666666666666666,
                            "#ed7953"
                          ],
                          [
                            0.7777777777777778,
                            "#fb9f3a"
                          ],
                          [
                            0.8888888888888888,
                            "#fdca26"
                          ],
                          [
                            1,
                            "#f0f921"
                          ]
                        ],
                        "type": "heatmap"
                      }
                    ],
                    "heatmapgl": [
                      {
                        "colorbar": {
                          "outlinewidth": 0,
                          "ticks": ""
                        },
                        "colorscale": [
                          [
                            0,
                            "#0d0887"
                          ],
                          [
                            0.1111111111111111,
                            "#46039f"
                          ],
                          [
                            0.2222222222222222,
                            "#7201a8"
                          ],
                          [
                            0.3333333333333333,
                            "#9c179e"
                          ],
                          [
                            0.4444444444444444,
                            "#bd3786"
                          ],
                          [
                            0.5555555555555556,
                            "#d8576b"
                          ],
                          [
                            0.6666666666666666,
                            "#ed7953"
                          ],
                          [
                            0.7777777777777778,
                            "#fb9f3a"
                          ],
                          [
                            0.8888888888888888,
                            "#fdca26"
                          ],
                          [
                            1,
                            "#f0f921"
                          ]
                        ],
                        "type": "heatmapgl"
                      }
                    ],
                    "histogram": [
                      {
                        "marker": {
                          "pattern": {
                            "fillmode": "overlay",
                            "size": 10,
                            "solidity": 0.2
                          }
                        },
                        "type": "histogram"
                      }
                    ],
                    "histogram2d": [
                      {
                        "colorbar": {
                          "outlinewidth": 0,
                          "ticks": ""
                        },
                        "colorscale": [
                          [
                            0,
                            "#0d0887"
                          ],
                          [
                            0.1111111111111111,
                            "#46039f"
                          ],
                          [
                            0.2222222222222222,
                            "#7201a8"
                          ],
                          [
                            0.3333333333333333,
                            "#9c179e"
                          ],
                          [
                            0.4444444444444444,
                            "#bd3786"
                          ],
                          [
                            0.5555555555555556,
                            "#d8576b"
                          ],
                          [
                            0.6666666666666666,
                            "#ed7953"
                          ],
                          [
                            0.7777777777777778,
                            "#fb9f3a"
                          ],
                          [
                            0.8888888888888888,
                            "#fdca26"
                          ],
                          [
                            1,
                            "#f0f921"
                          ]
                        ],
                        "type": "histogram2d"
                      }
                    ],
                    "histogram2dcontour": [
                      {
                        "colorbar": {
                          "outlinewidth": 0,
                          "ticks": ""
                        },
                        "colorscale": [
                          [
                            0,
                            "#0d0887"
                          ],
                          [
                            0.1111111111111111,
                            "#46039f"
                          ],
                          [
                            0.2222222222222222,
                            "#7201a8"
                          ],
                          [
                            0.3333333333333333,
                            "#9c179e"
                          ],
                          [
                            0.4444444444444444,
                            "#bd3786"
                          ],
                          [
                            0.5555555555555556,
                            "#d8576b"
                          ],
                          [
                            0.6666666666666666,
                            "#ed7953"
                          ],
                          [
                            0.7777777777777778,
                            "#fb9f3a"
                          ],
                          [
                            0.8888888888888888,
                            "#fdca26"
                          ],
                          [
                            1,
                            "#f0f921"
                          ]
                        ],
                        "type": "histogram2dcontour"
                      }
                    ],
                    "mesh3d": [
                      {
                        "colorbar": {
                          "outlinewidth": 0,
                          "ticks": ""
                        },
                        "type": "mesh3d"
                      }
                    ],
                    "parcoords": [
                      {
                        "line": {
                          "colorbar": {
                            "outlinewidth": 0,
                            "ticks": ""
                          }
                        },
                        "type": "parcoords"
                      }
                    ],
                    "pie": [
                      {
                        "automargin": true,
                        "type": "pie"
                      }
                    ],
                    "scatter": [
                      {
                        "fillpattern": {
                          "fillmode": "overlay",
                          "size": 10,
                          "solidity": 0.2
                        },
                        "type": "scatter"
                      }
                    ],
                    "scatter3d": [
                      {
                        "line": {
                          "colorbar": {
                            "outlinewidth": 0,
                            "ticks": ""
                          }
                        },
                        "marker": {
                          "colorbar": {
                            "outlinewidth": 0,
                            "ticks": ""
                          }
                        },
                        "type": "scatter3d"
                      }
                    ],
                    "scattercarpet": [
                      {
                        "marker": {
                          "colorbar": {
                            "outlinewidth": 0,
                            "ticks": ""
                          }
                        },
                        "type": "scattercarpet"
                      }
                    ],
                    "scattergeo": [
                      {
                        "marker": {
                          "colorbar": {
                            "outlinewidth": 0,
                            "ticks": ""
                          }
                        },
                        "type": "scattergeo"
                      }
                    ],
                    "scattergl": [
                      {
                        "marker": {
                          "colorbar": {
                            "outlinewidth": 0,
                            "ticks": ""
                          }
                        },
                        "type": "scattergl"
                      }
                    ],
                    "scattermapbox": [
                      {
                        "marker": {
                          "colorbar": {
                            "outlinewidth": 0,
                            "ticks": ""
                          }
                        },
                        "type": "scattermapbox"
                      }
                    ],
                    "scatterpolar": [
                      {
                        "marker": {
                          "colorbar": {
                            "outlinewidth": 0,
                            "ticks": ""
                          }
                        },
                        "type": "scatterpolar"
                      }
                    ],
                    "scatterpolargl": [
                      {
                        "marker": {
                          "colorbar": {
                            "outlinewidth": 0,
                            "ticks": ""
                          }
                        },
                        "type": "scatterpolargl"
                      }
                    ],
                    "scatterternary": [
                      {
                        "marker": {
                          "colorbar": {
                            "outlinewidth": 0,
                            "ticks": ""
                          }
                        },
                        "type": "scatterternary"
                      }
                    ],
                    "surface": [
                      {
                        "colorbar": {
                          "outlinewidth": 0,
                          "ticks": ""
                        },
                        "colorscale": [
                          [
                            0,
                            "#0d0887"
                          ],
                          [
                            0.1111111111111111,
                            "#46039f"
                          ],
                          [
                            0.2222222222222222,
                            "#7201a8"
                          ],
                          [
                            0.3333333333333333,
                            "#9c179e"
                          ],
                          [
                            0.4444444444444444,
                            "#bd3786"
                          ],
                          [
                            0.5555555555555556,
                            "#d8576b"
                          ],
                          [
                            0.6666666666666666,
                            "#ed7953"
                          ],
                          [
                            0.7777777777777778,
                            "#fb9f3a"
                          ],
                          [
                            0.8888888888888888,
                            "#fdca26"
                          ],
                          [
                            1,
                            "#f0f921"
                          ]
                        ],
                        "type": "surface"
                      }
                    ],
                    "table": [
                      {
                        "cells": {
                          "fill": {
                            "color": "#EBF0F8"
                          },
                          "line": {
                            "color": "white"
                          }
                        },
                        "header": {
                          "fill": {
                            "color": "#C8D4E3"
                          },
                          "line": {
                            "color": "white"
                          }
                        },
                        "type": "table"
                      }
                    ]
                  },
                  "layout": {
                    "annotationdefaults": {
                      "arrowcolor": "#2a3f5f",
                      "arrowhead": 0,
                      "arrowwidth": 1
                    },
                    "autotypenumbers": "strict",
                    "coloraxis": {
                      "colorbar": {
                        "outlinewidth": 0,
                        "ticks": ""
                      }
                    },
                    "colorscale": {
                      "diverging": [
                        [
                          0,
                          "#8e0152"
                        ],
                        [
                          0.1,
                          "#c51b7d"
                        ],
                        [
                          0.2,
                          "#de77ae"
                        ],
                        [
                          0.3,
                          "#f1b6da"
                        ],
                        [
                          0.4,
                          "#fde0ef"
                        ],
                        [
                          0.5,
                          "#f7f7f7"
                        ],
                        [
                          0.6,
                          "#e6f5d0"
                        ],
                        [
                          0.7,
                          "#b8e186"
                        ],
                        [
                          0.8,
                          "#7fbc41"
                        ],
                        [
                          0.9,
                          "#4d9221"
                        ],
                        [
                          1,
                          "#276419"
                        ]
                      ],
                      "sequential": [
                        [
                          0,
                          "#0d0887"
                        ],
                        [
                          0.1111111111111111,
                          "#46039f"
                        ],
                        [
                          0.2222222222222222,
                          "#7201a8"
                        ],
                        [
                          0.3333333333333333,
                          "#9c179e"
                        ],
                        [
                          0.4444444444444444,
                          "#bd3786"
                        ],
                        [
                          0.5555555555555556,
                          "#d8576b"
                        ],
                        [
                          0.6666666666666666,
                          "#ed7953"
                        ],
                        [
                          0.7777777777777778,
                          "#fb9f3a"
                        ],
                        [
                          0.8888888888888888,
                          "#fdca26"
                        ],
                        [
                          1,
                          "#f0f921"
                        ]
                      ],
                      "sequentialminus": [
                        [
                          0,
                          "#0d0887"
                        ],
                        [
                          0.1111111111111111,
                          "#46039f"
                        ],
                        [
                          0.2222222222222222,
                          "#7201a8"
                        ],
                        [
                          0.3333333333333333,
                          "#9c179e"
                        ],
                        [
                          0.4444444444444444,
                          "#bd3786"
                        ],
                        [
                          0.5555555555555556,
                          "#d8576b"
                        ],
                        [
                          0.6666666666666666,
                          "#ed7953"
                        ],
                        [
                          0.7777777777777778,
                          "#fb9f3a"
                        ],
                        [
                          0.8888888888888888,
                          "#fdca26"
                        ],
                        [
                          1,
                          "#f0f921"
                        ]
                      ]
                    },
                    "colorway": [
                      "#636efa",
                      "#EF553B",
                      "#00cc96",
                      "#ab63fa",
                      "#FFA15A",
                      "#19d3f3",
                      "#FF6692",
                      "#B6E880",
                      "#FF97FF",
                      "#FECB52"
                    ],
                    "font": {
                      "color": "#2a3f5f"
                    },
                    "geo": {
                      "bgcolor": "white",
                      "lakecolor": "white",
                      "landcolor": "#E5ECF6",
                      "showlakes": true,
                      "showland": true,
                      "subunitcolor": "white"
                    },
                    "hoverlabel": {
                      "align": "left"
                    },
                    "hovermode": "closest",
                    "mapbox": {
                      "style": "light"
                    },
                    "paper_bgcolor": "white",
                    "plot_bgcolor": "#E5ECF6",
                    "polar": {
                      "angularaxis": {
                        "gridcolor": "white",
                        "linecolor": "white",
                        "ticks": ""
                      },
                      "bgcolor": "#E5ECF6",
                      "radialaxis": {
                        "gridcolor": "white",
                        "linecolor": "white",
                        "ticks": ""
                      }
                    },
                    "scene": {
                      "xaxis": {
                        "backgroundcolor": "#E5ECF6",
                        "gridcolor": "white",
                        "gridwidth": 2,
                        "linecolor": "white",
                        "showbackground": true,
                        "ticks": "",
                        "zerolinecolor": "white"
                      },
                      "yaxis": {
                        "backgroundcolor": "#E5ECF6",
                        "gridcolor": "white",
                        "gridwidth": 2,
                        "linecolor": "white",
                        "showbackground": true,
                        "ticks": "",
                        "zerolinecolor": "white"
                      },
                      "zaxis": {
                        "backgroundcolor": "#E5ECF6",
                        "gridcolor": "white",
                        "gridwidth": 2,
                        "linecolor": "white",
                        "showbackground": true,
                        "ticks": "",
                        "zerolinecolor": "white"
                      }
                    },
                    "shapedefaults": {
                      "line": {
                        "color": "#2a3f5f"
                      }
                    },
                    "ternary": {
                      "aaxis": {
                        "gridcolor": "white",
                        "linecolor": "white",
                        "ticks": ""
                      },
                      "baxis": {
                        "gridcolor": "white",
                        "linecolor": "white",
                        "ticks": ""
                      },
                      "bgcolor": "#E5ECF6",
                      "caxis": {
                        "gridcolor": "white",
                        "linecolor": "white",
                        "ticks": ""
                      }
                    },
                    "title": {
                      "x": 0.05
                    },
                    "xaxis": {
                      "automargin": true,
                      "gridcolor": "white",
                      "linecolor": "white",
                      "ticks": "",
                      "title": {
                        "standoff": 15
                      },
                      "zerolinecolor": "white",
                      "zerolinewidth": 2
                    },
                    "yaxis": {
                      "automargin": true,
                      "gridcolor": "white",
                      "linecolor": "white",
                      "ticks": "",
                      "title": {
                        "standoff": 15
                      },
                      "zerolinecolor": "white",
                      "zerolinewidth": 2
                    }
                  }
                },
                "title": {
                  "text": "Following vs Followers"
                },
                "xaxis": {
                  "title": {
                    "text": "Following"
                  }
                },
                "yaxis": {
                  "title": {
                    "text": "Followers"
                  }
                }
              }
            }
          },
          "metadata": {},
          "output_type": "display_data"
        }
      ],
      "source": [
        "df1=df.select(\n",
        "    pl.col(\"ID\"),\n",
        "    pl.col(\"Account handle\"),\n",
        "    pl.col(\"Following\"),\n",
        "    pl.col(\"Followers\")\n",
        ")\n",
        "\n",
        "import plotly.express as px\n",
        "import plotly.graph_objects as go\n",
        "\n",
        "# Create a scatter plot using Plotly\n",
        "fig = go.Figure(data=go.Scatter(\n",
        "    x=df['Following'],\n",
        "    y=df['Followers'],\n",
        "    mode='markers',\n",
        "    text=df['Account handle'],\n",
        "    hovertemplate='<b>%{text}</b><br>Following: %{x}<br>Followers: %{y}',\n",
        "    marker=dict(\n",
        "        size=10,\n",
        "        color='blue',\n",
        "        opacity=0.7,\n",
        "        line=dict(width=0.5, color='black')\n",
        "    )\n",
        "))\n",
        "\n",
        "# Customize the layout\n",
        "fig.update_layout(\n",
        "    title='Following vs Followers',\n",
        "    xaxis_title='Following',\n",
        "    yaxis_title='Followers',\n",
        "    hoverlabel=dict(bgcolor='white', font_size=12),\n",
        "    plot_bgcolor='white'\n",
        ")\n",
        "\n"
      ]
    },
    {
      "cell_type": "code",
      "execution_count": null,
      "metadata": {
        "id": "ocQIJeC_1wyC"
      },
      "outputs": [],
      "source": [
        "# Include only necessary columns\n",
        "df = df.select(\n",
        "    pl.col(\"ID\"),\n",
        "    pl.col(\"Tweet\"),\n",
        "    pl.col(\"Tweet Translated\").alias(\"Translated\")\n",
        ")"
      ]
    },
    {
      "cell_type": "code",
      "execution_count": null,
      "metadata": {},
      "outputs": [],
      "source": [
        "df"
      ]
    },
    {
      "cell_type": "code",
      "execution_count": null,
      "metadata": {},
      "outputs": [],
      "source": []
    },
    {
      "cell_type": "code",
      "execution_count": null,
      "metadata": {
        "id": "SEX6abSJ1zKJ"
      },
      "outputs": [],
      "source": [
        "# Change tweet case to lowercase\n",
        "df = df.select(\n",
        "    pl.all(),\n",
        "    pl.col(\"Translated\").apply(lambda tweet: tweet.lower()).alias(\"Clean\")\n",
        ")"
      ]
    },
    {
      "cell_type": "code",
      "execution_count": null,
      "metadata": {},
      "outputs": [],
      "source": [
        "df"
      ]
    },
    {
      "cell_type": "code",
      "execution_count": null,
      "metadata": {
        "id": "xxWn2UW4_WNr"
      },
      "outputs": [],
      "source": [
        "# Remove hashtags\n",
        "df = df.select(\n",
        "    pl.exclude(\"Clean\"),\n",
        "    pl.col(\"Clean\").apply(lambda tweet: re.sub(\"#(\\w+)\", '', tweet))\n",
        ")"
      ]
    },
    {
      "cell_type": "code",
      "execution_count": null,
      "metadata": {
        "id": "SN_0gMLh8HWz"
      },
      "outputs": [],
      "source": [
        "# Replace all emojis into interpretation\n",
        "def emoji_to_word(tweet):\n",
        "  for symbol, interpretation in demoji.findall(tweet).items():\n",
        "    interpretation = interpretation.lower()\n",
        "    # Turn flag: Philippines into flagphilippines \n",
        "    interpretation = re.sub('[^0-9a-z]+', '', interpretation)\n",
        "    # replace all emojis to \"emojiinterpretation \"\n",
        "    tweet = re.sub(symbol, interpretation+' ', tweet)\n",
        "  return tweet\n",
        "\n",
        "df = df.select(\n",
        "    pl.exclude(\"Clean\"),\n",
        "    pl.col(\"Clean\").apply(emoji_to_word)\n",
        ")"
      ]
    },
    {
      "cell_type": "code",
      "execution_count": null,
      "metadata": {
        "id": "VCfJ-Nqq7LD4"
      },
      "outputs": [],
      "source": [
        "# Remove non alphanumeric characters\n",
        "df = df.select(\n",
        "    pl.exclude(\"Clean\"),\n",
        "    pl.col(\"Clean\").apply(lambda tweet: re.sub('[^0-9a-z]+', ' ', tweet))\n",
        ")"
      ]
    },
    {
      "cell_type": "code",
      "execution_count": null,
      "metadata": {
        "id": "GSnfF1n210yx"
      },
      "outputs": [],
      "source": [
        "# Cast Tweets to word array instead of long string.\n",
        "df = df.select(\n",
        "    pl.all(),\n",
        "    pl.col(\"Clean\").apply(lambda tweet: tweet.split()).cast(pl.List(str)).alias(\"Tokenized\")\n",
        ")"
      ]
    },
    {
      "cell_type": "code",
      "execution_count": null,
      "metadata": {
        "colab": {
          "base_uri": "https://localhost:8080/",
          "height": 235
        },
        "id": "zGwZCcBN12QZ",
        "outputId": "ed5db31e-1f75-4119-94f8-a13b010beba6"
      },
      "outputs": [],
      "source": [
        "# Strip english stopwords\n",
        "df = df.select(\n",
        "    pl.all(),\n",
        "    pl.col(\"Tokenized\").arr.eval(pl.element().filter(~pl.element().is_in(ensw)), parallel=True).alias(\"Stopwords Removed\")\n",
        ")"
      ]
    },
    {
      "cell_type": "code",
      "execution_count": null,
      "metadata": {
        "id": "6sjGF58uBU36"
      },
      "outputs": [],
      "source": [
        "# Stem and Lemmatize.\n",
        "from nltk.stem import PorterStemmer, WordNetLemmatizer\n",
        "nltk.download('wordnet')\n",
        "# Initialize the stemmer and lemmatizer\n",
        "stemmer = PorterStemmer()\n",
        "lemmatizer = WordNetLemmatizer()\n",
        "\n",
        "df = df.select(\n",
        "    pl.all(),\n",
        "    pl.col(\"Stopwords Removed\").apply(lambda words: [stemmer.stem(word) for word in words.to_list()]).alias(\"Stemmed\"),\n",
        "    pl.col(\"Stopwords Removed\").apply(lambda words: [lemmatizer.lemmatize(word) for word in words.to_list()]).alias(\"Lemmatized\")\n",
        ")"
      ]
    },
    {
      "cell_type": "code",
      "execution_count": null,
      "metadata": {
        "colab": {
          "base_uri": "https://localhost:8080/"
        },
        "id": "GGcYfwPM16OT",
        "outputId": "e8a94e34-0e8e-4f00-c4c0-7ba64d5f3480"
      },
      "outputs": [],
      "source": [
        "print(df)\n",
        "def serialize(arr):\n",
        "  return \" \".join(arr)\n",
        "df_serialized = df.select(\n",
        "    pl.col(\"ID\"),\n",
        "    pl.col(\"Tweet\"),\n",
        "    pl.col(\"Translated\"),\n",
        "    pl.col(\"Clean\"),\n",
        "    pl.col(\"Tokenized\").apply(serialize).cast(str),\n",
        "    pl.col(\"Stopwords Removed\").apply(serialize).cast(str),\n",
        "    pl.col(\"Stemmed\").apply(serialize).cast(str),\n",
        "    pl.col(\"Lemmatized\").apply(serialize).cast(str)\n",
        ")\n",
        "df_serialized.write_csv(\"clean.csv\")"
      ]
    }
  ],
  "metadata": {
    "colab": {
      "provenance": []
    },
    "kernelspec": {
      "display_name": "Python 3",
      "name": "python3"
    },
    "language_info": {
      "codemirror_mode": {
        "name": "ipython",
        "version": 3
      },
      "file_extension": ".py",
      "mimetype": "text/x-python",
      "name": "python",
      "nbconvert_exporter": "python",
      "pygments_lexer": "ipython3",
      "version": "3.11.3"
    }
  },
  "nbformat": 4,
  "nbformat_minor": 0
}
