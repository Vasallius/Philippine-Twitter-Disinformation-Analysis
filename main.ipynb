{
  "cells": [
    {
      "cell_type": "code",
      "execution_count": 411,
      "metadata": {
        "colab": {
          "base_uri": "https://localhost:8080/",
          "height": 339
        },
        "id": "XYchABerxjX_",
        "outputId": "351e7917-9d85-4370-f808-801acdaf63c4"
      },
      "outputs": [],
      "source": [
        "import polars as pl\n",
        "from nltk.corpus import stopwords\n",
        "import nltk\n",
        "import re\n",
        "import demoji"
      ]
    },
    {
      "cell_type": "code",
      "execution_count": 412,
      "metadata": {
        "id": "PwhDSfdD1e3R"
      },
      "outputs": [
        {
          "name": "stderr",
          "output_type": "stream",
          "text": [
            "[nltk_data] Downloading package stopwords to\n",
            "[nltk_data]     C:\\Users\\helpkreios\\AppData\\Roaming\\nltk_data...\n",
            "[nltk_data]   Package stopwords is already up-to-date!\n"
          ]
        }
      ],
      "source": [
        "# Load Stopwords and the dataset\n",
        "nltk.download('stopwords')\n",
        "ensw = stopwords.words('english')\n",
        "\n",
        "df = pl.read_csv(\"Complete_Data.csv\")\n"
      ]
    },
    {
      "attachments": {},
      "cell_type": "markdown",
      "metadata": {},
      "source": [
        "## Data Exploration\n",
        "\n",
        "For the first step, we wanted to re-format the `ID` section of the data set to remove the leading zeroes."
      ]
    },
    {
      "cell_type": "code",
      "execution_count": 413,
      "metadata": {
        "id": "fiOIL7641mOy"
      },
      "outputs": [],
      "source": [
        "# Clean ID Part\n",
        "df = df.select([\n",
        "    pl.col(\"ID\").apply(lambda id: id.split(\"-\")[1]).cast(pl.Int32),\n",
        "    pl.exclude(\"ID\")\n",
        "])\n",
        "\n"
      ]
    },
    {
      "attachments": {},
      "cell_type": "markdown",
      "metadata": {},
      "source": [
        "Next up, we will be making sure that our dataset only contains rows that have data on both the `Tweet`  and  `Tweet Url` column"
      ]
    },
    {
      "cell_type": "code",
      "execution_count": 414,
      "metadata": {
        "id": "Q6wB0hFB1uhS"
      },
      "outputs": [],
      "source": [
        "# Remove rows without tweet AND tweet URL\n",
        "df = df.filter(pl.col(\"Tweet\").is_not_null() & pl.col(\"Tweet URL\").is_not_null())\n"
      ]
    },
    {
      "attachments": {},
      "cell_type": "markdown",
      "metadata": {},
      "source": [
        "Since, the following columns: `Location`, `Account bio`, `Group`, `Collector`, `Category`, `Screenshot`, `Rating`, `Reasoning`, `Remarks`, `Reviewer`, `Views`, and `Review` are not needed, we will be removing them.\n",
        "\n"
      ]
    },
    {
      "cell_type": "code",
      "execution_count": 415,
      "metadata": {},
      "outputs": [],
      "source": [
        "df = df.drop(['Location', 'Account bio', 'Group','Collector', 'Category','Keywords','Rating','Reasoning', 'Remarks','Reviewer','Review', 'Screenshot', 'Views'])  # Drop multiple columns\n"
      ]
    },
    {
      "attachments": {},
      "cell_type": "markdown",
      "metadata": {},
      "source": [
        "We will now be checking how big our dataset is. We do this by checking `df.shape` This revealed that we have 153 unique rows to work with. However, we have some entries that have a null value. To handle this we need to check whether we can replace the null value with a value otherwise we need to fill that up. In the `Content type` column which is categoric column, we cannot simply do this. Hence, I will be reviewing the dataset and input the values manually and importing it again. On the other hand, engagement metrics that are null we can safely set to `0`. "
      ]
    },
    {
      "cell_type": "code",
      "execution_count": 416,
      "metadata": {},
      "outputs": [],
      "source": [
        "df = df.fill_null(0)\n"
      ]
    },
    {
      "attachments": {},
      "cell_type": "markdown",
      "metadata": {},
      "source": [
        "Let's now explore some relations between the data using scatterplots! We will plot `Followers` against `Followers` to see what kind of accounts usually tweet disinformation. Here we can see there is a huge cluster of accounts that have relatively high following vs their amount of followers."
      ]
    },
    {
      "cell_type": "code",
      "execution_count": 417,
      "metadata": {},
      "outputs": [
        {
          "data": {
            "application/vnd.plotly.v1+json": {
              "config": {
                "plotlyServerURL": "https://plot.ly"
              },
              "data": [
                {
                  "hovertemplate": "<b>%{text}</b><br>Following: %{x}<br>Followers: %{y}",
                  "marker": {
                    "color": "blue",
                    "line": {
                      "color": "black",
                      "width": 0.5
                    },
                    "opacity": 0.7,
                    "size": 10
                  },
                  "mode": "markers",
                  "name": "Identified",
                  "text": [
                    "@ItsJamMagno",
                    "@LelangmoVlogger",
                    "@iskonglasalista",
                    "@mendozadino",
                    "@iskonglasalista",
                    "@PManejr",
                    "@iskonglasalista",
                    "@jassyangeli",
                    "@jassyangeli",
                    "@iskonglasalista",
                    "@H4L0H4L0",
                    "@iskonglasalita",
                    "@Altesing_Manny",
                    "@iskonglasalista",
                    "@rhan_duke",
                    "@ementriboychoi",
                    "@iammarkgarcia_",
                    "@jbrsamonte",
                    "@ace_on_airrr",
                    "@thebossEFRAIM",
                    "@iam_joshua_bc17",
                    "@jamesparmis",
                    "@Valenzuela_Jeff",
                    "@Smartteaser192",
                    "@babeline7",
                    "@anazachia",
                    "@apolinarcespos",
                    "@teriyo",
                    "@iskonglasalista",
                    "@PulbuRonn",
                    "@marortoll",
                    "@iskonglasalista",
                    "@sycipft",
                    "@sycipft",
                    "@marortoll",
                    "@marredroyalty",
                    "@sycipft",
                    "@sycipft",
                    "@teriyo",
                    "@PulbuRonn"
                  ],
                  "type": "scatter",
                  "x": [
                    0,
                    430,
                    2568,
                    260,
                    2568,
                    1060,
                    2568,
                    185,
                    185,
                    2568,
                    61,
                    2568,
                    562,
                    2568,
                    470,
                    43,
                    1167,
                    132,
                    187,
                    271,
                    2099,
                    711,
                    253,
                    5007,
                    89,
                    133,
                    2001,
                    4510,
                    2561,
                    144,
                    721,
                    2561,
                    522,
                    522,
                    721,
                    2470,
                    522,
                    522,
                    4510,
                    144
                  ],
                  "y": [
                    76100,
                    257,
                    6097,
                    37,
                    6097,
                    136,
                    6097,
                    57,
                    57,
                    6097,
                    10,
                    6096,
                    406,
                    6096,
                    52,
                    85,
                    5759,
                    304,
                    212,
                    31,
                    2338,
                    1044,
                    165,
                    547,
                    21,
                    8,
                    1248,
                    1711,
                    6064,
                    3766,
                    11000,
                    6064,
                    260,
                    260,
                    11000,
                    2169,
                    260,
                    260,
                    1710,
                    3766
                  ]
                },
                {
                  "hovertemplate": "<b>%{text}</b><br>Following: %{x}<br>Followers: %{y}",
                  "marker": {
                    "color": "orange",
                    "line": {
                      "color": "black",
                      "width": 0.5
                    },
                    "opacity": 0.7,
                    "size": 10
                  },
                  "mode": "markers",
                  "name": "Media",
                  "text": [
                    "@1dugoph",
                    "@newspaperphcom"
                  ],
                  "type": "scatter",
                  "x": [
                    8,
                    964
                  ],
                  "y": [
                    3,
                    159
                  ]
                },
                {
                  "hovertemplate": "<b>%{text}</b><br>Following: %{x}<br>Followers: %{y}",
                  "marker": {
                    "color": "red",
                    "line": {
                      "color": "black",
                      "width": 0.5
                    },
                    "opacity": 0.7,
                    "size": 10
                  },
                  "mode": "markers",
                  "name": "Anonymous",
                  "text": [
                    "@arthur_vee",
                    "@Brad_Kardinal",
                    "@WinwinEklabu",
                    "@cierloX6",
                    "@dTnalakRiderSR",
                    "@SLaKaTor",
                    "@JVMombay",
                    "@krameoj2",
                    "@Hyden007Toro",
                    "@hitman531ph",
                    "@Hyden007Toro",
                    "@ArianaCharice",
                    "@Whatsupjess1",
                    "@gerrydeleo",
                    "@nhoy2011",
                    "@Whatsupjess1",
                    "@JurisImmanuel",
                    "@FilCitizenPH",
                    "@AnlaboTsong",
                    "@alden_chua",
                    "@TheSmilingBOW",
                    "@MalaChinaPalace",
                    "@micashan",
                    "@gigaigurlmd",
                    "@matansero12886",
                    "@Ztirf17",
                    "@loloromatu",
                    "@Edelwei8",
                    "@osolge2665",
                    "@Fred_1222",
                    "@SamuraiKatipun",
                    "@blackkn05858615",
                    "@SethTojon",
                    "@marredroyalty",
                    "@marredroyalty",
                    "@AliKyle14",
                    "@sonycuerdo",
                    "@thirteenLexa",
                    "@ronald4eternity",
                    "@rom40800032",
                    "@PinasAngInaNyo",
                    "@marredroyalty",
                    "@yellowzingers1",
                    "@jaby111219",
                    "@WinwinEklabu",
                    "@Martina40290987",
                    "@KenesuMiko",
                    "@saylothe",
                    "@dreamy_eyes0",
                    "@AldreanNavarro",
                    "@senall83",
                    "@Hades_alexis",
                    "@jonnelcardano",
                    "@tapatnapilipino",
                    "@emvisi",
                    "@emvisi",
                    "@tapatnapilipino",
                    "@aizenrei20",
                    "@lynmadrid2017",
                    "@Deemcma76111219",
                    "@http_brent22",
                    "@Spankmerigor",
                    "@Deemcma76111219",
                    "@TishaCM",
                    "@AngAkinLangNman",
                    "@abet023",
                    "@ddaengseul",
                    "@gaudz1948",
                    "@Ur_Supermhay",
                    "@ZunRa",
                    "@alden_chua",
                    "@AbsoluteroC",
                    "@fu_rher_",
                    "@YolandaQueens",
                    "@pinoyanghang",
                    "@jemsenpai30",
                    "@zhandy_77",
                    "@olpips",
                    "@imnotyomom",
                    "@AtokPascua",
                    "@philwayne88",
                    "@arogante_ka_tse",
                    "@WordsinMyMind5",
                    "@Runel24947326",
                    "@1vic2r310",
                    "@Domingo31356729",
                    "@BryanLapez",
                    "@ManuelM73700324",
                    "@BrujaDelDemonio",
                    "@SiiniGeng",
                    "@Rosmar_Masarap",
                    "@liaoericph",
                    "@rumflan60",
                    "@allain_z",
                    "@msuniversemimi",
                    "@Yelle007",
                    "@ShnFrncsc01",
                    "@cinecinecine30",
                    "@kotomba431C",
                    "@TheDoctorLuck",
                    "@Paps_Caloy",
                    "@DontTryMeTsk",
                    "@DodongPags",
                    "@DinoMacaldo",
                    "@roumelle_p",
                    "@theguru91010011",
                    "@MDSOnwardPH22",
                    "@bivoc1",
                    "@ManolitoMantal2",
                    "@thatsthetweet00"
                  ],
                  "type": "scatter",
                  "x": [
                    2767,
                    1787,
                    6462,
                    542,
                    1519,
                    481,
                    16,
                    481,
                    179,
                    312,
                    179,
                    2229,
                    127,
                    414,
                    175,
                    127,
                    446,
                    47,
                    575,
                    268,
                    239,
                    504,
                    606,
                    689,
                    95,
                    63,
                    43,
                    685,
                    279,
                    122,
                    657,
                    929,
                    78,
                    2475,
                    2475,
                    13,
                    16,
                    237,
                    331,
                    47,
                    716,
                    2475,
                    459,
                    25,
                    6462,
                    18,
                    10,
                    30,
                    1269,
                    317,
                    1222,
                    2491,
                    89,
                    58,
                    295,
                    295,
                    58,
                    121,
                    17,
                    190,
                    362,
                    292,
                    190,
                    434,
                    369,
                    648,
                    58,
                    340,
                    61,
                    806,
                    268,
                    2,
                    61,
                    779,
                    1165,
                    287,
                    9,
                    785,
                    1394,
                    745,
                    88,
                    2153,
                    149,
                    212,
                    27,
                    104,
                    30,
                    683,
                    362,
                    1555,
                    47,
                    586,
                    3952,
                    1078,
                    384,
                    1723,
                    405,
                    150,
                    2042,
                    8035,
                    1710,
                    2814,
                    2314,
                    16,
                    14,
                    698,
                    7966,
                    5,
                    20,
                    2032
                  ],
                  "y": [
                    4255,
                    2067,
                    7082,
                    532,
                    3275,
                    252,
                    5,
                    432,
                    6,
                    5405,
                    6,
                    1909,
                    3,
                    533,
                    21,
                    3,
                    551,
                    50,
                    13900,
                    487,
                    243,
                    191,
                    124,
                    753,
                    22,
                    2,
                    6,
                    383,
                    272,
                    52,
                    502,
                    893,
                    71,
                    2171,
                    2171,
                    1,
                    2,
                    41,
                    176,
                    0,
                    785,
                    2171,
                    63,
                    8,
                    7082,
                    2,
                    5,
                    1256,
                    123,
                    539,
                    105,
                    186,
                    46,
                    315,
                    162,
                    162,
                    315,
                    12,
                    6,
                    436,
                    177,
                    63,
                    436,
                    27900,
                    490,
                    42,
                    517,
                    126,
                    1614,
                    773,
                    482,
                    0,
                    75,
                    44,
                    53000,
                    44,
                    85,
                    618,
                    732,
                    879,
                    83,
                    788,
                    17,
                    127,
                    1,
                    25,
                    17,
                    680,
                    24000,
                    1950,
                    441,
                    181,
                    3746,
                    758,
                    202,
                    1571,
                    422,
                    1620,
                    2093,
                    20000,
                    13600,
                    3724,
                    1667,
                    0,
                    2,
                    490,
                    12300,
                    0,
                    12,
                    1117
                  ]
                }
              ],
              "layout": {
                "hoverlabel": {
                  "bgcolor": "white",
                  "font": {
                    "size": 12
                  }
                },
                "legend": {
                  "title": {
                    "text": "Account Type"
                  }
                },
                "plot_bgcolor": "white",
                "template": {
                  "data": {
                    "bar": [
                      {
                        "error_x": {
                          "color": "#2a3f5f"
                        },
                        "error_y": {
                          "color": "#2a3f5f"
                        },
                        "marker": {
                          "line": {
                            "color": "#E5ECF6",
                            "width": 0.5
                          },
                          "pattern": {
                            "fillmode": "overlay",
                            "size": 10,
                            "solidity": 0.2
                          }
                        },
                        "type": "bar"
                      }
                    ],
                    "barpolar": [
                      {
                        "marker": {
                          "line": {
                            "color": "#E5ECF6",
                            "width": 0.5
                          },
                          "pattern": {
                            "fillmode": "overlay",
                            "size": 10,
                            "solidity": 0.2
                          }
                        },
                        "type": "barpolar"
                      }
                    ],
                    "carpet": [
                      {
                        "aaxis": {
                          "endlinecolor": "#2a3f5f",
                          "gridcolor": "white",
                          "linecolor": "white",
                          "minorgridcolor": "white",
                          "startlinecolor": "#2a3f5f"
                        },
                        "baxis": {
                          "endlinecolor": "#2a3f5f",
                          "gridcolor": "white",
                          "linecolor": "white",
                          "minorgridcolor": "white",
                          "startlinecolor": "#2a3f5f"
                        },
                        "type": "carpet"
                      }
                    ],
                    "choropleth": [
                      {
                        "colorbar": {
                          "outlinewidth": 0,
                          "ticks": ""
                        },
                        "type": "choropleth"
                      }
                    ],
                    "contour": [
                      {
                        "colorbar": {
                          "outlinewidth": 0,
                          "ticks": ""
                        },
                        "colorscale": [
                          [
                            0,
                            "#0d0887"
                          ],
                          [
                            0.1111111111111111,
                            "#46039f"
                          ],
                          [
                            0.2222222222222222,
                            "#7201a8"
                          ],
                          [
                            0.3333333333333333,
                            "#9c179e"
                          ],
                          [
                            0.4444444444444444,
                            "#bd3786"
                          ],
                          [
                            0.5555555555555556,
                            "#d8576b"
                          ],
                          [
                            0.6666666666666666,
                            "#ed7953"
                          ],
                          [
                            0.7777777777777778,
                            "#fb9f3a"
                          ],
                          [
                            0.8888888888888888,
                            "#fdca26"
                          ],
                          [
                            1,
                            "#f0f921"
                          ]
                        ],
                        "type": "contour"
                      }
                    ],
                    "contourcarpet": [
                      {
                        "colorbar": {
                          "outlinewidth": 0,
                          "ticks": ""
                        },
                        "type": "contourcarpet"
                      }
                    ],
                    "heatmap": [
                      {
                        "colorbar": {
                          "outlinewidth": 0,
                          "ticks": ""
                        },
                        "colorscale": [
                          [
                            0,
                            "#0d0887"
                          ],
                          [
                            0.1111111111111111,
                            "#46039f"
                          ],
                          [
                            0.2222222222222222,
                            "#7201a8"
                          ],
                          [
                            0.3333333333333333,
                            "#9c179e"
                          ],
                          [
                            0.4444444444444444,
                            "#bd3786"
                          ],
                          [
                            0.5555555555555556,
                            "#d8576b"
                          ],
                          [
                            0.6666666666666666,
                            "#ed7953"
                          ],
                          [
                            0.7777777777777778,
                            "#fb9f3a"
                          ],
                          [
                            0.8888888888888888,
                            "#fdca26"
                          ],
                          [
                            1,
                            "#f0f921"
                          ]
                        ],
                        "type": "heatmap"
                      }
                    ],
                    "heatmapgl": [
                      {
                        "colorbar": {
                          "outlinewidth": 0,
                          "ticks": ""
                        },
                        "colorscale": [
                          [
                            0,
                            "#0d0887"
                          ],
                          [
                            0.1111111111111111,
                            "#46039f"
                          ],
                          [
                            0.2222222222222222,
                            "#7201a8"
                          ],
                          [
                            0.3333333333333333,
                            "#9c179e"
                          ],
                          [
                            0.4444444444444444,
                            "#bd3786"
                          ],
                          [
                            0.5555555555555556,
                            "#d8576b"
                          ],
                          [
                            0.6666666666666666,
                            "#ed7953"
                          ],
                          [
                            0.7777777777777778,
                            "#fb9f3a"
                          ],
                          [
                            0.8888888888888888,
                            "#fdca26"
                          ],
                          [
                            1,
                            "#f0f921"
                          ]
                        ],
                        "type": "heatmapgl"
                      }
                    ],
                    "histogram": [
                      {
                        "marker": {
                          "pattern": {
                            "fillmode": "overlay",
                            "size": 10,
                            "solidity": 0.2
                          }
                        },
                        "type": "histogram"
                      }
                    ],
                    "histogram2d": [
                      {
                        "colorbar": {
                          "outlinewidth": 0,
                          "ticks": ""
                        },
                        "colorscale": [
                          [
                            0,
                            "#0d0887"
                          ],
                          [
                            0.1111111111111111,
                            "#46039f"
                          ],
                          [
                            0.2222222222222222,
                            "#7201a8"
                          ],
                          [
                            0.3333333333333333,
                            "#9c179e"
                          ],
                          [
                            0.4444444444444444,
                            "#bd3786"
                          ],
                          [
                            0.5555555555555556,
                            "#d8576b"
                          ],
                          [
                            0.6666666666666666,
                            "#ed7953"
                          ],
                          [
                            0.7777777777777778,
                            "#fb9f3a"
                          ],
                          [
                            0.8888888888888888,
                            "#fdca26"
                          ],
                          [
                            1,
                            "#f0f921"
                          ]
                        ],
                        "type": "histogram2d"
                      }
                    ],
                    "histogram2dcontour": [
                      {
                        "colorbar": {
                          "outlinewidth": 0,
                          "ticks": ""
                        },
                        "colorscale": [
                          [
                            0,
                            "#0d0887"
                          ],
                          [
                            0.1111111111111111,
                            "#46039f"
                          ],
                          [
                            0.2222222222222222,
                            "#7201a8"
                          ],
                          [
                            0.3333333333333333,
                            "#9c179e"
                          ],
                          [
                            0.4444444444444444,
                            "#bd3786"
                          ],
                          [
                            0.5555555555555556,
                            "#d8576b"
                          ],
                          [
                            0.6666666666666666,
                            "#ed7953"
                          ],
                          [
                            0.7777777777777778,
                            "#fb9f3a"
                          ],
                          [
                            0.8888888888888888,
                            "#fdca26"
                          ],
                          [
                            1,
                            "#f0f921"
                          ]
                        ],
                        "type": "histogram2dcontour"
                      }
                    ],
                    "mesh3d": [
                      {
                        "colorbar": {
                          "outlinewidth": 0,
                          "ticks": ""
                        },
                        "type": "mesh3d"
                      }
                    ],
                    "parcoords": [
                      {
                        "line": {
                          "colorbar": {
                            "outlinewidth": 0,
                            "ticks": ""
                          }
                        },
                        "type": "parcoords"
                      }
                    ],
                    "pie": [
                      {
                        "automargin": true,
                        "type": "pie"
                      }
                    ],
                    "scatter": [
                      {
                        "fillpattern": {
                          "fillmode": "overlay",
                          "size": 10,
                          "solidity": 0.2
                        },
                        "type": "scatter"
                      }
                    ],
                    "scatter3d": [
                      {
                        "line": {
                          "colorbar": {
                            "outlinewidth": 0,
                            "ticks": ""
                          }
                        },
                        "marker": {
                          "colorbar": {
                            "outlinewidth": 0,
                            "ticks": ""
                          }
                        },
                        "type": "scatter3d"
                      }
                    ],
                    "scattercarpet": [
                      {
                        "marker": {
                          "colorbar": {
                            "outlinewidth": 0,
                            "ticks": ""
                          }
                        },
                        "type": "scattercarpet"
                      }
                    ],
                    "scattergeo": [
                      {
                        "marker": {
                          "colorbar": {
                            "outlinewidth": 0,
                            "ticks": ""
                          }
                        },
                        "type": "scattergeo"
                      }
                    ],
                    "scattergl": [
                      {
                        "marker": {
                          "colorbar": {
                            "outlinewidth": 0,
                            "ticks": ""
                          }
                        },
                        "type": "scattergl"
                      }
                    ],
                    "scattermapbox": [
                      {
                        "marker": {
                          "colorbar": {
                            "outlinewidth": 0,
                            "ticks": ""
                          }
                        },
                        "type": "scattermapbox"
                      }
                    ],
                    "scatterpolar": [
                      {
                        "marker": {
                          "colorbar": {
                            "outlinewidth": 0,
                            "ticks": ""
                          }
                        },
                        "type": "scatterpolar"
                      }
                    ],
                    "scatterpolargl": [
                      {
                        "marker": {
                          "colorbar": {
                            "outlinewidth": 0,
                            "ticks": ""
                          }
                        },
                        "type": "scatterpolargl"
                      }
                    ],
                    "scatterternary": [
                      {
                        "marker": {
                          "colorbar": {
                            "outlinewidth": 0,
                            "ticks": ""
                          }
                        },
                        "type": "scatterternary"
                      }
                    ],
                    "surface": [
                      {
                        "colorbar": {
                          "outlinewidth": 0,
                          "ticks": ""
                        },
                        "colorscale": [
                          [
                            0,
                            "#0d0887"
                          ],
                          [
                            0.1111111111111111,
                            "#46039f"
                          ],
                          [
                            0.2222222222222222,
                            "#7201a8"
                          ],
                          [
                            0.3333333333333333,
                            "#9c179e"
                          ],
                          [
                            0.4444444444444444,
                            "#bd3786"
                          ],
                          [
                            0.5555555555555556,
                            "#d8576b"
                          ],
                          [
                            0.6666666666666666,
                            "#ed7953"
                          ],
                          [
                            0.7777777777777778,
                            "#fb9f3a"
                          ],
                          [
                            0.8888888888888888,
                            "#fdca26"
                          ],
                          [
                            1,
                            "#f0f921"
                          ]
                        ],
                        "type": "surface"
                      }
                    ],
                    "table": [
                      {
                        "cells": {
                          "fill": {
                            "color": "#EBF0F8"
                          },
                          "line": {
                            "color": "white"
                          }
                        },
                        "header": {
                          "fill": {
                            "color": "#C8D4E3"
                          },
                          "line": {
                            "color": "white"
                          }
                        },
                        "type": "table"
                      }
                    ]
                  },
                  "layout": {
                    "annotationdefaults": {
                      "arrowcolor": "#2a3f5f",
                      "arrowhead": 0,
                      "arrowwidth": 1
                    },
                    "autotypenumbers": "strict",
                    "coloraxis": {
                      "colorbar": {
                        "outlinewidth": 0,
                        "ticks": ""
                      }
                    },
                    "colorscale": {
                      "diverging": [
                        [
                          0,
                          "#8e0152"
                        ],
                        [
                          0.1,
                          "#c51b7d"
                        ],
                        [
                          0.2,
                          "#de77ae"
                        ],
                        [
                          0.3,
                          "#f1b6da"
                        ],
                        [
                          0.4,
                          "#fde0ef"
                        ],
                        [
                          0.5,
                          "#f7f7f7"
                        ],
                        [
                          0.6,
                          "#e6f5d0"
                        ],
                        [
                          0.7,
                          "#b8e186"
                        ],
                        [
                          0.8,
                          "#7fbc41"
                        ],
                        [
                          0.9,
                          "#4d9221"
                        ],
                        [
                          1,
                          "#276419"
                        ]
                      ],
                      "sequential": [
                        [
                          0,
                          "#0d0887"
                        ],
                        [
                          0.1111111111111111,
                          "#46039f"
                        ],
                        [
                          0.2222222222222222,
                          "#7201a8"
                        ],
                        [
                          0.3333333333333333,
                          "#9c179e"
                        ],
                        [
                          0.4444444444444444,
                          "#bd3786"
                        ],
                        [
                          0.5555555555555556,
                          "#d8576b"
                        ],
                        [
                          0.6666666666666666,
                          "#ed7953"
                        ],
                        [
                          0.7777777777777778,
                          "#fb9f3a"
                        ],
                        [
                          0.8888888888888888,
                          "#fdca26"
                        ],
                        [
                          1,
                          "#f0f921"
                        ]
                      ],
                      "sequentialminus": [
                        [
                          0,
                          "#0d0887"
                        ],
                        [
                          0.1111111111111111,
                          "#46039f"
                        ],
                        [
                          0.2222222222222222,
                          "#7201a8"
                        ],
                        [
                          0.3333333333333333,
                          "#9c179e"
                        ],
                        [
                          0.4444444444444444,
                          "#bd3786"
                        ],
                        [
                          0.5555555555555556,
                          "#d8576b"
                        ],
                        [
                          0.6666666666666666,
                          "#ed7953"
                        ],
                        [
                          0.7777777777777778,
                          "#fb9f3a"
                        ],
                        [
                          0.8888888888888888,
                          "#fdca26"
                        ],
                        [
                          1,
                          "#f0f921"
                        ]
                      ]
                    },
                    "colorway": [
                      "#636efa",
                      "#EF553B",
                      "#00cc96",
                      "#ab63fa",
                      "#FFA15A",
                      "#19d3f3",
                      "#FF6692",
                      "#B6E880",
                      "#FF97FF",
                      "#FECB52"
                    ],
                    "font": {
                      "color": "#2a3f5f"
                    },
                    "geo": {
                      "bgcolor": "white",
                      "lakecolor": "white",
                      "landcolor": "#E5ECF6",
                      "showlakes": true,
                      "showland": true,
                      "subunitcolor": "white"
                    },
                    "hoverlabel": {
                      "align": "left"
                    },
                    "hovermode": "closest",
                    "mapbox": {
                      "style": "light"
                    },
                    "paper_bgcolor": "white",
                    "plot_bgcolor": "#E5ECF6",
                    "polar": {
                      "angularaxis": {
                        "gridcolor": "white",
                        "linecolor": "white",
                        "ticks": ""
                      },
                      "bgcolor": "#E5ECF6",
                      "radialaxis": {
                        "gridcolor": "white",
                        "linecolor": "white",
                        "ticks": ""
                      }
                    },
                    "scene": {
                      "xaxis": {
                        "backgroundcolor": "#E5ECF6",
                        "gridcolor": "white",
                        "gridwidth": 2,
                        "linecolor": "white",
                        "showbackground": true,
                        "ticks": "",
                        "zerolinecolor": "white"
                      },
                      "yaxis": {
                        "backgroundcolor": "#E5ECF6",
                        "gridcolor": "white",
                        "gridwidth": 2,
                        "linecolor": "white",
                        "showbackground": true,
                        "ticks": "",
                        "zerolinecolor": "white"
                      },
                      "zaxis": {
                        "backgroundcolor": "#E5ECF6",
                        "gridcolor": "white",
                        "gridwidth": 2,
                        "linecolor": "white",
                        "showbackground": true,
                        "ticks": "",
                        "zerolinecolor": "white"
                      }
                    },
                    "shapedefaults": {
                      "line": {
                        "color": "#2a3f5f"
                      }
                    },
                    "ternary": {
                      "aaxis": {
                        "gridcolor": "white",
                        "linecolor": "white",
                        "ticks": ""
                      },
                      "baxis": {
                        "gridcolor": "white",
                        "linecolor": "white",
                        "ticks": ""
                      },
                      "bgcolor": "#E5ECF6",
                      "caxis": {
                        "gridcolor": "white",
                        "linecolor": "white",
                        "ticks": ""
                      }
                    },
                    "title": {
                      "x": 0.05
                    },
                    "xaxis": {
                      "automargin": true,
                      "gridcolor": "white",
                      "linecolor": "white",
                      "ticks": "",
                      "title": {
                        "standoff": 15
                      },
                      "zerolinecolor": "white",
                      "zerolinewidth": 2
                    },
                    "yaxis": {
                      "automargin": true,
                      "gridcolor": "white",
                      "linecolor": "white",
                      "ticks": "",
                      "title": {
                        "standoff": 15
                      },
                      "zerolinecolor": "white",
                      "zerolinewidth": 2
                    }
                  }
                },
                "title": {
                  "text": "Following vs Followers"
                },
                "xaxis": {
                  "title": {
                    "text": "Following"
                  }
                },
                "yaxis": {
                  "title": {
                    "text": "Followers"
                  }
                }
              }
            }
          },
          "metadata": {},
          "output_type": "display_data"
        }
      ],
      "source": [
        "df1=df.select(\n",
        "    pl.col(\"ID\"),\n",
        "    pl.col(\"Account handle\"),\n",
        "    pl.col(\"Following\"),\n",
        "    pl.col(\"Followers\"),\n",
        "    pl.col(\"Account type\").str.strip(),\n",
        ")\n",
        "\n",
        "colors = {\n",
        "    'Identified': 'blue',\n",
        "    'Media': 'orange',\n",
        "    'Anonymous': 'red'\n",
        "}\n",
        "\n",
        "import plotly.express as px\n",
        "import plotly.graph_objects as go\n",
        "\n",
        "fig = go.Figure()\n",
        "\n",
        "for account_type, color in colors.items():\n",
        "    filtered_df = df.filter(pl.col('Account type') == account_type)\n",
        "    fig.add_trace(go.Scatter(\n",
        "        x=filtered_df['Following'],\n",
        "        y=filtered_df['Followers'],\n",
        "        mode='markers',\n",
        "        text=filtered_df['Account handle'],\n",
        "        hovertemplate='<b>%{text}</b><br>Following: %{x}<br>Followers: %{y}',\n",
        "        marker=dict(\n",
        "            size=10,\n",
        "            color=color,\n",
        "            opacity=0.7,\n",
        "            line=dict(width=0.5, color='black')\n",
        "        ),\n",
        "        name=account_type  # Specify the name for each trace\n",
        "    ))\n",
        "\n",
        "# Customize the layout\n",
        "fig.update_layout(\n",
        "    title='Following vs Followers',\n",
        "    xaxis_title='Following',\n",
        "    yaxis_title='Followers',\n",
        "    hoverlabel=dict(bgcolor='white', font_size=12),\n",
        "    plot_bgcolor='white',\n",
        "    legend_title='Account Type'\n",
        ")\n",
        "\n",
        "\n"
      ]
    },
    {
      "attachments": {},
      "cell_type": "markdown",
      "metadata": {},
      "source": []
    },
    {
      "cell_type": "code",
      "execution_count": 418,
      "metadata": {},
      "outputs": [],
      "source": [
        "import polars as pl\n",
        "import matplotlib.pyplot as plt\n",
        "import seaborn as sns\n",
        "\n",
        "df2 = df.select(\n",
        "    pl.col(\"Followers\"),\n",
        "    pl.col(\"Likes\"),\n",
        "    pl.col(\"Replies\"),\n",
        "    pl.col(\"Retweets\"),\n",
        "    pl.col(\"Quote Tweets\")\n",
        ")\n",
        "\n",
        "\n",
        "\n",
        "\n"
      ]
    },
    {
      "attachments": {},
      "cell_type": "markdown",
      "metadata": {},
      "source": [
        "Let's now explore some correlations between the numerical data using heatmap! Here darker color shows a stronger negative correlation while bright colors shows a stronger positive correlation."
      ]
    },
    {
      "cell_type": "code",
      "execution_count": 419,
      "metadata": {},
      "outputs": [
        {
          "data": {
            "image/png": "[encoded data removed]",
            "text/plain": [
              "<Figure size 800x600 with 2 Axes>"
            ]
          },
          "metadata": {},
          "output_type": "display_data"
        }
      ],
      "source": [
        "# Compute the correlation matrix\n",
        "corr_matrix = df2.to_pandas().corr()\n",
        "\n",
        "# Visualize the correlation matrix as a heatmap\n",
        "plt.figure(figsize=(8, 6))\n",
        "plt.title(\"Correlation Heatmap\")\n",
        "sns.heatmap(corr_matrix, annot=True, cmap=\"viridis\")\n",
        "plt.show()"
      ]
    },
    {
      "attachments": {},
      "cell_type": "markdown",
      "metadata": {},
      "source": [
        "Let's now explore how the different numerical data are distributed across groups using bar plots. We only have 3 groups however the media group data only contains 2 data points."
      ]
    },
    {
      "cell_type": "code",
      "execution_count": 420,
      "metadata": {},
      "outputs": [
        {
          "data": {
            "image/png": "[encoded data removed]",
            "text/plain": [
              "<Figure size 1000x600 with 1 Axes>"
            ]
          },
          "metadata": {},
          "output_type": "display_data"
        }
      ],
      "source": [
        "import polars as pl\n",
        "import seaborn as sns\n",
        "import matplotlib.pyplot as plt\n",
        "\n",
        "# Select the relevant columns\n",
        "df3 = df.select(\n",
        "    pl.col(\"Account type\").str.strip(),\n",
        "    pl.col(\"Likes\"),\n",
        "    pl.col(\"Replies\"),\n",
        "    pl.col(\"Retweets\"),\n",
        "    pl.col(\"Quote Tweets\")\n",
        ")\n",
        "\n",
        "# Compute the total count of engagement metrics\n",
        "df_total = df3.groupby(\"Account type\").sum()\n",
        "df_total\n",
        "\n",
        "# Reshape the data to create a long-form representation\n",
        "data_melted = df_total.to_pandas().melt(\n",
        "    id_vars=[\"Account type\"],\n",
        "    value_vars=[\"Likes\", \"Replies\", \"Retweets\", \"Quote Tweets\"],\n",
        "    var_name=\"Engagement\",\n",
        "    value_name=\"Total Count\"\n",
        ")\n",
        "\n",
        "# Create the bar plot\n",
        "plt.figure(figsize=(10, 6))\n",
        "sns.barplot(\n",
        "    data=data_melted,\n",
        "    x=\"Engagement\",\n",
        "    y=\"Total Count\",\n",
        "    hue=\"Account type\"\n",
        ")\n",
        "plt.title(\"Total Count of Engagement Metrics across Account Types\")\n",
        "plt.xlabel(\"Engagement Metrics\")\n",
        "plt.ylabel(\"Total Count\")\n",
        "plt.legend(title=\"Account Type\")\n",
        "plt.show()"
      ]
    },
    {
      "cell_type": "code",
      "execution_count": null,
      "metadata": {},
      "outputs": [],
      "source": []
    },
    {
      "attachments": {},
      "cell_type": "markdown",
      "metadata": {},
      "source": []
    },
    {
      "cell_type": "code",
      "execution_count": 421,
      "metadata": {
        "id": "ocQIJeC_1wyC"
      },
      "outputs": [],
      "source": [
        "# Include only necessary columns\n",
        "df4 = df.select(\n",
        "    pl.col(\"ID\"),\n",
        "    pl.col(\"Tweet\"),\n",
        "    pl.col(\"Tweet Translated\").alias(\"Translated\")\n",
        ")"
      ]
    },
    {
      "cell_type": "code",
      "execution_count": null,
      "metadata": {},
      "outputs": [],
      "source": []
    },
    {
      "cell_type": "code",
      "execution_count": null,
      "metadata": {},
      "outputs": [],
      "source": []
    },
    {
      "cell_type": "code",
      "execution_count": 422,
      "metadata": {
        "id": "SEX6abSJ1zKJ"
      },
      "outputs": [],
      "source": [
        "# Change tweet case to lowercase\n",
        "df4 = df4.select(\n",
        "    pl.all(),\n",
        "    pl.col(\"Translated\").apply(lambda tweet: tweet.lower()).alias(\"Clean\")\n",
        ")"
      ]
    },
    {
      "cell_type": "code",
      "execution_count": 423,
      "metadata": {},
      "outputs": [
        {
          "data": {
            "text/html": [
              "<div><style>\n",
              ".dataframe > thead > tr > th,\n",
              ".dataframe > tbody > tr > td {\n",
              "  text-align: right;\n",
              "}\n",
              "</style>\n",
              "<small>shape: (153, 19)</small><table border=\"1\" class=\"dataframe\"><thead><tr><th>ID</th><th>Timestamp</th><th>Tweet URL</th><th>Topic</th><th>Account handle</th><th>Account name</th><th>Account type</th><th>Joined</th><th>Following</th><th>Followers</th><th>Tweet</th><th>Tweet Translated</th><th>Tweet Type</th><th>Date posted</th><th>Content type</th><th>Likes</th><th>Replies</th><th>Retweets</th><th>Quote Tweets</th></tr><tr><td>i32</td><td>str</td><td>str</td><td>str</td><td>str</td><td>str</td><td>str</td><td>str</td><td>i64</td><td>i64</td><td>str</td><td>str</td><td>str</td><td>str</td><td>str</td><td>i64</td><td>i64</td><td>i64</td><td>i64</td></tr></thead><tbody><tr><td>1</td><td>&quot;30/12/99 05:12…</td><td>&quot;https://twitte…</td><td>&quot;Ninoy being li…</td><td>&quot;@arthur_vee&quot;</td><td>&quot;The King&quot;</td><td>&quot;Anonymous&quot;</td><td>&quot;02/12&quot;</td><td>2767</td><td>4255</td><td>&quot;Cory Aquino: \r…</td><td>&quot;Cory Aquino:\r\n",
              "…</td><td>&quot;Text&quot;</td><td>&quot;06/07/22 04:43…</td><td>&quot;Rational&quot;</td><td>259</td><td>0</td><td>94</td><td>6</td></tr><tr><td>2</td><td>&quot;14/03/23 05:19…</td><td>&quot;https://twitte…</td><td>&quot;Ninoy being li…</td><td>&quot;@ItsJamMagno&quot;</td><td>&quot;Jam Magno&quot;</td><td>&quot;Identified&quot;</td><td>&quot;08/15&quot;</td><td>0</td><td>76100</td><td>&quot;Ninoy Aquino i…</td><td>&quot;Ninoy Aquino i…</td><td>&quot;Text&quot;</td><td>&quot;21/08/22 15:35…</td><td>&quot;Rational&quot;</td><td>1231</td><td>0</td><td>271</td><td>21</td></tr><tr><td>3</td><td>&quot;14/03/23 05:24…</td><td>&quot;https://twitte…</td><td>&quot;Ninoy being li…</td><td>&quot;@Brad_Kardinal…</td><td>&quot;PBBM-VPSARA Fo…</td><td>&quot;Anonymous&quot;</td><td>&quot;09/21&quot;</td><td>1787</td><td>2067</td><td>&quot;Ninoy is a tra…</td><td>&quot;Ninoy is a tra…</td><td>&quot;Text, Image&quot;</td><td>&quot;21/08/22 03:28…</td><td>&quot;Rational&quot;</td><td>188</td><td>0</td><td>78</td><td>15</td></tr><tr><td>4</td><td>&quot;14/03/23 05:31…</td><td>&quot;https://twitte…</td><td>&quot;Ninoy being li…</td><td>&quot;@WinwinEklabu&quot;</td><td>&quot;Mr.Winwin_Situ…</td><td>&quot;Anonymous&quot;</td><td>&quot;12/15&quot;</td><td>6462</td><td>7082</td><td>&quot;Ninoy Aquino d…</td><td>&quot;Ninoy Aquino d…</td><td>&quot;Text, Image&quot;</td><td>&quot;22/08/22 06:22…</td><td>&quot;Rational&quot;</td><td>29</td><td>0</td><td>10</td><td>0</td></tr><tr><td>5</td><td>&quot;14/03/23 05:34…</td><td>&quot;https://twitte…</td><td>&quot;Ninoy being li…</td><td>&quot;@cierloX6&quot;</td><td>&quot;Cierlo&quot;</td><td>&quot;Anonymous&quot;</td><td>&quot;02/22&quot;</td><td>542</td><td>532</td><td>&quot;ninoy aquino i…</td><td>&quot;ninoy aquino i…</td><td>&quot;Text&quot;</td><td>&quot;27/11/22 15:53…</td><td>&quot;Rational&quot;</td><td>55</td><td>0</td><td>17</td><td>1</td></tr><tr><td>6</td><td>null</td><td>&quot;https://twitte…</td><td>&quot;Ninoy being li…</td><td>&quot;@LelangmoVlogg…</td><td>&quot;Winnie Corpuz&quot;</td><td>&quot;Identified&quot;</td><td>&quot;11/21&quot;</td><td>430</td><td>257</td><td>&quot;Yan Si NiNoy s…</td><td>&quot;That&#x27;s Ninoy h…</td><td>&quot;Text, Image, R…</td><td>&quot;30/12/21 14:14…</td><td>&quot;Emotional&quot;</td><td>0</td><td>0</td><td>0</td><td>0</td></tr><tr><td>7</td><td>&quot;30/12/99 21:26…</td><td>&quot;https://twitte…</td><td>&quot;Ninoy being li…</td><td>&quot;@iskonglasalis…</td><td>&quot;Benedict Excon…</td><td>&quot;Identified&quot;</td><td>&quot;04/09&quot;</td><td>2568</td><td>6097</td><td>&quot;Irony: The Com…</td><td>&quot;Irony: The Com…</td><td>&quot;Text, Reply&quot;</td><td>&quot;02/01/2020 02:…</td><td>&quot;Rational&quot;</td><td>5</td><td>0</td><td>0</td><td>0</td></tr><tr><td>8</td><td>&quot;30/12/99 21:31…</td><td>&quot;https://twitte…</td><td>&quot;Ninoy being li…</td><td>&quot;@mendozadino&quot;</td><td>&quot;Ryan Padua&quot;</td><td>&quot;Identified&quot;</td><td>&quot;07/10&quot;</td><td>260</td><td>37</td><td>&quot;@senbongrevill…</td><td>&quot;@senbagrevilla…</td><td>&quot;Text&quot;</td><td>&quot;1/17/2020&quot;</td><td>&quot;Emotional&quot;</td><td>0</td><td>0</td><td>0</td><td>0</td></tr><tr><td>9</td><td>&quot;30/12/99 21:31…</td><td>&quot;https://twitte…</td><td>&quot;Ninoy being li…</td><td>&quot;@dTnalakRiderS…</td><td>&quot;KulasSR&quot;</td><td>&quot;Anonymous&quot;</td><td>&quot;10/16&quot;</td><td>1519</td><td>3275</td><td>&quot;Meron akong hi…</td><td>&quot;I have a suspi…</td><td>&quot;Reply&quot;</td><td>&quot;Jan 23, 2020&quot;</td><td>&quot;Emotional&quot;</td><td>6</td><td>0</td><td>1</td><td>0</td></tr><tr><td>10</td><td>&quot;30/12/99 21:31…</td><td>&quot;https://twitte…</td><td>&quot;Ninoy being li…</td><td>&quot;@SLaKaTor&quot;</td><td>&quot;skalator&quot;</td><td>&quot;Anonymous&quot;</td><td>&quot;01/13&quot;</td><td>481</td><td>252</td><td>&quot;Pwede ng burah…</td><td>&quot;It is possible…</td><td>&quot;Reply&quot;</td><td>&quot;Jan 11, 2020&quot;</td><td>&quot;Rational&quot;</td><td>0</td><td>0</td><td>0</td><td>0</td></tr><tr><td>11</td><td>&quot;30/12/99 21:32…</td><td>&quot;https://twitte…</td><td>&quot;Ninoy being li…</td><td>&quot;@iskonglasalis…</td><td>&quot;Benedict Excon…</td><td>&quot;Identified&quot;</td><td>&quot;04/09&quot;</td><td>2568</td><td>6097</td><td>&quot;Ninoy Aquino c…</td><td>&quot;Ninoy Aquino c…</td><td>&quot;Quote Retweet&quot;</td><td>&quot;Jan 9, 2020&quot;</td><td>&quot;Rational&quot;</td><td>5</td><td>0</td><td>2</td><td>2</td></tr><tr><td>12</td><td>&quot;30/12/99 21:32…</td><td>&quot;https://twitte…</td><td>&quot;Ninoy being li…</td><td>&quot;@kramer_bo&quot;</td><td>&quot;Bo Kramer&quot;</td><td>&quot;Identified &quot;</td><td>&quot;10/19&quot;</td><td>823</td><td>382</td><td>&quot;These people r…</td><td>&quot;How many peopl…</td><td>&quot;Quote Retweet&quot;</td><td>&quot;Jan 23, 2020&quot;</td><td>&quot;Rational&quot;</td><td>1</td><td>0</td><td>1</td><td>0</td></tr><tr><td>&hellip;</td><td>&hellip;</td><td>&hellip;</td><td>&hellip;</td><td>&hellip;</td><td>&hellip;</td><td>&hellip;</td><td>&hellip;</td><td>&hellip;</td><td>&hellip;</td><td>&hellip;</td><td>&hellip;</td><td>&hellip;</td><td>&hellip;</td><td>&hellip;</td><td>&hellip;</td><td>&hellip;</td><td>&hellip;</td><td>&hellip;</td></tr><tr><td>142</td><td>&quot;30/12/99 07:44…</td><td>&quot;https://twitte…</td><td>&quot;Ninoy being li…</td><td>&quot;@TheDoctorLuck…</td><td>&quot;Doctor Luck&quot;</td><td>&quot;Anonymous&quot;</td><td>&quot;September 2013…</td><td>8035</td><td>20000</td><td>&quot;Ninoy is a her…</td><td>&quot;Ninoy is a her…</td><td>&quot;Text&quot;</td><td>&quot;7:19 AM · Aug …</td><td>&quot;Rational&quot;</td><td>846</td><td>22</td><td>272</td><td>35</td></tr><tr><td>143</td><td>&quot;30/12/99 07:44…</td><td>&quot;https://twitte…</td><td>&quot;Ninoy being li…</td><td>&quot;@Paps_Caloy&quot;</td><td>&quot;Paps Caloy&quot;</td><td>&quot;Anonymous&quot;</td><td>&quot;January 2018&quot;</td><td>1710</td><td>13600</td><td>&quot;#NinoyIsNotAHe…</td><td>&quot;#Ninoyisnotsee…</td><td>&quot;Text&quot;</td><td>&quot;11:16 AM · Aug…</td><td>&quot;Emotional&quot;</td><td>98</td><td>0</td><td>31</td><td>1</td></tr><tr><td>144</td><td>&quot;30/12/99 07:45…</td><td>&quot;https://twitte…</td><td>&quot;Ninoy being li…</td><td>&quot;@DontTryMeTsk&quot;</td><td>&quot;🎋🎍Mitch🎍🎋&quot;</td><td>&quot;Anonymous&quot;</td><td>&quot;December 2020&quot;</td><td>2814</td><td>3724</td><td>&quot;The monster th…</td><td>&quot;The monster th…</td><td>&quot;Text, Image&quot;</td><td>&quot;4:10 PM · Aug …</td><td>&quot;Rational&quot;</td><td>23</td><td>0</td><td>12</td><td>0</td></tr><tr><td>145</td><td>&quot;30/12/99 07:45…</td><td>&quot;https://twitte…</td><td>&quot;Ninoy being li…</td><td>&quot;@DodongPags&quot;</td><td>&quot;Dodong Pags&quot;</td><td>&quot;Anonymous&quot;</td><td>&quot;May 2021&quot;</td><td>2314</td><td>1667</td><td>&quot;NINOY AQUINO D…</td><td>&quot;NINOY AQUINO D…</td><td>&quot;Text&quot;</td><td>&quot;:41 PM · Aug 2…</td><td>&quot;Emotional&quot;</td><td>0</td><td>0</td><td>0</td><td>0</td></tr><tr><td>146</td><td>&quot;30/12/99 07:47…</td><td>&quot;https://twitte…</td><td>&quot;Ninoy being li…</td><td>&quot;@DinoMacaldo&quot;</td><td>&quot;Hepe Makinista…</td><td>&quot;Anonymous&quot;</td><td>&quot;April 2020&quot;</td><td>16</td><td>0</td><td>&quot;Ninoy is the m…</td><td>&quot;Ninoy is the m…</td><td>&quot;Text&quot;</td><td>&quot;9:52 AM · Aug …</td><td>&quot;Emotional&quot;</td><td>0</td><td>0</td><td>0</td><td>0</td></tr><tr><td>147</td><td>&quot;30/12/99 07:48…</td><td>&quot;https://twitte…</td><td>&quot;Ninoy being li…</td><td>&quot;@PulbuRonn&quot;</td><td>&quot;Ronn&quot;</td><td>&quot;Identified&quot;</td><td>&quot;September 2017…</td><td>144</td><td>3766</td><td>&quot;By yellowtard …</td><td>&quot;By yellowtard …</td><td>&quot;Text&quot;</td><td>&quot;10:03 PM · Aug…</td><td>&quot;Emotional&quot;</td><td>16</td><td>1</td><td>4</td><td>0</td></tr><tr><td>148</td><td>&quot;30/12/99 07:48…</td><td>&quot;https://twitte…</td><td>&quot;Ninoy being li…</td><td>&quot;@roumelle_p&quot;</td><td>&quot;ellemour&quot;</td><td>&quot;Anonymous&quot;</td><td>&quot;May 2021&quot;</td><td>14</td><td>2</td><td>&quot;Ninoy is a com…</td><td>&quot;Ninoy is a com…</td><td>&quot;Text&quot;</td><td>&quot;6:43 PM · Aug …</td><td>&quot;Emotional&quot;</td><td>0</td><td>0</td><td>0</td><td>0</td></tr><tr><td>149</td><td>&quot;30/12/99 07:48…</td><td>&quot;https://twitte…</td><td>&quot;Ninoy being li…</td><td>&quot;@theguru910100…</td><td>&quot;The Guru&quot;</td><td>&quot;Anonymous&quot;</td><td>&quot;April 2017&quot;</td><td>698</td><td>490</td><td>&quot;Philippines is…</td><td>&quot;Philippines is…</td><td>&quot;Text&quot;</td><td>&quot;8:26 AM · Aug …</td><td>&quot;Emotional&quot;</td><td>3</td><td>0</td><td>1</td><td>0</td></tr><tr><td>150</td><td>&quot;30/12/99 07:49…</td><td>&quot;https://twitte…</td><td>&quot;Ninoy being li…</td><td>&quot;@MDSOnwardPH22…</td><td>&quot;❤💞💞🇵🇭🇵🇭🙏🙏MARCO…</td><td>&quot;Anonymous&quot;</td><td>&quot;Joined May 201…</td><td>7966</td><td>12300</td><td>&quot;Ninoy is not w…</td><td>&quot;Ninoy is not w…</td><td>&quot;Text, Image&quot;</td><td>&quot;4:48 PM · Aug …</td><td>&quot;Emotional&quot;</td><td>13</td><td>1</td><td>8</td><td>2</td></tr><tr><td>151</td><td>&quot;30/12/99 07:49…</td><td>&quot;https://twitte…</td><td>&quot;Ninoy being li…</td><td>&quot;@bivoc1&quot;</td><td>&quot;bivoc&quot;</td><td>&quot;Anonymous&quot;</td><td>&quot;April 2020&quot;</td><td>5</td><td>0</td><td>&quot;common, ninoy …</td><td>&quot;common, ninoy …</td><td>&quot;Text&quot;</td><td>&quot;7:38 PM · Aug …</td><td>&quot;Emotional&quot;</td><td>0</td><td>0</td><td>0</td><td>0</td></tr><tr><td>152</td><td>&quot;30/12/99 07:50…</td><td>&quot;https://twitte…</td><td>&quot;Ninoy being li…</td><td>&quot;@ManolitoManta…</td><td>&quot;My love&quot;</td><td>&quot;Anonymous&quot;</td><td>&quot;February 2020&quot;</td><td>20</td><td>12</td><td>&quot;npa founder 😎&quot;</td><td>&quot;npa founder 😎&quot;</td><td>&quot;Text&quot;</td><td>&quot;7:58 AM · Aug …</td><td>&quot;Emotional&quot;</td><td>0</td><td>0</td><td>0</td><td>0</td></tr><tr><td>153</td><td>&quot;7:52:57 AM&quot;</td><td>&quot;https://twitte…</td><td>&quot;Ninoy being li…</td><td>&quot;@thatsthetweet…</td><td>&quot;that&#x27;s the twe…</td><td>&quot;Anonymous&quot;</td><td>&quot;August 2009&quot;</td><td>2032</td><td>1117</td><td>&quot;They couldn&#x27;t …</td><td>&quot;They couldn&#x27;t …</td><td>&quot;Text&quot;</td><td>&quot;21/07/21 22:46…</td><td>&quot;Rational&quot;</td><td>1</td><td>1</td><td>0</td><td>0</td></tr></tbody></table></div>"
            ],
            "text/plain": [
              "shape: (153, 19)\n",
              "┌─────┬──────────────┬──────────────┬──────────────┬───┬───────┬─────────┬──────────┬──────────────┐\n",
              "│ ID  ┆ Timestamp    ┆ Tweet URL    ┆ Topic        ┆ … ┆ Likes ┆ Replies ┆ Retweets ┆ Quote Tweets │\n",
              "│ --- ┆ ---          ┆ ---          ┆ ---          ┆   ┆ ---   ┆ ---     ┆ ---      ┆ ---          │\n",
              "│ i32 ┆ str          ┆ str          ┆ str          ┆   ┆ i64   ┆ i64     ┆ i64      ┆ i64          │\n",
              "╞═════╪══════════════╪══════════════╪══════════════╪═══╪═══════╪═════════╪══════════╪══════════════╡\n",
              "│ 1   ┆ 30/12/99     ┆ https://twit ┆ Ninoy being  ┆ … ┆ 259   ┆ 0       ┆ 94       ┆ 6            │\n",
              "│     ┆ 05:12:57     ┆ ter.com/arth ┆ linked to    ┆   ┆       ┆         ┆          ┆              │\n",
              "│     ┆              ┆ ur_vee/s…    ┆ communist,…  ┆   ┆       ┆         ┆          ┆              │\n",
              "│ 2   ┆ 14/03/23     ┆ https://twit ┆ Ninoy being  ┆ … ┆ 1231  ┆ 0       ┆ 271      ┆ 21           │\n",
              "│     ┆ 05:19:21     ┆ ter.com/ItsJ ┆ linked to    ┆   ┆       ┆         ┆          ┆              │\n",
              "│     ┆              ┆ amMagno/…    ┆ communist,…  ┆   ┆       ┆         ┆          ┆              │\n",
              "│ 3   ┆ 14/03/23     ┆ https://twit ┆ Ninoy being  ┆ … ┆ 188   ┆ 0       ┆ 78       ┆ 15           │\n",
              "│     ┆ 05:24:10     ┆ ter.com/Brad ┆ linked to    ┆   ┆       ┆         ┆          ┆              │\n",
              "│     ┆              ┆ _Kardina…    ┆ communist,…  ┆   ┆       ┆         ┆          ┆              │\n",
              "│ 4   ┆ 14/03/23     ┆ https://twit ┆ Ninoy being  ┆ … ┆ 29    ┆ 0       ┆ 10       ┆ 0            │\n",
              "│     ┆ 05:31:30     ┆ ter.com/Winw ┆ linked to    ┆   ┆       ┆         ┆          ┆              │\n",
              "│     ┆              ┆ inEklabu…    ┆ communist,…  ┆   ┆       ┆         ┆          ┆              │\n",
              "│ …   ┆ …            ┆ …            ┆ …            ┆ … ┆ …     ┆ …       ┆ …        ┆ …            │\n",
              "│ 150 ┆ 30/12/99     ┆ https://twit ┆ Ninoy being  ┆ … ┆ 13    ┆ 1       ┆ 8        ┆ 2            │\n",
              "│     ┆ 07:49:57     ┆ ter.com/MDSO ┆ linked to    ┆   ┆       ┆         ┆          ┆              │\n",
              "│     ┆              ┆ nwardPH2…    ┆ communist,…  ┆   ┆       ┆         ┆          ┆              │\n",
              "│ 151 ┆ 30/12/99     ┆ https://twit ┆ Ninoy being  ┆ … ┆ 0     ┆ 0       ┆ 0        ┆ 0            │\n",
              "│     ┆ 07:49:37     ┆ ter.com/bivo ┆ linked to    ┆   ┆       ┆         ┆          ┆              │\n",
              "│     ┆              ┆ c1/statu…    ┆ communist,…  ┆   ┆       ┆         ┆          ┆              │\n",
              "│ 152 ┆ 30/12/99     ┆ https://twit ┆ Ninoy being  ┆ … ┆ 0     ┆ 0       ┆ 0        ┆ 0            │\n",
              "│     ┆ 07:50:23     ┆ ter.com/Mano ┆ linked to    ┆   ┆       ┆         ┆          ┆              │\n",
              "│     ┆              ┆ litoMant…    ┆ communist,…  ┆   ┆       ┆         ┆          ┆              │\n",
              "│ 153 ┆ 7:52:57 AM   ┆ https://twit ┆ Ninoy being  ┆ … ┆ 1     ┆ 1       ┆ 0        ┆ 0            │\n",
              "│     ┆              ┆ ter.com/that ┆ linked to    ┆   ┆       ┆         ┆          ┆              │\n",
              "│     ┆              ┆ sthetwee…    ┆ communist,…  ┆   ┆       ┆         ┆          ┆              │\n",
              "└─────┴──────────────┴──────────────┴──────────────┴───┴───────┴─────────┴──────────┴──────────────┘"
            ]
          },
          "execution_count": 423,
          "metadata": {},
          "output_type": "execute_result"
        }
      ],
      "source": [
        "df"
      ]
    },
    {
      "cell_type": "code",
      "execution_count": 424,
      "metadata": {
        "id": "xxWn2UW4_WNr"
      },
      "outputs": [],
      "source": [
        "# Remove hashtags\n",
        "df4 = df4.select(\n",
        "    pl.exclude(\"Clean\"),\n",
        "    pl.col(\"Clean\").apply(lambda tweet: re.sub(\"#(\\w+)\", '', tweet))\n",
        ")"
      ]
    },
    {
      "cell_type": "code",
      "execution_count": 425,
      "metadata": {
        "id": "SN_0gMLh8HWz"
      },
      "outputs": [],
      "source": [
        "# Replace all emojis into interpretation\n",
        "def emoji_to_word(tweet):\n",
        "  for symbol, interpretation in demoji.findall(tweet).items():\n",
        "    interpretation = interpretation.lower()\n",
        "    # Turn flag: Philippines into flagphilippines \n",
        "    interpretation = re.sub('[^0-9a-z]+', '', interpretation)\n",
        "    # replace all emojis to \"emojiinterpretation \"\n",
        "    tweet = re.sub(symbol, interpretation+' ', tweet)\n",
        "  return tweet\n",
        "\n",
        "df4 = df4.select(\n",
        "    pl.exclude(\"Clean\"),\n",
        "    pl.col(\"Clean\").apply(emoji_to_word)\n",
        ")"
      ]
    },
    {
      "cell_type": "code",
      "execution_count": 426,
      "metadata": {
        "id": "VCfJ-Nqq7LD4"
      },
      "outputs": [],
      "source": [
        "# Remove non alphanumeric characters\n",
        "df4 = df4.select(\n",
        "    pl.exclude(\"Clean\"),\n",
        "    pl.col(\"Clean\").apply(lambda tweet: re.sub('[^0-9a-z]+', ' ', tweet))\n",
        ")"
      ]
    },
    {
      "cell_type": "code",
      "execution_count": 427,
      "metadata": {
        "id": "GSnfF1n210yx"
      },
      "outputs": [],
      "source": [
        "# Cast Tweets to word array instead of long string.\n",
        "df4 = df4.select(\n",
        "    pl.all(),\n",
        "    pl.col(\"Clean\").apply(lambda tweet: tweet.split()).cast(pl.List(str)).alias(\"Tokenized\")\n",
        ")"
      ]
    },
    {
      "cell_type": "code",
      "execution_count": 428,
      "metadata": {
        "colab": {
          "base_uri": "https://localhost:8080/",
          "height": 235
        },
        "id": "zGwZCcBN12QZ",
        "outputId": "ed5db31e-1f75-4119-94f8-a13b010beba6"
      },
      "outputs": [],
      "source": [
        "# Strip english stopwords\n",
        "df4 = df4.select(\n",
        "    pl.all(),\n",
        "    pl.col(\"Tokenized\").arr.eval(pl.element().filter(~pl.element().is_in(ensw)), parallel=True).alias(\"Stopwords Removed\")\n",
        ")"
      ]
    },
    {
      "cell_type": "code",
      "execution_count": 429,
      "metadata": {
        "id": "6sjGF58uBU36"
      },
      "outputs": [
        {
          "name": "stderr",
          "output_type": "stream",
          "text": [
            "[nltk_data] Downloading package wordnet to\n",
            "[nltk_data]     C:\\Users\\helpkreios\\AppData\\Roaming\\nltk_data...\n",
            "[nltk_data]   Package wordnet is already up-to-date!\n"
          ]
        }
      ],
      "source": [
        "# Stem and Lemmatize.\n",
        "from nltk.stem import PorterStemmer, WordNetLemmatizer\n",
        "nltk.download('wordnet')\n",
        "# Initialize the stemmer and lemmatizer\n",
        "stemmer = PorterStemmer()\n",
        "lemmatizer = WordNetLemmatizer()\n",
        "\n",
        "df4 = df4.select(\n",
        "    pl.all(),\n",
        "    pl.col(\"Stopwords Removed\").apply(lambda words: [stemmer.stem(word) for word in words.to_list()]).alias(\"Stemmed\"),\n",
        "    pl.col(\"Stopwords Removed\").apply(lambda words: [lemmatizer.lemmatize(word) for word in words.to_list()]).alias(\"Lemmatized\")\n",
        ")"
      ]
    },
    {
      "cell_type": "code",
      "execution_count": 430,
      "metadata": {
        "colab": {
          "base_uri": "https://localhost:8080/"
        },
        "id": "GGcYfwPM16OT",
        "outputId": "e8a94e34-0e8e-4f00-c4c0-7ba64d5f3480"
      },
      "outputs": [],
      "source": [
        "def serialize(arr):\n",
        "  return \" \".join(arr)\n",
        "df_serialized = df4.select(\n",
        "    pl.col(\"ID\"),\n",
        "    pl.col(\"Tweet\"),\n",
        "    pl.col(\"Translated\"),\n",
        "    pl.col(\"Clean\"),\n",
        "    pl.col(\"Tokenized\").apply(serialize).cast(str),\n",
        "    pl.col(\"Stopwords Removed\").apply(serialize).cast(str),\n",
        "    pl.col(\"Stemmed\").apply(serialize).cast(str),\n",
        "    pl.col(\"Lemmatized\").apply(serialize).cast(str)\n",
        ")\n",
        "df_serialized.write_csv(\"clean.csv\")"
      ]
    },
    {
      "cell_type": "code",
      "execution_count": 442,
      "metadata": {},
      "outputs": [
        {
          "ename": "ModuleNotFoundError",
          "evalue": "No module named 'wordcloud'",
          "output_type": "error",
          "traceback": [
            "\u001b[1;31m---------------------------------------------------------------------------\u001b[0m",
            "\u001b[1;31mModuleNotFoundError\u001b[0m                       Traceback (most recent call last)",
            "Cell \u001b[1;32mIn[442], line 2\u001b[0m\n\u001b[0;32m      1\u001b[0m \u001b[39mfrom\u001b[39;00m \u001b[39mcollections\u001b[39;00m \u001b[39mimport\u001b[39;00m Counter\n\u001b[1;32m----> 2\u001b[0m \u001b[39mfrom\u001b[39;00m \u001b[39mwordcloud\u001b[39;00m \u001b[39mimport\u001b[39;00m WordCloud\n\u001b[0;32m      3\u001b[0m \u001b[39mimport\u001b[39;00m \u001b[39mmatplotlib\u001b[39;00m\u001b[39m.\u001b[39;00m\u001b[39mpyplot\u001b[39;00m \u001b[39mas\u001b[39;00m \u001b[39mplt\u001b[39;00m\n\u001b[0;32m      6\u001b[0m word_list \u001b[39m=\u001b[39m df_serialized[\u001b[39m'\u001b[39m\u001b[39mLemmatized\u001b[39m\u001b[39m'\u001b[39m]\u001b[39m.\u001b[39mto_list()\n",
            "\u001b[1;31mModuleNotFoundError\u001b[0m: No module named 'wordcloud'"
          ]
        }
      ],
      "source": [
        "from collections import Counter\n",
        "from wordcloud import WordCloud\n",
        "import matplotlib.pyplot as plt\n",
        "\n",
        "\n",
        "word_list = df_serialized['Lemmatized'].to_list()\n",
        "word_string = ' '.join(word_list)\n",
        "word_frequency = Counter(word_string)\n",
        "\n",
        "unique_words = list(word_frequency.keys())\n",
        "word_counts = list(word_frequency.values())\n",
        "\n",
        "wordcloud = WordCloud(width=800, height=400, background_color='white').generate(word_string)\n",
        "# plt.figure(figsize=(10, 6))\n",
        "# plt.imshow(wordcloud, interpolation='bilinear')\n",
        "# plt.axis('off')\n",
        "# plt.title('Word Cloud')\n",
        "# plt.show()"
      ]
    },
    {
      "cell_type": "code",
      "execution_count": 440,
      "metadata": {},
      "outputs": [
        {
          "data": {
            "text/plain": [
              "'cory aquino duly elected president gossip dictator revolutionary president power grab fact ninoy hero gossip organised cpp npa ndf traitor highest order fact ninoy aquino traitor joined force npa incite rebellion country joined force malaysia supporting mnlf terrorist group back destabilizing mindanao stop claim sabah killed family ninoy traitor idiot destabilizer ninoy sold sabah malaysia ninoy communist like joma sison ninoy father noynoy former nganga president ninoy husband cory stole presidency pfem benigno ninoy aquino betrayed philippine root cause martial law never hero sold sabah malaysia suspected mastermind plaza miranda quiapo bombing august 21 1969 killing 9 wounding 95 etc ninoy aquino day abolished insult many filipino remember seen many video threatening bomb philippine reason terrorist npa formed call heroism b alisin na ninoy aquino day august 21 1983 traitor fakehero gc4sm inc ninoy aquino convicted criminal well known supporter hukbalahap kumander dante tarlac reason founded cpp w joma converted bandit private army turned npa ninoy traitor communist believe raissa roble irony communist protecting advancing interest oligarch wait communist since joma sison ninoy aquino organized cpp npa ndf senbagrevilla cpp npa traitor ninoy aquino name airport currency govt bldgs get nauseous every time see name r sending wrong message info generation world ur traitor u wil rewarded pls help u remov name suspicion since used cpp npa ninoy united joma became figure head mean prof nur also prof probably convinced two easier smuggle arm sulu possible erase fraud poor communist let add ninoy npa leader 30 yr robbed liberal every peso stolen life helped mass genocide let proliferation drug ninoy aquino co founded cpp npa ndf along joma sison kumander dante formed group inside luisita cory served coffee meeting aquinos time st home many people real trying blame everything marcos martial law fact ninoy aiquity joma sison oligarch one planned finance bomber plaza miranda ninoy bombed plaza miranda commie friend lest forget forcing teacher teach child ninoy hero force correct child ninoy hero declare traitor communist supporter convicted criminal hero communist siding defending oligarch amazing well case since ninoy aquino helped forming cpp npa ndf hacienda luisita many year ago http dwiz882am com index php pamahalaan desperado nang patahimikin ang medium nujp people replaced kya nga sila pinag huhuli nag martial law sample ninoy commie caused plaza miranda bombing lng naman sila kya opinion du30 1st ph pres lifetime genuinely ordinary pinoy ninoy aquino fake hero political opportunist npa founder dilawan jerk realize ninoy aquino joma sison founder npa established bring marcos thru chaos run 1972 election got pre empted martial law npa morphed terrorist group ninoy aquino fake hero npa founder ninoy aquino communist leader want seize lead philippine ninoy aquino isa great leader npa marcos great leader philipnossparklingheart sparklingheart prrd also flagphilippines oncomingfistlightskintone ninoy aquino co founder terrorist group npa cory aquino weakened neglected afp strengthened npa continued past three decade end b aquino presidency yellow really allow ml stop insurgency coz ninoy aquino founder npa since time cory aquino philippine spiraled even richer sg korea marcos time copied blueprint advice pinas like sana created npa ninoy aquino bwahahahah even learned ninoy aquino fuck hndi palaaaa hero king npa fuck accustomed bullied corrupt decent politician number 1 destroy pinas ignited communism aquino family number 1 leader npa ninoy aquino resource connection communist political economic oligarch always dating back founding cpp npa ndf sison ninoy kumander dante 1960 use protect respective interest ensure continuous hegemony short communist npa brought pinas aquinos ninoy leadership ninoy legacy communist building country sabah dhil lost sknya sca dhil noynoy tsk reason yellow one return power yellow cpp ndf npa abscbn oligarch rappler philippine suffering wahasan correct eat npa legacy ninoy aquino yellow martyr benigno ninoy aquino jr crucial founding growth communist party philippine new people army cpp npa http facebook com 1318300334921993 post 3016642818421061 sfns mo yellow gloat ninoy hero marcos evil one yet mainstream medium downplay fact ninoy 1 founder npa info taught history class let people decide good bad ninoy aquino hero reality dirty communist traitor ninoy aquino nene pimentel sr co founded pdp laban president duterte pdp laban im taking proof theory pdp laban cpp npa ndf foreign communist conspiracy marxist leninist maoist liberal cancer plaguing philippine since ninoy aquino joma sison kumander dante co founded cpp npa ndf 1960 must come end wokes new pula among still saved must saved ninoy hoax communist ninoy aquino og cpp npa joma sison one cory first action president release left hand imprisonment marcos sedition rebellion nun would suprise sacrificial lamb usher edsa ninoy become hero town one founder philippine communist party right believe book panot made believe ninoy aquino hero made cpp npa saw vid search wonderful morning philippine thrown trash name traitor philippine ninoy aquino founder npa ninoy aquino extracted list national hero philippine based unpatriotic act one founder cpp npa country founder npa ninoy hero replace return previous one 500 also exchanged face two yellow make filipino suffer 30 year sell ownership philippine ninoy aquino name country airport shot killed one npa founder since named airport corruption communist ninoy still alive npa head probably joma airport embarrassing name terrorist ninoy aquino king npa collaborated malaysia marcos government philippine failed get sabah belongs philippine really sultan sulu created oath allegiance philippine government whatever name cpp npa ndf founder ninoy aquino even charged treason infidelity country fake hero right let know guy esp hundred hepa hero ninoy founder npa terrorist group pls stop brainwashing mind http twitter com vocalistvodka status 5 ninoy founded communist group cpp npa til problem filipino brainwashing student fight government propaganda lp regime use cpp npa take away innocent life implant fear 7 ninoy aquino communist leader want seize lead philippine 8 emilio aguinaldo big traitor philippine history 9 marcos worshiped nation ability lead u even know former leader liberal party ninoy aquino communist traitor sold philippine wife pres cory aquino nothing chinese occupied west phil sea blaming pres duterte philippine call hero wanderer world like jose rizal would also become hero founder communist party like ninoy aquino thus need rename airport classy original name manila intl airport mia thanks honestly ph need kind president hardheaded filipino brainwashed head yellow oligarch funny founder terrorist npa ninoy aquino called hero many year sound like movie right ninoy hero cpp npa yellowtards sensible filipino npa founder ninoy expected reaction like ninoy aquino communist ninoy mad bomber communist sympathizer cia agent ninoy many time traitor never hero ninoy founded communist npa bombed plaza miranda snitch malaysia marcos effort recover sabah link cia died malaysian filipino ninoy aquino reason leftist communist flourished keep fighting govt many glad true color traitor ninoy aquino hero may rot hell philippine stagnant becoz u ur wife son friend weee grandfather said asked f really bad martial law marcos bglang angry joma ung communist go agree call u stupid bad believe ninoy hero tell stupid communist ninoy called hero stupid marcos soldier considered hero ninoy communist npa nbaril lng bkit also called hero cory seems tinwag n saint bkit painted meralco lost phil airline etc saint na ninoy founded communist party philippine http fb 8m3juvhse victor corpus joma sison ninoy cause plaza miranda bombing blame marcos fb 4rvzfbjru sure cojuangco actually killed ninoy ninoy leader npa marcos warned http fb 7fkkcrisy pwe ninoy aquino hero ex senator died ambition communist http fb 1snnl6822 really get celebrating ninoy aquino day technically part communist party shot ever shot ninoy aquino communist died due selfish ambition deal ninoy aquino reason martial law period ninoy reason cpp npa liberation front existence afaik ninoy traitor country even teamed thw communist overthrow current http fb 880ttanag would martial law ninoy aquino traitor communist 1968 ninoy organized mnlf npa collab w malaysia 1972 congress approved martial law 1972 ninoy sison wr arrested 1977 ninoy convictd ninoy commander npa codename commander dante fyi lang m reporter ninoy aquino npa commander father dictator president pnoy aquino http fb 3fvncl3z0 returning memory ninoy mastermind plaza miranda bomb occurred august 21 1971 http fb 5yn7ovfsu juice colored npa member become hero ninoy hero leader npa eh plaza miranda bombing ninoy one conspired started communist npa joma sison revealed ninoy aquino ruled npa http youtu 8ecnnxtyxho via youtube marcos declared martial law communist insurgency headed joma sison called kumander dante intelligence source saying ninoy aquino today history repeat ninoy aquino allegedly one founder cpp npa cause martial law declaration http twitter com dutertenomics ninoy aquino one founder npa ninoy hero enemy state time knew politics npa became widespread time ml declared cory aquino product fraud win right best historical revisionism ninoy called freedom fighter fought marcos sure communist ninoy aquino co founded cpp npa helped organize npa call hero ninoy aquino hero ninoy traitor philippine founder cpp npa ninoy aquino hero malaysian citizen concern filipino people ninoy founder terorist ninoy aquino joma sison made npa latter released prison cory term return joma sison prison cory nonoy made philippine circus greed money power ninoy traitor leader communist npa http twitter com dutertenomics also blame ninoy promoting communism ideology supporting npa rebellion chaos reason martial law declared like history repeating ah ninoy aquino npa martial law bam aquino maute gay group martial law government investigate ball go marawi known somebody safeguard ninoy npa deja vu aquinos self serving traitor ninoy thing conniving w npa ignite chaos lawlessness http filipinewsph net 2017 05 bam aq fact want know ninoy aquino secretly established npa destabilize marcos government watch ninoy aquino founder npa mnlf http fb 1qswnr4gs long known ninoy joma sison one ordered bombing since ninoy one plaza miranda http fb 3czmenaww imagine communism made huge controversy ninoy aquino communist mean promoting lie deped philippine p ninoy aquino died malaysian citizen started cpp npa ndf mnlf http fb 7yfvtlf7v ninoy aquino brain cpp npa responsible world longest running communist insurgency carelinkwebpr news http fb ee2w39qs shocking joma sison ninoy aquino founder cpp npa rebel philippine http fb 3gn7yukii breaking news joma sison ninoy aquino founder cpp npa rebel phili http ift tt 2lhu6go eliminate stupid rebel ninoy established cpp npa would npa terrorist poutingface ninoy aquino communist seller part ph fake hero since give posthumous highest high honor one found npa ninoy aquino yes marcial bonifacio aka ninoy aquino ambomber plaza miranda cpp npa founder reread history proper mindset ml self defense democracy ei communism force want oust like ccp npa ninoy aquino tried marcos administration wake use brain cell even remembered ninoy one betrayed sabah malaysia instigator npa plague one bombed plaza miranda bogus hero always sigh accomplished none purely political ambition pursue saliva capital hero malaysia ab cbn beamingfacewithsmilingeyes winkingfacewithtongue dahil ninoy aim president help communist party philippine case missed ninoy aquino actually said one recorded speech death 1983 legalize communist party philippine another proof ninoy fuel ambition openly supported cpp muster support marcos ninoy aquino sold sabah malaysia provide communist support guy react oh wait people knew back wait son bitch communist immediately retort post duterte peace talk sign joint force 2022 election sure leni would win maybe plan ousting duterte term end oligarch liberal communist cahoot since joma sison ninoy aquino bernabe commander dante buscayno founded cpp npa ndf hacienda luisita 1960 alright humor marcos hero knack making hero commie malaysian defector ninoy aquino literal backstabbers aguinaldo really see fuss making marcos hero bogo ka traitor man made philippine number one asia man founded npa dad supporting traitor battle dumbest philippine everybody number one traitor ninoy hero clappinghands clappinghands clappinghands give u ilocanos done country idol communist ninoy saint cory along son abnoy contreras make complicated analysis constitutional convention established amend constitution place communist movement revived ninoy aquino ninoy wanted marcos http manilatimes net 2020 09 24 opinion columnist topanalysis martial law interrogated 771322 growing heard positive anecdote ml ml communist country faith outlawed also ninoy big bad communist changed mind reading book learning name face story victim coming idiot know nothing u know bombing plaza miranda ninoy npa u know cory aside revgov revising constitution play majhong malaca ang anything uplift people welfare cngle proj eh npa stand ninoy people army nickname yahoo cover whole country ilocos norte ask sir cheldiokno ninoy day done country death founder npa kingina ninoy aquino supporter cpp npa became hero also holiday dedicated even though people agreement hahahahahah stupid people ninoy really traitor yellow liberal ninoy apparently father cpp npa http youtu 5y5omd3bm enemy enemy friend also take note oligarch liberal communist cahoot since ninoy aquino joma sison bernabe kumander dante buscayno founded cpp npa ndf right also remove ninoy aquino day communist traitor factchecked former president ferdinand marcos take sabah back philippine sovereignty ninoy learned plan informed malaysian authority big time traitor hey bam post http facebook com photo fbid 5021531711197936 set 469938743023945 ninoy aquino leader npa also became hero cory made lot bad thing philippine foolish priest want make saint purely stupid ninoy npa tap link view entire post http facebook com photo fbid 4081486561878599 set 416465018380790 ninoy aquino saying old speech cpp legalized joma ninoy founder cpp npa ndf fact oncomingfist sison ninoy wanted become president badly sold soul devil organized communist muslim secessionist movement overthrow marcos achieve ambition yellow red eliminated society feel like dd use 500 yellow peso bill plastered face st cory npa founder ninoy aquino clownface let rewind 1977 fact nov 25 1977 5 year trial ninoy aquino finally convicted treason crime 1 collaborating malaysia developing mindanao secessionist national communist insurgency since march 1968 r p history let rewind 1977 fact nov 25 1977 5 year trial ninoy aquino finally convicted treason crime 1 collaborating malaysia developing mindanao secessionist national communist in http facebook com photo fbid 1921360161290378 set 406003489492727 ever since little dad said npa ninoy private army want communist leader like ninoy persontippinghandlightskintone go krazy dad want rebel communist legal motherfucker father communist hero sensible filipino ninoy aquino want legalize communist party philippine ninoy said deep state supporter marcial bonifacio aka ninoy aquino madbomber plaza miranda co founder joma sison communist party philippine late santa corrupt almost government owned controlled corporation http lnkd gthqpjs http lnkd gsfre z krizzy run omg spreading ninoy aquino want legalize communist party philippine http fb watch 4o3ojbfqao via facebookwatch fitting enough communist supporter ninoy aquino lpigs aquinos indebted cpp npa sison ninoy colluded sison personal gain cory released sison cpp npa prison u base removed hahaha killing burning property extortion terrorist cpp npa continues time npa tagging demon bernabe buscayno aka commander dante joma sison living devil ninoy aquino self proclaimed hero rebel famous traitor philippine history well cpp npa founded dilawan hero ninoy aquino sa remember plaza miranda work ninoy joma revealed salonga died ninoy bombed plaza miranda first many atrocious terror oh right gascon joma sison become victim martial law receive million kind craziness ever since young shown u elder ninoy aquino communist ninoy hero 1 one neighboring country derailing sabah plan also 2 liberal party ilk 3 cpp npa ndf rest philippine ninoy npa hero still hero thanks pnoy monster ninoy aquino joma sison nur misuari created created cpp new people army npa moro national liberation front mnlf foment rebellionion front luzon visayas npa mindanao mnlf ninoy aquino definitely hero ninoy aquino traitor ninoy aquino created cpp npa ndf joma ninoy aquino convinced nur missuare create mnlf thru lie ninoy aquino sold sabbah malaysia boatload firearm rebellion ninoy master mind behind plaza miranda bombing clear truth yellowtard standard nothing new hail ninoy aquino known collaborator npa hero also hail member said terrorist organization hero ninoy communist philippine communist country ninoy aquino hero communist communist terrorist protector ninoy worth dying national traitor founder cpp npa ndf malaysian citizen filipino aka marcial bonifacio common ninoy big traitor hero facewithtearsofjoy rollingonthefloorlaughing npa founder smilingfacewithsunglasses think better narrative exists swallow anymore b know ninoy founded cpp npa ndf bought sabah tell truth'"
            ]
          },
          "execution_count": 440,
          "metadata": {},
          "output_type": "execute_result"
        }
      ],
      "source": [
        "word_string"
      ]
    },
    {
      "cell_type": "code",
      "execution_count": null,
      "metadata": {},
      "outputs": [],
      "source": []
    }
  ],
  "metadata": {
    "colab": {
      "provenance": []
    },
    "kernelspec": {
      "display_name": "Python 3",
      "name": "python3"
    },
    "language_info": {
      "codemirror_mode": {
        "name": "ipython",
        "version": 3
      },
      "file_extension": ".py",
      "mimetype": "text/x-python",
      "name": "python",
      "nbconvert_exporter": "python",
      "pygments_lexer": "ipython3",
      "version": "3.11.3"
    }
  },
  "nbformat": 4,
  "nbformat_minor": 0
}
