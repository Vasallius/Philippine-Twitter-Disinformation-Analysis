{
  "cells": [
    {
      "cell_type": "code",
      "execution_count": 46,
      "metadata": {
        "colab": {
          "base_uri": "https://localhost:8080/",
          "height": 339
        },
        "id": "XYchABerxjX_",
        "outputId": "351e7917-9d85-4370-f808-801acdaf63c4"
      },
      "outputs": [],
      "source": [
        "import polars as pl\n",
        "from nltk.corpus import stopwords\n",
        "import nltk\n",
        "import re\n",
        "import demoji"
      ]
    },
    {
      "cell_type": "code",
      "execution_count": 47,
      "metadata": {
        "id": "PwhDSfdD1e3R"
      },
      "outputs": [
        {
          "name": "stderr",
          "output_type": "stream",
          "text": [
            "[nltk_data] Downloading package stopwords to\n",
            "[nltk_data]     C:\\Users\\helpkreios\\AppData\\Roaming\\nltk_data...\n",
            "[nltk_data]   Package stopwords is already up-to-date!\n"
          ]
        }
      ],
      "source": [
        "# Load Stopwords and the dataset\n",
        "nltk.download('stopwords')\n",
        "ensw = stopwords.words('english')\n",
        "\n",
        "df = pl.read_csv(\"Complete_Data.csv\")"
      ]
    },
    {
      "cell_type": "code",
      "execution_count": 48,
      "metadata": {
        "id": "fiOIL7641mOy"
      },
      "outputs": [],
      "source": [
        "# Clean ID Part\n",
        "df = df.select([\n",
        "    pl.col(\"ID\").apply(lambda id: id.split(\"-\")[1]).cast(pl.Int32),\n",
        "    pl.exclude(\"ID\")\n",
        "])"
      ]
    },
    {
      "cell_type": "code",
      "execution_count": 49,
      "metadata": {
        "id": "Q6wB0hFB1uhS"
      },
      "outputs": [],
      "source": [
        "# Remove rows without tweet AND tweet URL\n",
        "df = df.filter(pl.col(\"Tweet\").is_not_null() & pl.col(\"Tweet URL\").is_not_null())\n"
      ]
    },
    {
      "cell_type": "code",
      "execution_count": 51,
      "metadata": {},
      "outputs": [
        {
          "name": "stdout",
          "output_type": "stream",
          "text": [
            "shape: (153, 5)\n",
            "┌─────┬──────────────────┬───────────┬───────────┬──────────────┐\n",
            "│ ID  ┆ Account handle   ┆ Following ┆ Followers ┆ Account type │\n",
            "│ --- ┆ ---              ┆ ---       ┆ ---       ┆ ---          │\n",
            "│ i32 ┆ str              ┆ i64       ┆ i64       ┆ str          │\n",
            "╞═════╪══════════════════╪═══════════╪═══════════╪══════════════╡\n",
            "│ 1   ┆ @arthur_vee      ┆ 2767      ┆ 4255      ┆ Anonymous    │\n",
            "│ 2   ┆ @ItsJamMagno     ┆ 0         ┆ 76100     ┆ Identified   │\n",
            "│ 3   ┆ @Brad_Kardinal   ┆ 1787      ┆ 2067      ┆ Anonymous    │\n",
            "│ 4   ┆ @WinwinEklabu    ┆ 6462      ┆ 7082      ┆ Anonymous    │\n",
            "│ …   ┆ …                ┆ …         ┆ …         ┆ …            │\n",
            "│ 150 ┆ @MDSOnwardPH22   ┆ 7966      ┆ 12300     ┆ Anonymous    │\n",
            "│ 151 ┆ @bivoc1          ┆ 5         ┆ 0         ┆ Anonymous    │\n",
            "│ 152 ┆ @ManolitoMantal2 ┆ 20        ┆ 12        ┆ Anonymous    │\n",
            "│ 153 ┆ @thatsthetweet00 ┆ 2032      ┆ 1117      ┆ Anonymous    │\n",
            "└─────┴──────────────────┴───────────┴───────────┴──────────────┘\n"
          ]
        },
        {
          "data": {
            "application/vnd.plotly.v1+json": {
              "config": {
                "plotlyServerURL": "https://plot.ly"
              },
              "data": [
                {
                  "hovertemplate": "<b>%{text}</b><br>Following: %{x}<br>Followers: %{y}",
                  "marker": {
                    "color": "blue",
                    "line": {
                      "color": "black",
                      "width": 0.5
                    },
                    "opacity": 0.7,
                    "size": 10
                  },
                  "mode": "markers",
                  "name": "Identified",
                  "text": [
                    "@ItsJamMagno",
                    "@LelangmoVlogger",
                    "@iskonglasalista",
                    "@mendozadino",
                    "@iskonglasalista",
                    "@PManejr",
                    "@iskonglasalista",
                    "@jassyangeli",
                    "@jassyangeli",
                    "@iskonglasalista",
                    "@H4L0H4L0",
                    "@iskonglasalita",
                    "@Altesing_Manny",
                    "@iskonglasalista",
                    "@rhan_duke",
                    "@ementriboychoi",
                    "@iammarkgarcia_",
                    "@jbrsamonte",
                    "@ace_on_airrr",
                    "@thebossEFRAIM",
                    "@iam_joshua_bc17",
                    "@jamesparmis",
                    "@Valenzuela_Jeff",
                    "@Smartteaser192",
                    "@babeline7",
                    "@anazachia",
                    "@apolinarcespos",
                    "@teriyo",
                    "@iskonglasalista",
                    "@PulbuRonn",
                    "@marortoll",
                    "@iskonglasalista",
                    "@sycipft",
                    "@sycipft",
                    "@marortoll",
                    "@marredroyalty",
                    "@sycipft",
                    "@sycipft",
                    "@teriyo",
                    "@PulbuRonn"
                  ],
                  "type": "scatter",
                  "x": [
                    0,
                    430,
                    2568,
                    260,
                    2568,
                    1060,
                    2568,
                    185,
                    185,
                    2568,
                    61,
                    2568,
                    562,
                    2568,
                    470,
                    43,
                    1167,
                    132,
                    187,
                    271,
                    2099,
                    711,
                    253,
                    5007,
                    89,
                    133,
                    2001,
                    4510,
                    2561,
                    144,
                    721,
                    2561,
                    522,
                    522,
                    721,
                    2470,
                    522,
                    522,
                    4510,
                    144
                  ],
                  "y": [
                    76100,
                    257,
                    6097,
                    37,
                    6097,
                    136,
                    6097,
                    57,
                    57,
                    6097,
                    10,
                    6096,
                    406,
                    6096,
                    52,
                    85,
                    5759,
                    304,
                    212,
                    31,
                    2338,
                    1044,
                    165,
                    547,
                    21,
                    8,
                    1248,
                    1711,
                    6064,
                    3766,
                    11000,
                    6064,
                    260,
                    260,
                    11000,
                    2169,
                    260,
                    260,
                    1710,
                    3766
                  ]
                },
                {
                  "hovertemplate": "<b>%{text}</b><br>Following: %{x}<br>Followers: %{y}",
                  "marker": {
                    "color": "orange",
                    "line": {
                      "color": "black",
                      "width": 0.5
                    },
                    "opacity": 0.7,
                    "size": 10
                  },
                  "mode": "markers",
                  "name": "Media",
                  "text": [
                    "@1dugoph",
                    "@newspaperphcom"
                  ],
                  "type": "scatter",
                  "x": [
                    8,
                    964
                  ],
                  "y": [
                    3,
                    159
                  ]
                },
                {
                  "hovertemplate": "<b>%{text}</b><br>Following: %{x}<br>Followers: %{y}",
                  "marker": {
                    "color": "red",
                    "line": {
                      "color": "black",
                      "width": 0.5
                    },
                    "opacity": 0.7,
                    "size": 10
                  },
                  "mode": "markers",
                  "name": "Anonymous",
                  "text": [
                    "@arthur_vee",
                    "@Brad_Kardinal",
                    "@WinwinEklabu",
                    "@cierloX6",
                    "@dTnalakRiderSR",
                    "@SLaKaTor",
                    "@JVMombay",
                    "@krameoj2",
                    "@Hyden007Toro",
                    "@hitman531ph",
                    "@Hyden007Toro",
                    "@ArianaCharice",
                    "@Whatsupjess1",
                    "@gerrydeleo",
                    "@nhoy2011",
                    "@Whatsupjess1",
                    "@JurisImmanuel",
                    "@FilCitizenPH",
                    "@AnlaboTsong",
                    "@alden_chua",
                    "@TheSmilingBOW",
                    "@MalaChinaPalace",
                    "@micashan",
                    "@gigaigurlmd",
                    "@matansero12886",
                    "@Ztirf17",
                    "@loloromatu",
                    "@Edelwei8",
                    "@osolge2665",
                    "@Fred_1222",
                    "@SamuraiKatipun",
                    "@blackkn05858615",
                    "@SethTojon",
                    "@marredroyalty",
                    "@marredroyalty",
                    "@AliKyle14",
                    "@sonycuerdo",
                    "@thirteenLexa",
                    "@ronald4eternity",
                    "@rom40800032",
                    "@PinasAngInaNyo",
                    "@marredroyalty",
                    "@yellowzingers1",
                    "@jaby111219",
                    "@WinwinEklabu",
                    "@Martina40290987",
                    "@KenesuMiko",
                    "@saylothe",
                    "@dreamy_eyes0",
                    "@AldreanNavarro",
                    "@senall83",
                    "@Hades_alexis",
                    "@jonnelcardano",
                    "@tapatnapilipino",
                    "@emvisi",
                    "@emvisi",
                    "@tapatnapilipino",
                    "@aizenrei20",
                    "@lynmadrid2017",
                    "@Deemcma76111219",
                    "@http_brent22",
                    "@Spankmerigor",
                    "@Deemcma76111219",
                    "@TishaCM",
                    "@AngAkinLangNman",
                    "@abet023",
                    "@ddaengseul",
                    "@gaudz1948",
                    "@Ur_Supermhay",
                    "@ZunRa",
                    "@alden_chua",
                    "@AbsoluteroC",
                    "@fu_rher_",
                    "@YolandaQueens",
                    "@pinoyanghang",
                    "@jemsenpai30",
                    "@zhandy_77",
                    "@olpips",
                    "@imnotyomom",
                    "@AtokPascua",
                    "@philwayne88",
                    "@arogante_ka_tse",
                    "@WordsinMyMind5",
                    "@Runel24947326",
                    "@1vic2r310",
                    "@Domingo31356729",
                    "@BryanLapez",
                    "@ManuelM73700324",
                    "@BrujaDelDemonio",
                    "@SiiniGeng",
                    "@Rosmar_Masarap",
                    "@liaoericph",
                    "@rumflan60",
                    "@allain_z",
                    "@msuniversemimi",
                    "@Yelle007",
                    "@ShnFrncsc01",
                    "@cinecinecine30",
                    "@kotomba431C",
                    "Doctor Luck",
                    "@Paps_Caloy",
                    "@DontTryMeTsk",
                    "@DodongPags",
                    "@DinoMacaldo",
                    "@roumelle_p",
                    "@theguru91010011",
                    "@MDSOnwardPH22",
                    "@bivoc1",
                    "@ManolitoMantal2",
                    "@thatsthetweet00"
                  ],
                  "type": "scatter",
                  "x": [
                    2767,
                    1787,
                    6462,
                    542,
                    1519,
                    481,
                    16,
                    481,
                    179,
                    312,
                    179,
                    2229,
                    127,
                    414,
                    175,
                    127,
                    446,
                    47,
                    575,
                    268,
                    239,
                    504,
                    606,
                    689,
                    95,
                    63,
                    43,
                    685,
                    279,
                    122,
                    657,
                    929,
                    78,
                    2475,
                    2475,
                    13,
                    16,
                    237,
                    331,
                    47,
                    716,
                    2475,
                    459,
                    25,
                    6462,
                    18,
                    10,
                    30,
                    1269,
                    317,
                    1222,
                    2491,
                    89,
                    58,
                    295,
                    295,
                    58,
                    121,
                    17,
                    190,
                    362,
                    292,
                    190,
                    434,
                    369,
                    648,
                    58,
                    340,
                    61,
                    806,
                    268,
                    2,
                    61,
                    779,
                    1165,
                    287,
                    9,
                    785,
                    1394,
                    745,
                    88,
                    2153,
                    149,
                    212,
                    27,
                    104,
                    30,
                    683,
                    362,
                    1555,
                    47,
                    586,
                    3952,
                    1078,
                    384,
                    1723,
                    405,
                    150,
                    2042,
                    8035,
                    1710,
                    2814,
                    2314,
                    16,
                    14,
                    698,
                    7966,
                    5,
                    20,
                    2032
                  ],
                  "y": [
                    4255,
                    2067,
                    7082,
                    532,
                    3275,
                    252,
                    5,
                    432,
                    6,
                    5405,
                    6,
                    1909,
                    3,
                    533,
                    21,
                    3,
                    551,
                    50,
                    13900,
                    487,
                    243,
                    191,
                    124,
                    753,
                    22,
                    2,
                    6,
                    383,
                    272,
                    52,
                    502,
                    893,
                    71,
                    2171,
                    2171,
                    1,
                    2,
                    41,
                    176,
                    0,
                    785,
                    2171,
                    63,
                    8,
                    7082,
                    2,
                    5,
                    1256,
                    123,
                    539,
                    105,
                    186,
                    46,
                    315,
                    162,
                    162,
                    315,
                    12,
                    6,
                    436,
                    177,
                    63,
                    436,
                    27900,
                    490,
                    42,
                    517,
                    126,
                    1614,
                    773,
                    482,
                    0,
                    75,
                    44,
                    53000,
                    44,
                    85,
                    618,
                    732,
                    879,
                    83,
                    788,
                    17,
                    127,
                    1,
                    25,
                    17,
                    680,
                    24000,
                    1950,
                    441,
                    181,
                    3746,
                    758,
                    202,
                    1571,
                    422,
                    1620,
                    2093,
                    20000,
                    13600,
                    3724,
                    1667,
                    0,
                    2,
                    490,
                    12300,
                    0,
                    12,
                    1117
                  ]
                }
              ],
              "layout": {
                "hoverlabel": {
                  "bgcolor": "white",
                  "font": {
                    "size": 12
                  }
                },
                "legend": {
                  "title": {
                    "text": "Account Type"
                  }
                },
                "plot_bgcolor": "white",
                "template": {
                  "data": {
                    "bar": [
                      {
                        "error_x": {
                          "color": "#2a3f5f"
                        },
                        "error_y": {
                          "color": "#2a3f5f"
                        },
                        "marker": {
                          "line": {
                            "color": "#E5ECF6",
                            "width": 0.5
                          },
                          "pattern": {
                            "fillmode": "overlay",
                            "size": 10,
                            "solidity": 0.2
                          }
                        },
                        "type": "bar"
                      }
                    ],
                    "barpolar": [
                      {
                        "marker": {
                          "line": {
                            "color": "#E5ECF6",
                            "width": 0.5
                          },
                          "pattern": {
                            "fillmode": "overlay",
                            "size": 10,
                            "solidity": 0.2
                          }
                        },
                        "type": "barpolar"
                      }
                    ],
                    "carpet": [
                      {
                        "aaxis": {
                          "endlinecolor": "#2a3f5f",
                          "gridcolor": "white",
                          "linecolor": "white",
                          "minorgridcolor": "white",
                          "startlinecolor": "#2a3f5f"
                        },
                        "baxis": {
                          "endlinecolor": "#2a3f5f",
                          "gridcolor": "white",
                          "linecolor": "white",
                          "minorgridcolor": "white",
                          "startlinecolor": "#2a3f5f"
                        },
                        "type": "carpet"
                      }
                    ],
                    "choropleth": [
                      {
                        "colorbar": {
                          "outlinewidth": 0,
                          "ticks": ""
                        },
                        "type": "choropleth"
                      }
                    ],
                    "contour": [
                      {
                        "colorbar": {
                          "outlinewidth": 0,
                          "ticks": ""
                        },
                        "colorscale": [
                          [
                            0,
                            "#0d0887"
                          ],
                          [
                            0.1111111111111111,
                            "#46039f"
                          ],
                          [
                            0.2222222222222222,
                            "#7201a8"
                          ],
                          [
                            0.3333333333333333,
                            "#9c179e"
                          ],
                          [
                            0.4444444444444444,
                            "#bd3786"
                          ],
                          [
                            0.5555555555555556,
                            "#d8576b"
                          ],
                          [
                            0.6666666666666666,
                            "#ed7953"
                          ],
                          [
                            0.7777777777777778,
                            "#fb9f3a"
                          ],
                          [
                            0.8888888888888888,
                            "#fdca26"
                          ],
                          [
                            1,
                            "#f0f921"
                          ]
                        ],
                        "type": "contour"
                      }
                    ],
                    "contourcarpet": [
                      {
                        "colorbar": {
                          "outlinewidth": 0,
                          "ticks": ""
                        },
                        "type": "contourcarpet"
                      }
                    ],
                    "heatmap": [
                      {
                        "colorbar": {
                          "outlinewidth": 0,
                          "ticks": ""
                        },
                        "colorscale": [
                          [
                            0,
                            "#0d0887"
                          ],
                          [
                            0.1111111111111111,
                            "#46039f"
                          ],
                          [
                            0.2222222222222222,
                            "#7201a8"
                          ],
                          [
                            0.3333333333333333,
                            "#9c179e"
                          ],
                          [
                            0.4444444444444444,
                            "#bd3786"
                          ],
                          [
                            0.5555555555555556,
                            "#d8576b"
                          ],
                          [
                            0.6666666666666666,
                            "#ed7953"
                          ],
                          [
                            0.7777777777777778,
                            "#fb9f3a"
                          ],
                          [
                            0.8888888888888888,
                            "#fdca26"
                          ],
                          [
                            1,
                            "#f0f921"
                          ]
                        ],
                        "type": "heatmap"
                      }
                    ],
                    "heatmapgl": [
                      {
                        "colorbar": {
                          "outlinewidth": 0,
                          "ticks": ""
                        },
                        "colorscale": [
                          [
                            0,
                            "#0d0887"
                          ],
                          [
                            0.1111111111111111,
                            "#46039f"
                          ],
                          [
                            0.2222222222222222,
                            "#7201a8"
                          ],
                          [
                            0.3333333333333333,
                            "#9c179e"
                          ],
                          [
                            0.4444444444444444,
                            "#bd3786"
                          ],
                          [
                            0.5555555555555556,
                            "#d8576b"
                          ],
                          [
                            0.6666666666666666,
                            "#ed7953"
                          ],
                          [
                            0.7777777777777778,
                            "#fb9f3a"
                          ],
                          [
                            0.8888888888888888,
                            "#fdca26"
                          ],
                          [
                            1,
                            "#f0f921"
                          ]
                        ],
                        "type": "heatmapgl"
                      }
                    ],
                    "histogram": [
                      {
                        "marker": {
                          "pattern": {
                            "fillmode": "overlay",
                            "size": 10,
                            "solidity": 0.2
                          }
                        },
                        "type": "histogram"
                      }
                    ],
                    "histogram2d": [
                      {
                        "colorbar": {
                          "outlinewidth": 0,
                          "ticks": ""
                        },
                        "colorscale": [
                          [
                            0,
                            "#0d0887"
                          ],
                          [
                            0.1111111111111111,
                            "#46039f"
                          ],
                          [
                            0.2222222222222222,
                            "#7201a8"
                          ],
                          [
                            0.3333333333333333,
                            "#9c179e"
                          ],
                          [
                            0.4444444444444444,
                            "#bd3786"
                          ],
                          [
                            0.5555555555555556,
                            "#d8576b"
                          ],
                          [
                            0.6666666666666666,
                            "#ed7953"
                          ],
                          [
                            0.7777777777777778,
                            "#fb9f3a"
                          ],
                          [
                            0.8888888888888888,
                            "#fdca26"
                          ],
                          [
                            1,
                            "#f0f921"
                          ]
                        ],
                        "type": "histogram2d"
                      }
                    ],
                    "histogram2dcontour": [
                      {
                        "colorbar": {
                          "outlinewidth": 0,
                          "ticks": ""
                        },
                        "colorscale": [
                          [
                            0,
                            "#0d0887"
                          ],
                          [
                            0.1111111111111111,
                            "#46039f"
                          ],
                          [
                            0.2222222222222222,
                            "#7201a8"
                          ],
                          [
                            0.3333333333333333,
                            "#9c179e"
                          ],
                          [
                            0.4444444444444444,
                            "#bd3786"
                          ],
                          [
                            0.5555555555555556,
                            "#d8576b"
                          ],
                          [
                            0.6666666666666666,
                            "#ed7953"
                          ],
                          [
                            0.7777777777777778,
                            "#fb9f3a"
                          ],
                          [
                            0.8888888888888888,
                            "#fdca26"
                          ],
                          [
                            1,
                            "#f0f921"
                          ]
                        ],
                        "type": "histogram2dcontour"
                      }
                    ],
                    "mesh3d": [
                      {
                        "colorbar": {
                          "outlinewidth": 0,
                          "ticks": ""
                        },
                        "type": "mesh3d"
                      }
                    ],
                    "parcoords": [
                      {
                        "line": {
                          "colorbar": {
                            "outlinewidth": 0,
                            "ticks": ""
                          }
                        },
                        "type": "parcoords"
                      }
                    ],
                    "pie": [
                      {
                        "automargin": true,
                        "type": "pie"
                      }
                    ],
                    "scatter": [
                      {
                        "fillpattern": {
                          "fillmode": "overlay",
                          "size": 10,
                          "solidity": 0.2
                        },
                        "type": "scatter"
                      }
                    ],
                    "scatter3d": [
                      {
                        "line": {
                          "colorbar": {
                            "outlinewidth": 0,
                            "ticks": ""
                          }
                        },
                        "marker": {
                          "colorbar": {
                            "outlinewidth": 0,
                            "ticks": ""
                          }
                        },
                        "type": "scatter3d"
                      }
                    ],
                    "scattercarpet": [
                      {
                        "marker": {
                          "colorbar": {
                            "outlinewidth": 0,
                            "ticks": ""
                          }
                        },
                        "type": "scattercarpet"
                      }
                    ],
                    "scattergeo": [
                      {
                        "marker": {
                          "colorbar": {
                            "outlinewidth": 0,
                            "ticks": ""
                          }
                        },
                        "type": "scattergeo"
                      }
                    ],
                    "scattergl": [
                      {
                        "marker": {
                          "colorbar": {
                            "outlinewidth": 0,
                            "ticks": ""
                          }
                        },
                        "type": "scattergl"
                      }
                    ],
                    "scattermapbox": [
                      {
                        "marker": {
                          "colorbar": {
                            "outlinewidth": 0,
                            "ticks": ""
                          }
                        },
                        "type": "scattermapbox"
                      }
                    ],
                    "scatterpolar": [
                      {
                        "marker": {
                          "colorbar": {
                            "outlinewidth": 0,
                            "ticks": ""
                          }
                        },
                        "type": "scatterpolar"
                      }
                    ],
                    "scatterpolargl": [
                      {
                        "marker": {
                          "colorbar": {
                            "outlinewidth": 0,
                            "ticks": ""
                          }
                        },
                        "type": "scatterpolargl"
                      }
                    ],
                    "scatterternary": [
                      {
                        "marker": {
                          "colorbar": {
                            "outlinewidth": 0,
                            "ticks": ""
                          }
                        },
                        "type": "scatterternary"
                      }
                    ],
                    "surface": [
                      {
                        "colorbar": {
                          "outlinewidth": 0,
                          "ticks": ""
                        },
                        "colorscale": [
                          [
                            0,
                            "#0d0887"
                          ],
                          [
                            0.1111111111111111,
                            "#46039f"
                          ],
                          [
                            0.2222222222222222,
                            "#7201a8"
                          ],
                          [
                            0.3333333333333333,
                            "#9c179e"
                          ],
                          [
                            0.4444444444444444,
                            "#bd3786"
                          ],
                          [
                            0.5555555555555556,
                            "#d8576b"
                          ],
                          [
                            0.6666666666666666,
                            "#ed7953"
                          ],
                          [
                            0.7777777777777778,
                            "#fb9f3a"
                          ],
                          [
                            0.8888888888888888,
                            "#fdca26"
                          ],
                          [
                            1,
                            "#f0f921"
                          ]
                        ],
                        "type": "surface"
                      }
                    ],
                    "table": [
                      {
                        "cells": {
                          "fill": {
                            "color": "#EBF0F8"
                          },
                          "line": {
                            "color": "white"
                          }
                        },
                        "header": {
                          "fill": {
                            "color": "#C8D4E3"
                          },
                          "line": {
                            "color": "white"
                          }
                        },
                        "type": "table"
                      }
                    ]
                  },
                  "layout": {
                    "annotationdefaults": {
                      "arrowcolor": "#2a3f5f",
                      "arrowhead": 0,
                      "arrowwidth": 1
                    },
                    "autotypenumbers": "strict",
                    "coloraxis": {
                      "colorbar": {
                        "outlinewidth": 0,
                        "ticks": ""
                      }
                    },
                    "colorscale": {
                      "diverging": [
                        [
                          0,
                          "#8e0152"
                        ],
                        [
                          0.1,
                          "#c51b7d"
                        ],
                        [
                          0.2,
                          "#de77ae"
                        ],
                        [
                          0.3,
                          "#f1b6da"
                        ],
                        [
                          0.4,
                          "#fde0ef"
                        ],
                        [
                          0.5,
                          "#f7f7f7"
                        ],
                        [
                          0.6,
                          "#e6f5d0"
                        ],
                        [
                          0.7,
                          "#b8e186"
                        ],
                        [
                          0.8,
                          "#7fbc41"
                        ],
                        [
                          0.9,
                          "#4d9221"
                        ],
                        [
                          1,
                          "#276419"
                        ]
                      ],
                      "sequential": [
                        [
                          0,
                          "#0d0887"
                        ],
                        [
                          0.1111111111111111,
                          "#46039f"
                        ],
                        [
                          0.2222222222222222,
                          "#7201a8"
                        ],
                        [
                          0.3333333333333333,
                          "#9c179e"
                        ],
                        [
                          0.4444444444444444,
                          "#bd3786"
                        ],
                        [
                          0.5555555555555556,
                          "#d8576b"
                        ],
                        [
                          0.6666666666666666,
                          "#ed7953"
                        ],
                        [
                          0.7777777777777778,
                          "#fb9f3a"
                        ],
                        [
                          0.8888888888888888,
                          "#fdca26"
                        ],
                        [
                          1,
                          "#f0f921"
                        ]
                      ],
                      "sequentialminus": [
                        [
                          0,
                          "#0d0887"
                        ],
                        [
                          0.1111111111111111,
                          "#46039f"
                        ],
                        [
                          0.2222222222222222,
                          "#7201a8"
                        ],
                        [
                          0.3333333333333333,
                          "#9c179e"
                        ],
                        [
                          0.4444444444444444,
                          "#bd3786"
                        ],
                        [
                          0.5555555555555556,
                          "#d8576b"
                        ],
                        [
                          0.6666666666666666,
                          "#ed7953"
                        ],
                        [
                          0.7777777777777778,
                          "#fb9f3a"
                        ],
                        [
                          0.8888888888888888,
                          "#fdca26"
                        ],
                        [
                          1,
                          "#f0f921"
                        ]
                      ]
                    },
                    "colorway": [
                      "#636efa",
                      "#EF553B",
                      "#00cc96",
                      "#ab63fa",
                      "#FFA15A",
                      "#19d3f3",
                      "#FF6692",
                      "#B6E880",
                      "#FF97FF",
                      "#FECB52"
                    ],
                    "font": {
                      "color": "#2a3f5f"
                    },
                    "geo": {
                      "bgcolor": "white",
                      "lakecolor": "white",
                      "landcolor": "#E5ECF6",
                      "showlakes": true,
                      "showland": true,
                      "subunitcolor": "white"
                    },
                    "hoverlabel": {
                      "align": "left"
                    },
                    "hovermode": "closest",
                    "mapbox": {
                      "style": "light"
                    },
                    "paper_bgcolor": "white",
                    "plot_bgcolor": "#E5ECF6",
                    "polar": {
                      "angularaxis": {
                        "gridcolor": "white",
                        "linecolor": "white",
                        "ticks": ""
                      },
                      "bgcolor": "#E5ECF6",
                      "radialaxis": {
                        "gridcolor": "white",
                        "linecolor": "white",
                        "ticks": ""
                      }
                    },
                    "scene": {
                      "xaxis": {
                        "backgroundcolor": "#E5ECF6",
                        "gridcolor": "white",
                        "gridwidth": 2,
                        "linecolor": "white",
                        "showbackground": true,
                        "ticks": "",
                        "zerolinecolor": "white"
                      },
                      "yaxis": {
                        "backgroundcolor": "#E5ECF6",
                        "gridcolor": "white",
                        "gridwidth": 2,
                        "linecolor": "white",
                        "showbackground": true,
                        "ticks": "",
                        "zerolinecolor": "white"
                      },
                      "zaxis": {
                        "backgroundcolor": "#E5ECF6",
                        "gridcolor": "white",
                        "gridwidth": 2,
                        "linecolor": "white",
                        "showbackground": true,
                        "ticks": "",
                        "zerolinecolor": "white"
                      }
                    },
                    "shapedefaults": {
                      "line": {
                        "color": "#2a3f5f"
                      }
                    },
                    "ternary": {
                      "aaxis": {
                        "gridcolor": "white",
                        "linecolor": "white",
                        "ticks": ""
                      },
                      "baxis": {
                        "gridcolor": "white",
                        "linecolor": "white",
                        "ticks": ""
                      },
                      "bgcolor": "#E5ECF6",
                      "caxis": {
                        "gridcolor": "white",
                        "linecolor": "white",
                        "ticks": ""
                      }
                    },
                    "title": {
                      "x": 0.05
                    },
                    "xaxis": {
                      "automargin": true,
                      "gridcolor": "white",
                      "linecolor": "white",
                      "ticks": "",
                      "title": {
                        "standoff": 15
                      },
                      "zerolinecolor": "white",
                      "zerolinewidth": 2
                    },
                    "yaxis": {
                      "automargin": true,
                      "gridcolor": "white",
                      "linecolor": "white",
                      "ticks": "",
                      "title": {
                        "standoff": 15
                      },
                      "zerolinecolor": "white",
                      "zerolinewidth": 2
                    }
                  }
                },
                "title": {
                  "text": "Following vs Followers"
                },
                "xaxis": {
                  "title": {
                    "text": "Following"
                  }
                },
                "yaxis": {
                  "title": {
                    "text": "Followers"
                  }
                }
              }
            }
          },
          "metadata": {},
          "output_type": "display_data"
        }
      ],
      "source": [
        "df1=df.select(\n",
        "    pl.col(\"ID\"),\n",
        "    pl.col(\"Account handle\"),\n",
        "    pl.col(\"Following\"),\n",
        "    pl.col(\"Followers\"),\n",
        "    pl.col(\"Account type\")\n",
        ")\n",
        "\n",
        "colors = {\n",
        "    'Identified': 'blue',\n",
        "    'Media': 'orange',\n",
        "    'Anonymous': 'red'\n",
        "}\n",
        "print(df1)\n",
        "\n",
        "import plotly.express as px\n",
        "import plotly.graph_objects as go\n",
        "\n",
        "fig = go.Figure()\n",
        "\n",
        "for account_type, color in colors.items():\n",
        "    filtered_df = df.filter(pl.col('Account type') == account_type)\n",
        "    fig.add_trace(go.Scatter(\n",
        "        x=filtered_df['Following'],\n",
        "        y=filtered_df['Followers'],\n",
        "        mode='markers',\n",
        "        text=filtered_df['Account handle'],\n",
        "        hovertemplate='<b>%{text}</b><br>Following: %{x}<br>Followers: %{y}',\n",
        "        marker=dict(\n",
        "            size=10,\n",
        "            color=color,\n",
        "            opacity=0.7,\n",
        "            line=dict(width=0.5, color='black')\n",
        "        ),\n",
        "        name=account_type  # Specify the name for each trace\n",
        "    ))\n",
        "\n",
        "# Customize the layout\n",
        "fig.update_layout(\n",
        "    title='Following vs Followers',\n",
        "    xaxis_title='Following',\n",
        "    yaxis_title='Followers',\n",
        "    hoverlabel=dict(bgcolor='white', font_size=12),\n",
        "    plot_bgcolor='white',\n",
        "    legend_title='Account Type'\n",
        ")\n",
        "\n",
        "\n"
      ]
    },
    {
      "cell_type": "code",
      "execution_count": 57,
      "metadata": {},
      "outputs": [
        {
          "data": {
            "text/html": [
              "<div><style>\n",
              ".dataframe > thead > tr > th,\n",
              ".dataframe > tbody > tr > td {\n",
              "  text-align: right;\n",
              "}\n",
              "</style>\n",
              "<small>shape: (153, 7)</small><table border=\"1\" class=\"dataframe\"><thead><tr><th>ID</th><th>Account handle</th><th>Followers</th><th>Likes</th><th>Replies</th><th>Retweets</th><th>Quote Tweets</th></tr><tr><td>i32</td><td>str</td><td>i64</td><td>i64</td><td>i64</td><td>i64</td><td>i64</td></tr></thead><tbody><tr><td>1</td><td>&quot;@arthur_vee&quot;</td><td>4255</td><td>259</td><td>null</td><td>94</td><td>6</td></tr><tr><td>2</td><td>&quot;@ItsJamMagno&quot;</td><td>76100</td><td>1231</td><td>null</td><td>271</td><td>21</td></tr><tr><td>3</td><td>&quot;@Brad_Kardinal…</td><td>2067</td><td>188</td><td>null</td><td>78</td><td>15</td></tr><tr><td>4</td><td>&quot;@WinwinEklabu&quot;</td><td>7082</td><td>29</td><td>null</td><td>10</td><td>null</td></tr><tr><td>5</td><td>&quot;@cierloX6&quot;</td><td>532</td><td>55</td><td>null</td><td>17</td><td>1</td></tr><tr><td>6</td><td>&quot;@LelangmoVlogg…</td><td>257</td><td>0</td><td>0</td><td>0</td><td>0</td></tr><tr><td>7</td><td>&quot;@iskonglasalis…</td><td>6097</td><td>5</td><td>0</td><td>0</td><td>0</td></tr><tr><td>8</td><td>&quot;@mendozadino&quot;</td><td>37</td><td>0</td><td>null</td><td>0</td><td>null</td></tr><tr><td>9</td><td>&quot;@dTnalakRiderS…</td><td>3275</td><td>6</td><td>null</td><td>1</td><td>0</td></tr><tr><td>10</td><td>&quot;@SLaKaTor&quot;</td><td>252</td><td>0</td><td>null</td><td>0</td><td>0</td></tr><tr><td>11</td><td>&quot;@iskonglasalis…</td><td>6097</td><td>5</td><td>null</td><td>2</td><td>2</td></tr><tr><td>12</td><td>&quot;@kramer_bo&quot;</td><td>382</td><td>1</td><td>null</td><td>1</td><td>0</td></tr><tr><td>&hellip;</td><td>&hellip;</td><td>&hellip;</td><td>&hellip;</td><td>&hellip;</td><td>&hellip;</td><td>&hellip;</td></tr><tr><td>142</td><td>&quot;Doctor Luck&quot;</td><td>20000</td><td>846</td><td>22</td><td>272</td><td>35</td></tr><tr><td>143</td><td>&quot;@Paps_Caloy&quot;</td><td>13600</td><td>98</td><td>0</td><td>31</td><td>1</td></tr><tr><td>144</td><td>&quot;@DontTryMeTsk&quot;</td><td>3724</td><td>23</td><td>0</td><td>12</td><td>0</td></tr><tr><td>145</td><td>&quot;@DodongPags&quot;</td><td>1667</td><td>0</td><td>0</td><td>0</td><td>0</td></tr><tr><td>146</td><td>&quot;@DinoMacaldo&quot;</td><td>0</td><td>0</td><td>0</td><td>0</td><td>0</td></tr><tr><td>147</td><td>&quot;@PulbuRonn&quot;</td><td>3766</td><td>16</td><td>1</td><td>4</td><td>0</td></tr><tr><td>148</td><td>&quot;@roumelle_p&quot;</td><td>2</td><td>0</td><td>0</td><td>0</td><td>0</td></tr><tr><td>149</td><td>&quot;@theguru910100…</td><td>490</td><td>3</td><td>0</td><td>1</td><td>0</td></tr><tr><td>150</td><td>&quot;@MDSOnwardPH22…</td><td>12300</td><td>13</td><td>1</td><td>8</td><td>2</td></tr><tr><td>151</td><td>&quot;@bivoc1&quot;</td><td>0</td><td>0</td><td>0</td><td>0</td><td>0</td></tr><tr><td>152</td><td>&quot;@ManolitoManta…</td><td>12</td><td>0</td><td>0</td><td>0</td><td>0</td></tr><tr><td>153</td><td>&quot;@thatsthetweet…</td><td>1117</td><td>1</td><td>1</td><td>0</td><td>0</td></tr></tbody></table></div>"
            ],
            "text/plain": [
              "shape: (153, 7)\n",
              "┌─────┬──────────────────┬───────────┬───────┬─────────┬──────────┬──────────────┐\n",
              "│ ID  ┆ Account handle   ┆ Followers ┆ Likes ┆ Replies ┆ Retweets ┆ Quote Tweets │\n",
              "│ --- ┆ ---              ┆ ---       ┆ ---   ┆ ---     ┆ ---      ┆ ---          │\n",
              "│ i32 ┆ str              ┆ i64       ┆ i64   ┆ i64     ┆ i64      ┆ i64          │\n",
              "╞═════╪══════════════════╪═══════════╪═══════╪═════════╪══════════╪══════════════╡\n",
              "│ 1   ┆ @arthur_vee      ┆ 4255      ┆ 259   ┆ null    ┆ 94       ┆ 6            │\n",
              "│ 2   ┆ @ItsJamMagno     ┆ 76100     ┆ 1231  ┆ null    ┆ 271      ┆ 21           │\n",
              "│ 3   ┆ @Brad_Kardinal   ┆ 2067      ┆ 188   ┆ null    ┆ 78       ┆ 15           │\n",
              "│ 4   ┆ @WinwinEklabu    ┆ 7082      ┆ 29    ┆ null    ┆ 10       ┆ null         │\n",
              "│ …   ┆ …                ┆ …         ┆ …     ┆ …       ┆ …        ┆ …            │\n",
              "│ 150 ┆ @MDSOnwardPH22   ┆ 12300     ┆ 13    ┆ 1       ┆ 8        ┆ 2            │\n",
              "│ 151 ┆ @bivoc1          ┆ 0         ┆ 0     ┆ 0       ┆ 0        ┆ 0            │\n",
              "│ 152 ┆ @ManolitoMantal2 ┆ 12        ┆ 0     ┆ 0       ┆ 0        ┆ 0            │\n",
              "│ 153 ┆ @thatsthetweet00 ┆ 1117      ┆ 1     ┆ 1       ┆ 0        ┆ 0            │\n",
              "└─────┴──────────────────┴───────────┴───────┴─────────┴──────────┴──────────────┘"
            ]
          },
          "execution_count": 57,
          "metadata": {},
          "output_type": "execute_result"
        }
      ],
      "source": [
        "import polars as pl\n",
        "import matplotlib.pyplot as plt\n",
        "import seaborn as sns\n",
        "\n",
        "df2 = df.select(\n",
        "    pl.col(\"ID\"),\n",
        "    pl.col(\"Account handle\"),\n",
        "    pl.col(\"Followers\"),\n",
        "    pl.col(\"Likes\"),\n",
        "    pl.col(\"Replies\"),\n",
        "    pl.col(\"Retweets\"),\n",
        "    pl.col(\"Quote Tweets\")\n",
        ")\n",
        "\n",
        "df2.fill_null(0)\n",
        "df2\n",
        "\n",
        "\n"
      ]
    },
    {
      "cell_type": "code",
      "execution_count": null,
      "metadata": {},
      "outputs": [],
      "source": [
        "# Compute the correlation matrix\n",
        "corr_matrix = df2.to_pandas().corr()\n",
        "\n",
        "# Visualize the correlation matrix as a heatmap\n",
        "plt.figure(figsize=(8, 6))\n",
        "plt.title(\"Correlation Heatmap\")\n",
        "sns.heatmap(corr_matrix, annot=True, cmap=\"coolwarm\")\n",
        "plt.show()"
      ]
    },
    {
      "cell_type": "code",
      "execution_count": null,
      "metadata": {
        "id": "ocQIJeC_1wyC"
      },
      "outputs": [],
      "source": [
        "# Include only necessary columns\n",
        "df = df.select(\n",
        "    pl.col(\"ID\"),\n",
        "    pl.col(\"Tweet\"),\n",
        "    pl.col(\"Tweet Translated\").alias(\"Translated\")\n",
        ")"
      ]
    },
    {
      "cell_type": "code",
      "execution_count": null,
      "metadata": {},
      "outputs": [],
      "source": [
        "df"
      ]
    },
    {
      "cell_type": "code",
      "execution_count": null,
      "metadata": {},
      "outputs": [],
      "source": []
    },
    {
      "cell_type": "code",
      "execution_count": null,
      "metadata": {
        "id": "SEX6abSJ1zKJ"
      },
      "outputs": [],
      "source": [
        "# Change tweet case to lowercase\n",
        "df = df.select(\n",
        "    pl.all(),\n",
        "    pl.col(\"Translated\").apply(lambda tweet: tweet.lower()).alias(\"Clean\")\n",
        ")"
      ]
    },
    {
      "cell_type": "code",
      "execution_count": null,
      "metadata": {},
      "outputs": [],
      "source": [
        "df"
      ]
    },
    {
      "cell_type": "code",
      "execution_count": null,
      "metadata": {
        "id": "xxWn2UW4_WNr"
      },
      "outputs": [],
      "source": [
        "# Remove hashtags\n",
        "df = df.select(\n",
        "    pl.exclude(\"Clean\"),\n",
        "    pl.col(\"Clean\").apply(lambda tweet: re.sub(\"#(\\w+)\", '', tweet))\n",
        ")"
      ]
    },
    {
      "cell_type": "code",
      "execution_count": null,
      "metadata": {
        "id": "SN_0gMLh8HWz"
      },
      "outputs": [],
      "source": [
        "# Replace all emojis into interpretation\n",
        "def emoji_to_word(tweet):\n",
        "  for symbol, interpretation in demoji.findall(tweet).items():\n",
        "    interpretation = interpretation.lower()\n",
        "    # Turn flag: Philippines into flagphilippines \n",
        "    interpretation = re.sub('[^0-9a-z]+', '', interpretation)\n",
        "    # replace all emojis to \"emojiinterpretation \"\n",
        "    tweet = re.sub(symbol, interpretation+' ', tweet)\n",
        "  return tweet\n",
        "\n",
        "df = df.select(\n",
        "    pl.exclude(\"Clean\"),\n",
        "    pl.col(\"Clean\").apply(emoji_to_word)\n",
        ")"
      ]
    },
    {
      "cell_type": "code",
      "execution_count": null,
      "metadata": {
        "id": "VCfJ-Nqq7LD4"
      },
      "outputs": [],
      "source": [
        "# Remove non alphanumeric characters\n",
        "df = df.select(\n",
        "    pl.exclude(\"Clean\"),\n",
        "    pl.col(\"Clean\").apply(lambda tweet: re.sub('[^0-9a-z]+', ' ', tweet))\n",
        ")"
      ]
    },
    {
      "cell_type": "code",
      "execution_count": null,
      "metadata": {
        "id": "GSnfF1n210yx"
      },
      "outputs": [],
      "source": [
        "# Cast Tweets to word array instead of long string.\n",
        "df = df.select(\n",
        "    pl.all(),\n",
        "    pl.col(\"Clean\").apply(lambda tweet: tweet.split()).cast(pl.List(str)).alias(\"Tokenized\")\n",
        ")"
      ]
    },
    {
      "cell_type": "code",
      "execution_count": null,
      "metadata": {
        "colab": {
          "base_uri": "https://localhost:8080/",
          "height": 235
        },
        "id": "zGwZCcBN12QZ",
        "outputId": "ed5db31e-1f75-4119-94f8-a13b010beba6"
      },
      "outputs": [],
      "source": [
        "# Strip english stopwords\n",
        "df = df.select(\n",
        "    pl.all(),\n",
        "    pl.col(\"Tokenized\").arr.eval(pl.element().filter(~pl.element().is_in(ensw)), parallel=True).alias(\"Stopwords Removed\")\n",
        ")"
      ]
    },
    {
      "cell_type": "code",
      "execution_count": null,
      "metadata": {
        "id": "6sjGF58uBU36"
      },
      "outputs": [],
      "source": [
        "# Stem and Lemmatize.\n",
        "from nltk.stem import PorterStemmer, WordNetLemmatizer\n",
        "nltk.download('wordnet')\n",
        "# Initialize the stemmer and lemmatizer\n",
        "stemmer = PorterStemmer()\n",
        "lemmatizer = WordNetLemmatizer()\n",
        "\n",
        "df = df.select(\n",
        "    pl.all(),\n",
        "    pl.col(\"Stopwords Removed\").apply(lambda words: [stemmer.stem(word) for word in words.to_list()]).alias(\"Stemmed\"),\n",
        "    pl.col(\"Stopwords Removed\").apply(lambda words: [lemmatizer.lemmatize(word) for word in words.to_list()]).alias(\"Lemmatized\")\n",
        ")"
      ]
    },
    {
      "cell_type": "code",
      "execution_count": null,
      "metadata": {
        "colab": {
          "base_uri": "https://localhost:8080/"
        },
        "id": "GGcYfwPM16OT",
        "outputId": "e8a94e34-0e8e-4f00-c4c0-7ba64d5f3480"
      },
      "outputs": [],
      "source": [
        "print(df)\n",
        "def serialize(arr):\n",
        "  return \" \".join(arr)\n",
        "df_serialized = df.select(\n",
        "    pl.col(\"ID\"),\n",
        "    pl.col(\"Tweet\"),\n",
        "    pl.col(\"Translated\"),\n",
        "    pl.col(\"Clean\"),\n",
        "    pl.col(\"Tokenized\").apply(serialize).cast(str),\n",
        "    pl.col(\"Stopwords Removed\").apply(serialize).cast(str),\n",
        "    pl.col(\"Stemmed\").apply(serialize).cast(str),\n",
        "    pl.col(\"Lemmatized\").apply(serialize).cast(str)\n",
        ")\n",
        "df_serialized.write_csv(\"clean.csv\")"
      ]
    }
  ],
  "metadata": {
    "colab": {
      "provenance": []
    },
    "kernelspec": {
      "display_name": "Python 3",
      "name": "python3"
    },
    "language_info": {
      "codemirror_mode": {
        "name": "ipython",
        "version": 3
      },
      "file_extension": ".py",
      "mimetype": "text/x-python",
      "name": "python",
      "nbconvert_exporter": "python",
      "pygments_lexer": "ipython3",
      "version": "3.11.3"
    }
  },
  "nbformat": 4,
  "nbformat_minor": 0
}
