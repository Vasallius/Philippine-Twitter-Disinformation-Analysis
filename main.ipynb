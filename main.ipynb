{
  "cells": [
    {
      "cell_type": "code",
      "execution_count": 163,
      "metadata": {
        "colab": {
          "base_uri": "https://localhost:8080/",
          "height": 339
        },
        "id": "XYchABerxjX_",
        "outputId": "351e7917-9d85-4370-f808-801acdaf63c4"
      },
      "outputs": [],
      "source": [
        "import polars as pl\n",
        "from nltk.corpus import stopwords\n",
        "import nltk\n",
        "import re\n",
        "import demoji"
      ]
    },
    {
      "cell_type": "code",
      "execution_count": 164,
      "metadata": {
        "id": "PwhDSfdD1e3R"
      },
      "outputs": [
        {
          "name": "stderr",
          "output_type": "stream",
          "text": [
            "[nltk_data] Downloading package stopwords to\n",
            "[nltk_data]     C:\\Users\\helpkreios\\AppData\\Roaming\\nltk_data...\n",
            "[nltk_data]   Package stopwords is already up-to-date!\n"
          ]
        }
      ],
      "source": [
        "# Load Stopwords and the dataset\n",
        "nltk.download('stopwords')\n",
        "ensw = stopwords.words('english')\n",
        "\n",
        "df = pl.read_csv(\"Complete_Data.csv\")\n"
      ]
    },
    {
      "attachments": {},
      "cell_type": "markdown",
      "metadata": {},
      "source": [
        "## Data Exploration\n",
        "\n",
        "For the first step, we wanted to re-format the `ID` section of the data set to remove the leading zeroes."
      ]
    },
    {
      "cell_type": "code",
      "execution_count": 165,
      "metadata": {
        "id": "fiOIL7641mOy"
      },
      "outputs": [],
      "source": [
        "# Clean ID Part\n",
        "df = df.select([\n",
        "    pl.col(\"ID\").apply(lambda id: id.split(\"-\")[1]).cast(pl.Int32),\n",
        "    pl.exclude(\"ID\")\n",
        "])\n",
        "\n"
      ]
    },
    {
      "attachments": {},
      "cell_type": "markdown",
      "metadata": {},
      "source": [
        "Next up, we will be making sure that our dataset only contains rows that have data on both the `Tweet`  and  `Tweet Url` column"
      ]
    },
    {
      "cell_type": "code",
      "execution_count": 166,
      "metadata": {
        "id": "Q6wB0hFB1uhS"
      },
      "outputs": [
        {
          "data": {
            "text/html": [
              "<div><style>\n",
              ".dataframe > thead > tr > th,\n",
              ".dataframe > tbody > tr > td {\n",
              "  text-align: right;\n",
              "}\n",
              "</style>\n",
              "<small>shape: (5, 32)</small><table border=\"1\" class=\"dataframe\"><thead><tr><th>ID</th><th>Timestamp</th><th>Tweet URL</th><th>Group</th><th>Collector</th><th>Category</th><th>Topic</th><th>Keywords</th><th>Account handle</th><th>Account name</th><th>Account bio</th><th>Account type</th><th>Joined</th><th>Following</th><th>Followers</th><th>Location</th><th>Tweet</th><th>Tweet Translated</th><th>Tweet Type</th><th>Date posted</th><th>Screenshot</th><th>Content type</th><th>Likes</th><th>Replies</th><th>Retweets</th><th>Quote Tweets</th><th>Views</th><th>Rating</th><th>Reasoning</th><th>Remarks</th><th>Reviewer</th><th>Review</th></tr><tr><td>i32</td><td>str</td><td>str</td><td>str</td><td>str</td><td>str</td><td>str</td><td>str</td><td>str</td><td>str</td><td>str</td><td>str</td><td>str</td><td>i64</td><td>i64</td><td>str</td><td>str</td><td>str</td><td>str</td><td>str</td><td>str</td><td>str</td><td>i64</td><td>i64</td><td>i64</td><td>i64</td><td>str</td><td>str</td><td>str</td><td>str</td><td>str</td><td>str</td></tr></thead><tbody><tr><td>1</td><td>&quot;30/12/99 05:12…</td><td>&quot;https://twitte…</td><td>null</td><td>&quot;Monasterial, M…</td><td>&quot;AQNO&quot;</td><td>&quot;Ninoy being li…</td><td>&quot;ninoy npa comm…</td><td>&quot;@arthur_vee&quot;</td><td>&quot;The King&quot;</td><td>&quot;I think, there…</td><td>&quot;Anonymous&quot;</td><td>&quot;02/12&quot;</td><td>2767</td><td>4255</td><td>&quot;London, Englan…</td><td>&quot;Cory Aquino: \r…</td><td>&quot;Cory Aquino:\r\n",
              "…</td><td>&quot;Text&quot;</td><td>&quot;06/07/22 04:43…</td><td>null</td><td>&quot;Rational&quot;</td><td>259</td><td>null</td><td>94</td><td>6</td><td>null</td><td>null</td><td>&quot;https://www.ra…</td><td>null</td><td>null</td><td>null</td></tr><tr><td>2</td><td>&quot;14/03/23 05:19…</td><td>&quot;https://twitte…</td><td>null</td><td>&quot;Monasterial, M…</td><td>&quot;AQNO&quot;</td><td>&quot;Ninoy being li…</td><td>&quot;ninoy npa comm…</td><td>&quot;@ItsJamMagno&quot;</td><td>&quot;Jam Magno&quot;</td><td>&quot;Ibahin niyo ak…</td><td>&quot;Identified&quot;</td><td>&quot;08/15&quot;</td><td>0</td><td>76100</td><td>&quot;Butuan City, P…</td><td>&quot;Ninoy Aquino i…</td><td>&quot;Ninoy Aquino i…</td><td>&quot;Text&quot;</td><td>&quot;21/08/22 15:35…</td><td>null</td><td>&quot;Rational&quot;</td><td>1231</td><td>null</td><td>271</td><td>21</td><td>null</td><td>null</td><td>&quot;https://www.ra…</td><td>null</td><td>null</td><td>null</td></tr><tr><td>3</td><td>&quot;14/03/23 05:24…</td><td>&quot;https://twitte…</td><td>null</td><td>&quot;Monasterial, M…</td><td>&quot;AQNO&quot;</td><td>&quot;Ninoy being li…</td><td>&quot;ninoy npa comm…</td><td>&quot;@Brad_Kardinal…</td><td>&quot;PBBM-VPSARA Fo…</td><td>&quot;I&#x27;m so proud o…</td><td>&quot;Anonymous&quot;</td><td>&quot;09/21&quot;</td><td>1787</td><td>2067</td><td>null</td><td>&quot;Ninoy is a tra…</td><td>&quot;Ninoy is a tra…</td><td>&quot;Text, Image&quot;</td><td>&quot;21/08/22 03:28…</td><td>null</td><td>&quot;Rational&quot;</td><td>188</td><td>null</td><td>78</td><td>15</td><td>null</td><td>null</td><td>&quot;https://www.on…</td><td>null</td><td>null</td><td>null</td></tr><tr><td>4</td><td>&quot;14/03/23 05:31…</td><td>&quot;https://twitte…</td><td>null</td><td>&quot;Monasterial, M…</td><td>&quot;AQNO&quot;</td><td>&quot;Ninoy being li…</td><td>&quot;ninoy npa comm…</td><td>&quot;@WinwinEklabu&quot;</td><td>&quot;Mr.Winwin_Situ…</td><td>&quot;I am proud to …</td><td>&quot;Anonymous&quot;</td><td>&quot;12/15&quot;</td><td>6462</td><td>7082</td><td>&quot;Metro Manila, …</td><td>&quot;Ninoy Aquino d…</td><td>&quot;Ninoy Aquino d…</td><td>&quot;Text, Image&quot;</td><td>&quot;22/08/22 06:22…</td><td>null</td><td>&quot;Rational&quot;</td><td>29</td><td>null</td><td>10</td><td>null</td><td>null</td><td>null</td><td>&quot;https://www.ra…</td><td>null</td><td>null</td><td>null</td></tr><tr><td>5</td><td>&quot;14/03/23 05:34…</td><td>&quot;https://twitte…</td><td>null</td><td>&quot;Monasterial, M…</td><td>&quot;AQNO&quot;</td><td>&quot;Ninoy being li…</td><td>&quot;ninoy npa comm…</td><td>&quot;@cierloX6&quot;</td><td>&quot;Cierlo&quot;</td><td>&quot;natsugi acct k…</td><td>&quot;Anonymous&quot;</td><td>&quot;02/22&quot;</td><td>542</td><td>532</td><td>null</td><td>&quot;ninoy aquino i…</td><td>&quot;ninoy aquino i…</td><td>&quot;Text&quot;</td><td>&quot;27/11/22 15:53…</td><td>null</td><td>&quot;Rational&quot;</td><td>55</td><td>null</td><td>17</td><td>1</td><td>null</td><td>null</td><td>null</td><td>null</td><td>null</td><td>null</td></tr></tbody></table></div>"
            ],
            "text/plain": [
              "shape: (5, 32)\n",
              "┌─────┬───────────┬───────────────────┬───────┬───┬──────────────────┬─────────┬──────────┬────────┐\n",
              "│ ID  ┆ Timestamp ┆ Tweet URL         ┆ Group ┆ … ┆ Reasoning        ┆ Remarks ┆ Reviewer ┆ Review │\n",
              "│ --- ┆ ---       ┆ ---               ┆ ---   ┆   ┆ ---              ┆ ---     ┆ ---      ┆ ---    │\n",
              "│ i32 ┆ str       ┆ str               ┆ str   ┆   ┆ str              ┆ str     ┆ str      ┆ str    │\n",
              "╞═════╪═══════════╪═══════════════════╪═══════╪═══╪══════════════════╪═════════╪══════════╪════════╡\n",
              "│ 1   ┆ 30/12/99  ┆ https://twitter.c ┆ null  ┆ … ┆ https://www.rapp ┆ null    ┆ null     ┆ null   │\n",
              "│     ┆ 05:12:57  ┆ om/arthur_vee/s…  ┆       ┆   ┆ ler.com/newsbrea ┆         ┆          ┆        │\n",
              "│     ┆           ┆                   ┆       ┆   ┆ …                ┆         ┆          ┆        │\n",
              "│ 2   ┆ 14/03/23  ┆ https://twitter.c ┆ null  ┆ … ┆ https://www.rapp ┆ null    ┆ null     ┆ null   │\n",
              "│     ┆ 05:19:21  ┆ om/ItsJamMagno/…  ┆       ┆   ┆ ler.com/newsbrea ┆         ┆          ┆        │\n",
              "│     ┆           ┆                   ┆       ┆   ┆ …                ┆         ┆          ┆        │\n",
              "│ 3   ┆ 14/03/23  ┆ https://twitter.c ┆ null  ┆ … ┆ https://www.onen ┆ null    ┆ null     ┆ null   │\n",
              "│     ┆ 05:24:10  ┆ om/Brad_Kardina…  ┆       ┆   ┆ ews.ph/articles/ ┆         ┆          ┆        │\n",
              "│     ┆           ┆                   ┆       ┆   ┆ …                ┆         ┆          ┆        │\n",
              "│ 4   ┆ 14/03/23  ┆ https://twitter.c ┆ null  ┆ … ┆ https://www.rapp ┆ null    ┆ null     ┆ null   │\n",
              "│     ┆ 05:31:30  ┆ om/WinwinEklabu…  ┆       ┆   ┆ ler.com/newsbrea ┆         ┆          ┆        │\n",
              "│     ┆           ┆                   ┆       ┆   ┆ …                ┆         ┆          ┆        │\n",
              "│ 5   ┆ 14/03/23  ┆ https://twitter.c ┆ null  ┆ … ┆ null             ┆ null    ┆ null     ┆ null   │\n",
              "│     ┆ 05:34:42  ┆ om/cierloX6/sta…  ┆       ┆   ┆                  ┆         ┆          ┆        │\n",
              "└─────┴───────────┴───────────────────┴───────┴───┴──────────────────┴─────────┴──────────┴────────┘"
            ]
          },
          "execution_count": 166,
          "metadata": {},
          "output_type": "execute_result"
        }
      ],
      "source": [
        "# Remove rows without tweet AND tweet URL\n",
        "df = df.filter(pl.col(\"Tweet\").is_not_null() & pl.col(\"Tweet URL\").is_not_null())\n",
        "df.head()\n"
      ]
    },
    {
      "attachments": {},
      "cell_type": "markdown",
      "metadata": {},
      "source": [
        "Since, the following columns: `Location`, `Account bio`, `Group`, `Collector`, `Category`, `Screenshot`, `Rating`, `Reasoning`, `Remarks`, `Reviewer`, `Views`, and `Review` are not needed, we will be removing them.\n",
        "\n"
      ]
    },
    {
      "cell_type": "code",
      "execution_count": 167,
      "metadata": {},
      "outputs": [
        {
          "data": {
            "text/html": [
              "<div><style>\n",
              ".dataframe > thead > tr > th,\n",
              ".dataframe > tbody > tr > td {\n",
              "  text-align: right;\n",
              "}\n",
              "</style>\n",
              "<small>shape: (153, 20)</small><table border=\"1\" class=\"dataframe\"><thead><tr><th>ID</th><th>Timestamp</th><th>Tweet URL</th><th>Topic</th><th>Account handle</th><th>Account name</th><th>Account type</th><th>Joined</th><th>Following</th><th>Followers</th><th>Tweet</th><th>Tweet Translated</th><th>Tweet Type</th><th>Date posted</th><th>Content type</th><th>Likes</th><th>Replies</th><th>Retweets</th><th>Quote Tweets</th><th>Views</th></tr><tr><td>i32</td><td>str</td><td>str</td><td>str</td><td>str</td><td>str</td><td>str</td><td>str</td><td>i64</td><td>i64</td><td>str</td><td>str</td><td>str</td><td>str</td><td>str</td><td>i64</td><td>i64</td><td>i64</td><td>i64</td><td>str</td></tr></thead><tbody><tr><td>1</td><td>&quot;30/12/99 05:12…</td><td>&quot;https://twitte…</td><td>&quot;Ninoy being li…</td><td>&quot;@arthur_vee&quot;</td><td>&quot;The King&quot;</td><td>&quot;Anonymous&quot;</td><td>&quot;02/12&quot;</td><td>2767</td><td>4255</td><td>&quot;Cory Aquino: \r…</td><td>&quot;Cory Aquino:\r\n",
              "…</td><td>&quot;Text&quot;</td><td>&quot;06/07/22 04:43…</td><td>&quot;Rational&quot;</td><td>259</td><td>null</td><td>94</td><td>6</td><td>null</td></tr><tr><td>2</td><td>&quot;14/03/23 05:19…</td><td>&quot;https://twitte…</td><td>&quot;Ninoy being li…</td><td>&quot;@ItsJamMagno&quot;</td><td>&quot;Jam Magno&quot;</td><td>&quot;Identified&quot;</td><td>&quot;08/15&quot;</td><td>0</td><td>76100</td><td>&quot;Ninoy Aquino i…</td><td>&quot;Ninoy Aquino i…</td><td>&quot;Text&quot;</td><td>&quot;21/08/22 15:35…</td><td>&quot;Rational&quot;</td><td>1231</td><td>null</td><td>271</td><td>21</td><td>null</td></tr><tr><td>3</td><td>&quot;14/03/23 05:24…</td><td>&quot;https://twitte…</td><td>&quot;Ninoy being li…</td><td>&quot;@Brad_Kardinal…</td><td>&quot;PBBM-VPSARA Fo…</td><td>&quot;Anonymous&quot;</td><td>&quot;09/21&quot;</td><td>1787</td><td>2067</td><td>&quot;Ninoy is a tra…</td><td>&quot;Ninoy is a tra…</td><td>&quot;Text, Image&quot;</td><td>&quot;21/08/22 03:28…</td><td>&quot;Rational&quot;</td><td>188</td><td>null</td><td>78</td><td>15</td><td>null</td></tr><tr><td>4</td><td>&quot;14/03/23 05:31…</td><td>&quot;https://twitte…</td><td>&quot;Ninoy being li…</td><td>&quot;@WinwinEklabu&quot;</td><td>&quot;Mr.Winwin_Situ…</td><td>&quot;Anonymous&quot;</td><td>&quot;12/15&quot;</td><td>6462</td><td>7082</td><td>&quot;Ninoy Aquino d…</td><td>&quot;Ninoy Aquino d…</td><td>&quot;Text, Image&quot;</td><td>&quot;22/08/22 06:22…</td><td>&quot;Rational&quot;</td><td>29</td><td>null</td><td>10</td><td>null</td><td>null</td></tr><tr><td>5</td><td>&quot;14/03/23 05:34…</td><td>&quot;https://twitte…</td><td>&quot;Ninoy being li…</td><td>&quot;@cierloX6&quot;</td><td>&quot;Cierlo&quot;</td><td>&quot;Anonymous&quot;</td><td>&quot;02/22&quot;</td><td>542</td><td>532</td><td>&quot;ninoy aquino i…</td><td>&quot;ninoy aquino i…</td><td>&quot;Text&quot;</td><td>&quot;27/11/22 15:53…</td><td>&quot;Rational&quot;</td><td>55</td><td>null</td><td>17</td><td>1</td><td>null</td></tr><tr><td>6</td><td>null</td><td>&quot;https://twitte…</td><td>&quot;Ninoy being li…</td><td>&quot;@LelangmoVlogg…</td><td>&quot;Winnie Corpuz&quot;</td><td>&quot;Identified&quot;</td><td>&quot;11/21&quot;</td><td>430</td><td>257</td><td>&quot;Yan Si NiNoy s…</td><td>&quot;That&#x27;s Ninoy h…</td><td>&quot;Text, Image, R…</td><td>&quot;30/12/21 14:14…</td><td>&quot;Emotional&quot;</td><td>0</td><td>0</td><td>0</td><td>0</td><td>null</td></tr><tr><td>7</td><td>&quot;30/12/99 21:26…</td><td>&quot;https://twitte…</td><td>&quot;Ninoy being li…</td><td>&quot;@iskonglasalis…</td><td>&quot;Benedict Excon…</td><td>&quot;Identified&quot;</td><td>&quot;04/09&quot;</td><td>2568</td><td>6097</td><td>&quot;Irony: The Com…</td><td>&quot;Irony: The Com…</td><td>&quot;Text, Reply&quot;</td><td>&quot;02/01/2020 02:…</td><td>&quot;Rational&quot;</td><td>5</td><td>0</td><td>0</td><td>0</td><td>null</td></tr><tr><td>8</td><td>&quot;30/12/99 21:31…</td><td>&quot;https://twitte…</td><td>&quot;Ninoy being li…</td><td>&quot;@mendozadino&quot;</td><td>&quot;Ryan Padua&quot;</td><td>&quot;Identified&quot;</td><td>&quot;07/10&quot;</td><td>260</td><td>37</td><td>&quot;@senbongrevill…</td><td>&quot;@senbagrevilla…</td><td>&quot;Text&quot;</td><td>&quot;1/17/2020&quot;</td><td>&quot;Emotional&quot;</td><td>0</td><td>null</td><td>0</td><td>null</td><td>null</td></tr><tr><td>9</td><td>&quot;30/12/99 21:31…</td><td>&quot;https://twitte…</td><td>&quot;Ninoy being li…</td><td>&quot;@dTnalakRiderS…</td><td>&quot;KulasSR&quot;</td><td>&quot;Anonymous&quot;</td><td>&quot;10/16&quot;</td><td>1519</td><td>3275</td><td>&quot;Meron akong hi…</td><td>&quot;I have a suspi…</td><td>&quot;Reply&quot;</td><td>&quot;Jan 23, 2020&quot;</td><td>&quot;Emotional&quot;</td><td>6</td><td>null</td><td>1</td><td>0</td><td>null</td></tr><tr><td>10</td><td>&quot;30/12/99 21:31…</td><td>&quot;https://twitte…</td><td>&quot;Ninoy being li…</td><td>&quot;@SLaKaTor&quot;</td><td>&quot;skalator&quot;</td><td>&quot;Anonymous&quot;</td><td>&quot;01/13&quot;</td><td>481</td><td>252</td><td>&quot;Pwede ng burah…</td><td>&quot;It is possible…</td><td>&quot;Reply&quot;</td><td>&quot;Jan 11, 2020&quot;</td><td>&quot;Rational&quot;</td><td>0</td><td>null</td><td>0</td><td>0</td><td>null</td></tr><tr><td>11</td><td>&quot;30/12/99 21:32…</td><td>&quot;https://twitte…</td><td>&quot;Ninoy being li…</td><td>&quot;@iskonglasalis…</td><td>&quot;Benedict Excon…</td><td>&quot;Identified&quot;</td><td>&quot;04/09&quot;</td><td>2568</td><td>6097</td><td>&quot;Ninoy Aquino c…</td><td>&quot;Ninoy Aquino c…</td><td>&quot;Quote Retweet&quot;</td><td>&quot;Jan 9, 2020&quot;</td><td>&quot;Rational&quot;</td><td>5</td><td>null</td><td>2</td><td>2</td><td>null</td></tr><tr><td>12</td><td>&quot;30/12/99 21:32…</td><td>&quot;https://twitte…</td><td>&quot;Ninoy being li…</td><td>&quot;@kramer_bo&quot;</td><td>&quot;Bo Kramer&quot;</td><td>&quot;Identified &quot;</td><td>&quot;10/19&quot;</td><td>823</td><td>382</td><td>&quot;These people r…</td><td>&quot;How many peopl…</td><td>&quot;Quote Retweet&quot;</td><td>&quot;Jan 23, 2020&quot;</td><td>&quot;Rational&quot;</td><td>1</td><td>null</td><td>1</td><td>0</td><td>null</td></tr><tr><td>&hellip;</td><td>&hellip;</td><td>&hellip;</td><td>&hellip;</td><td>&hellip;</td><td>&hellip;</td><td>&hellip;</td><td>&hellip;</td><td>&hellip;</td><td>&hellip;</td><td>&hellip;</td><td>&hellip;</td><td>&hellip;</td><td>&hellip;</td><td>&hellip;</td><td>&hellip;</td><td>&hellip;</td><td>&hellip;</td><td>&hellip;</td><td>&hellip;</td></tr><tr><td>142</td><td>&quot;30/12/99 07:44…</td><td>&quot;https://twitte…</td><td>&quot;Ninoy being li…</td><td>&quot;@TheDoctorLuck…</td><td>&quot;Doctor Luck&quot;</td><td>&quot;Anonymous&quot;</td><td>&quot;September 2013…</td><td>8035</td><td>20000</td><td>&quot;Ninoy is a her…</td><td>&quot;Ninoy is a her…</td><td>&quot;Text&quot;</td><td>&quot;7:19 AM · Aug …</td><td>&quot;Rational&quot;</td><td>846</td><td>22</td><td>272</td><td>35</td><td>null</td></tr><tr><td>143</td><td>&quot;30/12/99 07:44…</td><td>&quot;https://twitte…</td><td>&quot;Ninoy being li…</td><td>&quot;@Paps_Caloy&quot;</td><td>&quot;Paps Caloy&quot;</td><td>&quot;Anonymous&quot;</td><td>&quot;January 2018&quot;</td><td>1710</td><td>13600</td><td>&quot;#NinoyIsNotAHe…</td><td>&quot;#Ninoyisnotsee…</td><td>&quot;Text&quot;</td><td>&quot;11:16 AM · Aug…</td><td>&quot;Emotional&quot;</td><td>98</td><td>0</td><td>31</td><td>1</td><td>null</td></tr><tr><td>144</td><td>&quot;30/12/99 07:45…</td><td>&quot;https://twitte…</td><td>&quot;Ninoy being li…</td><td>&quot;@DontTryMeTsk&quot;</td><td>&quot;🎋🎍Mitch🎍🎋&quot;</td><td>&quot;Anonymous&quot;</td><td>&quot;December 2020&quot;</td><td>2814</td><td>3724</td><td>&quot;The monster th…</td><td>&quot;The monster th…</td><td>&quot;Text, Image&quot;</td><td>&quot;4:10 PM · Aug …</td><td>&quot;Rational&quot;</td><td>23</td><td>0</td><td>12</td><td>0</td><td>null</td></tr><tr><td>145</td><td>&quot;30/12/99 07:45…</td><td>&quot;https://twitte…</td><td>&quot;Ninoy being li…</td><td>&quot;@DodongPags&quot;</td><td>&quot;Dodong Pags&quot;</td><td>&quot;Anonymous&quot;</td><td>&quot;May 2021&quot;</td><td>2314</td><td>1667</td><td>&quot;NINOY AQUINO D…</td><td>&quot;NINOY AQUINO D…</td><td>&quot;Text&quot;</td><td>&quot;:41 PM · Aug 2…</td><td>&quot;Emotional&quot;</td><td>0</td><td>0</td><td>0</td><td>0</td><td>null</td></tr><tr><td>146</td><td>&quot;30/12/99 07:47…</td><td>&quot;https://twitte…</td><td>&quot;Ninoy being li…</td><td>&quot;@DinoMacaldo&quot;</td><td>&quot;Hepe Makinista…</td><td>&quot;Anonymous&quot;</td><td>&quot;April 2020&quot;</td><td>16</td><td>0</td><td>&quot;Ninoy is the m…</td><td>&quot;Ninoy is the m…</td><td>&quot;Text&quot;</td><td>&quot;9:52 AM · Aug …</td><td>&quot;Emotional&quot;</td><td>0</td><td>0</td><td>0</td><td>0</td><td>null</td></tr><tr><td>147</td><td>&quot;30/12/99 07:48…</td><td>&quot;https://twitte…</td><td>&quot;Ninoy being li…</td><td>&quot;@PulbuRonn&quot;</td><td>&quot;Ronn&quot;</td><td>&quot;Identified&quot;</td><td>&quot;September 2017…</td><td>144</td><td>3766</td><td>&quot;By yellowtard …</td><td>&quot;By yellowtard …</td><td>&quot;Text&quot;</td><td>&quot;10:03 PM · Aug…</td><td>&quot;Emotional&quot;</td><td>16</td><td>1</td><td>4</td><td>0</td><td>null</td></tr><tr><td>148</td><td>&quot;30/12/99 07:48…</td><td>&quot;https://twitte…</td><td>&quot;Ninoy being li…</td><td>&quot;@roumelle_p&quot;</td><td>&quot;ellemour&quot;</td><td>&quot;Anonymous&quot;</td><td>&quot;May 2021&quot;</td><td>14</td><td>2</td><td>&quot;Ninoy is a com…</td><td>&quot;Ninoy is a com…</td><td>&quot;Text&quot;</td><td>&quot;6:43 PM · Aug …</td><td>&quot;Emotional&quot;</td><td>0</td><td>0</td><td>0</td><td>0</td><td>null</td></tr><tr><td>149</td><td>&quot;30/12/99 07:48…</td><td>&quot;https://twitte…</td><td>&quot;Ninoy being li…</td><td>&quot;@theguru910100…</td><td>&quot;The Guru&quot;</td><td>&quot;Anonymous&quot;</td><td>&quot;April 2017&quot;</td><td>698</td><td>490</td><td>&quot;Philippines is…</td><td>&quot;Philippines is…</td><td>&quot;Text&quot;</td><td>&quot;8:26 AM · Aug …</td><td>&quot;Emotional&quot;</td><td>3</td><td>0</td><td>1</td><td>0</td><td>null</td></tr><tr><td>150</td><td>&quot;30/12/99 07:49…</td><td>&quot;https://twitte…</td><td>&quot;Ninoy being li…</td><td>&quot;@MDSOnwardPH22…</td><td>&quot;❤💞💞🇵🇭🇵🇭🙏🙏MARCO…</td><td>&quot;Anonymous&quot;</td><td>&quot;Joined May 201…</td><td>7966</td><td>12300</td><td>&quot;Ninoy is not w…</td><td>&quot;Ninoy is not w…</td><td>&quot;Text, Image&quot;</td><td>&quot;4:48 PM · Aug …</td><td>&quot;Emotional&quot;</td><td>13</td><td>1</td><td>8</td><td>2</td><td>null</td></tr><tr><td>151</td><td>&quot;30/12/99 07:49…</td><td>&quot;https://twitte…</td><td>&quot;Ninoy being li…</td><td>&quot;@bivoc1&quot;</td><td>&quot;bivoc&quot;</td><td>&quot;Anonymous&quot;</td><td>&quot;April 2020&quot;</td><td>5</td><td>0</td><td>&quot;common, ninoy …</td><td>&quot;common, ninoy …</td><td>&quot;Text&quot;</td><td>&quot;7:38 PM · Aug …</td><td>&quot;Emotional&quot;</td><td>0</td><td>0</td><td>0</td><td>0</td><td>null</td></tr><tr><td>152</td><td>&quot;30/12/99 07:50…</td><td>&quot;https://twitte…</td><td>&quot;Ninoy being li…</td><td>&quot;@ManolitoManta…</td><td>&quot;My love&quot;</td><td>&quot;Anonymous&quot;</td><td>&quot;February 2020&quot;</td><td>20</td><td>12</td><td>&quot;npa founder 😎&quot;</td><td>&quot;npa founder 😎&quot;</td><td>&quot;Text&quot;</td><td>&quot;7:58 AM · Aug …</td><td>&quot;Emotional&quot;</td><td>0</td><td>0</td><td>0</td><td>0</td><td>null</td></tr><tr><td>153</td><td>&quot;7:52:57 AM&quot;</td><td>&quot;https://twitte…</td><td>&quot;Ninoy being li…</td><td>&quot;@thatsthetweet…</td><td>&quot;that&#x27;s the twe…</td><td>&quot;Anonymous&quot;</td><td>&quot;August 2009&quot;</td><td>2032</td><td>1117</td><td>&quot;They couldn&#x27;t …</td><td>&quot;They couldn&#x27;t …</td><td>&quot;Text&quot;</td><td>&quot;21/07/21 22:46…</td><td>&quot;Rational&quot;</td><td>1</td><td>1</td><td>0</td><td>0</td><td>null</td></tr></tbody></table></div>"
            ],
            "text/plain": [
              "shape: (153, 20)\n",
              "┌─────┬──────────────┬──────────────┬──────────────┬───┬─────────┬──────────┬──────────────┬───────┐\n",
              "│ ID  ┆ Timestamp    ┆ Tweet URL    ┆ Topic        ┆ … ┆ Replies ┆ Retweets ┆ Quote Tweets ┆ Views │\n",
              "│ --- ┆ ---          ┆ ---          ┆ ---          ┆   ┆ ---     ┆ ---      ┆ ---          ┆ ---   │\n",
              "│ i32 ┆ str          ┆ str          ┆ str          ┆   ┆ i64     ┆ i64      ┆ i64          ┆ str   │\n",
              "╞═════╪══════════════╪══════════════╪══════════════╪═══╪═════════╪══════════╪══════════════╪═══════╡\n",
              "│ 1   ┆ 30/12/99     ┆ https://twit ┆ Ninoy being  ┆ … ┆ null    ┆ 94       ┆ 6            ┆ null  │\n",
              "│     ┆ 05:12:57     ┆ ter.com/arth ┆ linked to    ┆   ┆         ┆          ┆              ┆       │\n",
              "│     ┆              ┆ ur_vee/s…    ┆ communist,…  ┆   ┆         ┆          ┆              ┆       │\n",
              "│ 2   ┆ 14/03/23     ┆ https://twit ┆ Ninoy being  ┆ … ┆ null    ┆ 271      ┆ 21           ┆ null  │\n",
              "│     ┆ 05:19:21     ┆ ter.com/ItsJ ┆ linked to    ┆   ┆         ┆          ┆              ┆       │\n",
              "│     ┆              ┆ amMagno/…    ┆ communist,…  ┆   ┆         ┆          ┆              ┆       │\n",
              "│ 3   ┆ 14/03/23     ┆ https://twit ┆ Ninoy being  ┆ … ┆ null    ┆ 78       ┆ 15           ┆ null  │\n",
              "│     ┆ 05:24:10     ┆ ter.com/Brad ┆ linked to    ┆   ┆         ┆          ┆              ┆       │\n",
              "│     ┆              ┆ _Kardina…    ┆ communist,…  ┆   ┆         ┆          ┆              ┆       │\n",
              "│ 4   ┆ 14/03/23     ┆ https://twit ┆ Ninoy being  ┆ … ┆ null    ┆ 10       ┆ null         ┆ null  │\n",
              "│     ┆ 05:31:30     ┆ ter.com/Winw ┆ linked to    ┆   ┆         ┆          ┆              ┆       │\n",
              "│     ┆              ┆ inEklabu…    ┆ communist,…  ┆   ┆         ┆          ┆              ┆       │\n",
              "│ …   ┆ …            ┆ …            ┆ …            ┆ … ┆ …       ┆ …        ┆ …            ┆ …     │\n",
              "│ 150 ┆ 30/12/99     ┆ https://twit ┆ Ninoy being  ┆ … ┆ 1       ┆ 8        ┆ 2            ┆ null  │\n",
              "│     ┆ 07:49:57     ┆ ter.com/MDSO ┆ linked to    ┆   ┆         ┆          ┆              ┆       │\n",
              "│     ┆              ┆ nwardPH2…    ┆ communist,…  ┆   ┆         ┆          ┆              ┆       │\n",
              "│ 151 ┆ 30/12/99     ┆ https://twit ┆ Ninoy being  ┆ … ┆ 0       ┆ 0        ┆ 0            ┆ null  │\n",
              "│     ┆ 07:49:37     ┆ ter.com/bivo ┆ linked to    ┆   ┆         ┆          ┆              ┆       │\n",
              "│     ┆              ┆ c1/statu…    ┆ communist,…  ┆   ┆         ┆          ┆              ┆       │\n",
              "│ 152 ┆ 30/12/99     ┆ https://twit ┆ Ninoy being  ┆ … ┆ 0       ┆ 0        ┆ 0            ┆ null  │\n",
              "│     ┆ 07:50:23     ┆ ter.com/Mano ┆ linked to    ┆   ┆         ┆          ┆              ┆       │\n",
              "│     ┆              ┆ litoMant…    ┆ communist,…  ┆   ┆         ┆          ┆              ┆       │\n",
              "│ 153 ┆ 7:52:57 AM   ┆ https://twit ┆ Ninoy being  ┆ … ┆ 1       ┆ 0        ┆ 0            ┆ null  │\n",
              "│     ┆              ┆ ter.com/that ┆ linked to    ┆   ┆         ┆          ┆              ┆       │\n",
              "│     ┆              ┆ sthetwee…    ┆ communist,…  ┆   ┆         ┆          ┆              ┆       │\n",
              "└─────┴──────────────┴──────────────┴──────────────┴───┴─────────┴──────────┴──────────────┴───────┘"
            ]
          },
          "execution_count": 167,
          "metadata": {},
          "output_type": "execute_result"
        }
      ],
      "source": [
        "df = df.drop(['Location', 'Account bio', 'Group','Collector', 'Category','Keywords','Rating','Reasoning', 'Remarks','Reviewer','Review', 'Screenshot', 'Views'])  # Drop multiple columns\n",
        "\n",
        "df"
      ]
    },
    {
      "attachments": {},
      "cell_type": "markdown",
      "metadata": {},
      "source": [
        "We will now be checking how big our dataset is. We do this by checking `df.shape` This revealed that we have 153 unique rows to work with. However, we have some entries that have a null value. To handle this we need to check whether we can replace the null value with a value otherwise we need to fill that up. In the `Content type` column which is categoric column, we cannot simply do this. Hence, I will be reviewing the dataset and input the values manually and importing it again. On the other hand, engagement metrics that are null we can safely set to 0. "
      ]
    },
    {
      "cell_type": "code",
      "execution_count": 168,
      "metadata": {},
      "outputs": [],
      "source": [
        "df = df.fill_null(0)\n"
      ]
    },
    {
      "cell_type": "code",
      "execution_count": 169,
      "metadata": {},
      "outputs": [
        {
          "data": {
            "text/html": [
              "<div><style>\n",
              ".dataframe > thead > tr > th,\n",
              ".dataframe > tbody > tr > td {\n",
              "  text-align: right;\n",
              "}\n",
              "</style>\n",
              "<small>shape: (153, 20)</small><table border=\"1\" class=\"dataframe\"><thead><tr><th>ID</th><th>Timestamp</th><th>Tweet URL</th><th>Topic</th><th>Account handle</th><th>Account name</th><th>Account type</th><th>Joined</th><th>Following</th><th>Followers</th><th>Tweet</th><th>Tweet Translated</th><th>Tweet Type</th><th>Date posted</th><th>Content type</th><th>Likes</th><th>Replies</th><th>Retweets</th><th>Quote Tweets</th><th>Views</th></tr><tr><td>i32</td><td>str</td><td>str</td><td>str</td><td>str</td><td>str</td><td>str</td><td>str</td><td>i64</td><td>i64</td><td>str</td><td>str</td><td>str</td><td>str</td><td>str</td><td>i64</td><td>i64</td><td>i64</td><td>i64</td><td>str</td></tr></thead><tbody><tr><td>1</td><td>&quot;30/12/99 05:12…</td><td>&quot;https://twitte…</td><td>&quot;Ninoy being li…</td><td>&quot;@arthur_vee&quot;</td><td>&quot;The King&quot;</td><td>&quot;Anonymous&quot;</td><td>&quot;02/12&quot;</td><td>2767</td><td>4255</td><td>&quot;Cory Aquino: \r…</td><td>&quot;Cory Aquino:\r\n",
              "…</td><td>&quot;Text&quot;</td><td>&quot;06/07/22 04:43…</td><td>&quot;Rational&quot;</td><td>259</td><td>0</td><td>94</td><td>6</td><td>null</td></tr><tr><td>2</td><td>&quot;14/03/23 05:19…</td><td>&quot;https://twitte…</td><td>&quot;Ninoy being li…</td><td>&quot;@ItsJamMagno&quot;</td><td>&quot;Jam Magno&quot;</td><td>&quot;Identified&quot;</td><td>&quot;08/15&quot;</td><td>0</td><td>76100</td><td>&quot;Ninoy Aquino i…</td><td>&quot;Ninoy Aquino i…</td><td>&quot;Text&quot;</td><td>&quot;21/08/22 15:35…</td><td>&quot;Rational&quot;</td><td>1231</td><td>0</td><td>271</td><td>21</td><td>null</td></tr><tr><td>3</td><td>&quot;14/03/23 05:24…</td><td>&quot;https://twitte…</td><td>&quot;Ninoy being li…</td><td>&quot;@Brad_Kardinal…</td><td>&quot;PBBM-VPSARA Fo…</td><td>&quot;Anonymous&quot;</td><td>&quot;09/21&quot;</td><td>1787</td><td>2067</td><td>&quot;Ninoy is a tra…</td><td>&quot;Ninoy is a tra…</td><td>&quot;Text, Image&quot;</td><td>&quot;21/08/22 03:28…</td><td>&quot;Rational&quot;</td><td>188</td><td>0</td><td>78</td><td>15</td><td>null</td></tr><tr><td>4</td><td>&quot;14/03/23 05:31…</td><td>&quot;https://twitte…</td><td>&quot;Ninoy being li…</td><td>&quot;@WinwinEklabu&quot;</td><td>&quot;Mr.Winwin_Situ…</td><td>&quot;Anonymous&quot;</td><td>&quot;12/15&quot;</td><td>6462</td><td>7082</td><td>&quot;Ninoy Aquino d…</td><td>&quot;Ninoy Aquino d…</td><td>&quot;Text, Image&quot;</td><td>&quot;22/08/22 06:22…</td><td>&quot;Rational&quot;</td><td>29</td><td>0</td><td>10</td><td>0</td><td>null</td></tr><tr><td>5</td><td>&quot;14/03/23 05:34…</td><td>&quot;https://twitte…</td><td>&quot;Ninoy being li…</td><td>&quot;@cierloX6&quot;</td><td>&quot;Cierlo&quot;</td><td>&quot;Anonymous&quot;</td><td>&quot;02/22&quot;</td><td>542</td><td>532</td><td>&quot;ninoy aquino i…</td><td>&quot;ninoy aquino i…</td><td>&quot;Text&quot;</td><td>&quot;27/11/22 15:53…</td><td>&quot;Rational&quot;</td><td>55</td><td>0</td><td>17</td><td>1</td><td>null</td></tr><tr><td>6</td><td>null</td><td>&quot;https://twitte…</td><td>&quot;Ninoy being li…</td><td>&quot;@LelangmoVlogg…</td><td>&quot;Winnie Corpuz&quot;</td><td>&quot;Identified&quot;</td><td>&quot;11/21&quot;</td><td>430</td><td>257</td><td>&quot;Yan Si NiNoy s…</td><td>&quot;That&#x27;s Ninoy h…</td><td>&quot;Text, Image, R…</td><td>&quot;30/12/21 14:14…</td><td>&quot;Emotional&quot;</td><td>0</td><td>0</td><td>0</td><td>0</td><td>null</td></tr><tr><td>7</td><td>&quot;30/12/99 21:26…</td><td>&quot;https://twitte…</td><td>&quot;Ninoy being li…</td><td>&quot;@iskonglasalis…</td><td>&quot;Benedict Excon…</td><td>&quot;Identified&quot;</td><td>&quot;04/09&quot;</td><td>2568</td><td>6097</td><td>&quot;Irony: The Com…</td><td>&quot;Irony: The Com…</td><td>&quot;Text, Reply&quot;</td><td>&quot;02/01/2020 02:…</td><td>&quot;Rational&quot;</td><td>5</td><td>0</td><td>0</td><td>0</td><td>null</td></tr><tr><td>8</td><td>&quot;30/12/99 21:31…</td><td>&quot;https://twitte…</td><td>&quot;Ninoy being li…</td><td>&quot;@mendozadino&quot;</td><td>&quot;Ryan Padua&quot;</td><td>&quot;Identified&quot;</td><td>&quot;07/10&quot;</td><td>260</td><td>37</td><td>&quot;@senbongrevill…</td><td>&quot;@senbagrevilla…</td><td>&quot;Text&quot;</td><td>&quot;1/17/2020&quot;</td><td>&quot;Emotional&quot;</td><td>0</td><td>0</td><td>0</td><td>0</td><td>null</td></tr><tr><td>9</td><td>&quot;30/12/99 21:31…</td><td>&quot;https://twitte…</td><td>&quot;Ninoy being li…</td><td>&quot;@dTnalakRiderS…</td><td>&quot;KulasSR&quot;</td><td>&quot;Anonymous&quot;</td><td>&quot;10/16&quot;</td><td>1519</td><td>3275</td><td>&quot;Meron akong hi…</td><td>&quot;I have a suspi…</td><td>&quot;Reply&quot;</td><td>&quot;Jan 23, 2020&quot;</td><td>&quot;Emotional&quot;</td><td>6</td><td>0</td><td>1</td><td>0</td><td>null</td></tr><tr><td>10</td><td>&quot;30/12/99 21:31…</td><td>&quot;https://twitte…</td><td>&quot;Ninoy being li…</td><td>&quot;@SLaKaTor&quot;</td><td>&quot;skalator&quot;</td><td>&quot;Anonymous&quot;</td><td>&quot;01/13&quot;</td><td>481</td><td>252</td><td>&quot;Pwede ng burah…</td><td>&quot;It is possible…</td><td>&quot;Reply&quot;</td><td>&quot;Jan 11, 2020&quot;</td><td>&quot;Rational&quot;</td><td>0</td><td>0</td><td>0</td><td>0</td><td>null</td></tr><tr><td>11</td><td>&quot;30/12/99 21:32…</td><td>&quot;https://twitte…</td><td>&quot;Ninoy being li…</td><td>&quot;@iskonglasalis…</td><td>&quot;Benedict Excon…</td><td>&quot;Identified&quot;</td><td>&quot;04/09&quot;</td><td>2568</td><td>6097</td><td>&quot;Ninoy Aquino c…</td><td>&quot;Ninoy Aquino c…</td><td>&quot;Quote Retweet&quot;</td><td>&quot;Jan 9, 2020&quot;</td><td>&quot;Rational&quot;</td><td>5</td><td>0</td><td>2</td><td>2</td><td>null</td></tr><tr><td>12</td><td>&quot;30/12/99 21:32…</td><td>&quot;https://twitte…</td><td>&quot;Ninoy being li…</td><td>&quot;@kramer_bo&quot;</td><td>&quot;Bo Kramer&quot;</td><td>&quot;Identified &quot;</td><td>&quot;10/19&quot;</td><td>823</td><td>382</td><td>&quot;These people r…</td><td>&quot;How many peopl…</td><td>&quot;Quote Retweet&quot;</td><td>&quot;Jan 23, 2020&quot;</td><td>&quot;Rational&quot;</td><td>1</td><td>0</td><td>1</td><td>0</td><td>null</td></tr><tr><td>&hellip;</td><td>&hellip;</td><td>&hellip;</td><td>&hellip;</td><td>&hellip;</td><td>&hellip;</td><td>&hellip;</td><td>&hellip;</td><td>&hellip;</td><td>&hellip;</td><td>&hellip;</td><td>&hellip;</td><td>&hellip;</td><td>&hellip;</td><td>&hellip;</td><td>&hellip;</td><td>&hellip;</td><td>&hellip;</td><td>&hellip;</td><td>&hellip;</td></tr><tr><td>142</td><td>&quot;30/12/99 07:44…</td><td>&quot;https://twitte…</td><td>&quot;Ninoy being li…</td><td>&quot;@TheDoctorLuck…</td><td>&quot;Doctor Luck&quot;</td><td>&quot;Anonymous&quot;</td><td>&quot;September 2013…</td><td>8035</td><td>20000</td><td>&quot;Ninoy is a her…</td><td>&quot;Ninoy is a her…</td><td>&quot;Text&quot;</td><td>&quot;7:19 AM · Aug …</td><td>&quot;Rational&quot;</td><td>846</td><td>22</td><td>272</td><td>35</td><td>null</td></tr><tr><td>143</td><td>&quot;30/12/99 07:44…</td><td>&quot;https://twitte…</td><td>&quot;Ninoy being li…</td><td>&quot;@Paps_Caloy&quot;</td><td>&quot;Paps Caloy&quot;</td><td>&quot;Anonymous&quot;</td><td>&quot;January 2018&quot;</td><td>1710</td><td>13600</td><td>&quot;#NinoyIsNotAHe…</td><td>&quot;#Ninoyisnotsee…</td><td>&quot;Text&quot;</td><td>&quot;11:16 AM · Aug…</td><td>&quot;Emotional&quot;</td><td>98</td><td>0</td><td>31</td><td>1</td><td>null</td></tr><tr><td>144</td><td>&quot;30/12/99 07:45…</td><td>&quot;https://twitte…</td><td>&quot;Ninoy being li…</td><td>&quot;@DontTryMeTsk&quot;</td><td>&quot;🎋🎍Mitch🎍🎋&quot;</td><td>&quot;Anonymous&quot;</td><td>&quot;December 2020&quot;</td><td>2814</td><td>3724</td><td>&quot;The monster th…</td><td>&quot;The monster th…</td><td>&quot;Text, Image&quot;</td><td>&quot;4:10 PM · Aug …</td><td>&quot;Rational&quot;</td><td>23</td><td>0</td><td>12</td><td>0</td><td>null</td></tr><tr><td>145</td><td>&quot;30/12/99 07:45…</td><td>&quot;https://twitte…</td><td>&quot;Ninoy being li…</td><td>&quot;@DodongPags&quot;</td><td>&quot;Dodong Pags&quot;</td><td>&quot;Anonymous&quot;</td><td>&quot;May 2021&quot;</td><td>2314</td><td>1667</td><td>&quot;NINOY AQUINO D…</td><td>&quot;NINOY AQUINO D…</td><td>&quot;Text&quot;</td><td>&quot;:41 PM · Aug 2…</td><td>&quot;Emotional&quot;</td><td>0</td><td>0</td><td>0</td><td>0</td><td>null</td></tr><tr><td>146</td><td>&quot;30/12/99 07:47…</td><td>&quot;https://twitte…</td><td>&quot;Ninoy being li…</td><td>&quot;@DinoMacaldo&quot;</td><td>&quot;Hepe Makinista…</td><td>&quot;Anonymous&quot;</td><td>&quot;April 2020&quot;</td><td>16</td><td>0</td><td>&quot;Ninoy is the m…</td><td>&quot;Ninoy is the m…</td><td>&quot;Text&quot;</td><td>&quot;9:52 AM · Aug …</td><td>&quot;Emotional&quot;</td><td>0</td><td>0</td><td>0</td><td>0</td><td>null</td></tr><tr><td>147</td><td>&quot;30/12/99 07:48…</td><td>&quot;https://twitte…</td><td>&quot;Ninoy being li…</td><td>&quot;@PulbuRonn&quot;</td><td>&quot;Ronn&quot;</td><td>&quot;Identified&quot;</td><td>&quot;September 2017…</td><td>144</td><td>3766</td><td>&quot;By yellowtard …</td><td>&quot;By yellowtard …</td><td>&quot;Text&quot;</td><td>&quot;10:03 PM · Aug…</td><td>&quot;Emotional&quot;</td><td>16</td><td>1</td><td>4</td><td>0</td><td>null</td></tr><tr><td>148</td><td>&quot;30/12/99 07:48…</td><td>&quot;https://twitte…</td><td>&quot;Ninoy being li…</td><td>&quot;@roumelle_p&quot;</td><td>&quot;ellemour&quot;</td><td>&quot;Anonymous&quot;</td><td>&quot;May 2021&quot;</td><td>14</td><td>2</td><td>&quot;Ninoy is a com…</td><td>&quot;Ninoy is a com…</td><td>&quot;Text&quot;</td><td>&quot;6:43 PM · Aug …</td><td>&quot;Emotional&quot;</td><td>0</td><td>0</td><td>0</td><td>0</td><td>null</td></tr><tr><td>149</td><td>&quot;30/12/99 07:48…</td><td>&quot;https://twitte…</td><td>&quot;Ninoy being li…</td><td>&quot;@theguru910100…</td><td>&quot;The Guru&quot;</td><td>&quot;Anonymous&quot;</td><td>&quot;April 2017&quot;</td><td>698</td><td>490</td><td>&quot;Philippines is…</td><td>&quot;Philippines is…</td><td>&quot;Text&quot;</td><td>&quot;8:26 AM · Aug …</td><td>&quot;Emotional&quot;</td><td>3</td><td>0</td><td>1</td><td>0</td><td>null</td></tr><tr><td>150</td><td>&quot;30/12/99 07:49…</td><td>&quot;https://twitte…</td><td>&quot;Ninoy being li…</td><td>&quot;@MDSOnwardPH22…</td><td>&quot;❤💞💞🇵🇭🇵🇭🙏🙏MARCO…</td><td>&quot;Anonymous&quot;</td><td>&quot;Joined May 201…</td><td>7966</td><td>12300</td><td>&quot;Ninoy is not w…</td><td>&quot;Ninoy is not w…</td><td>&quot;Text, Image&quot;</td><td>&quot;4:48 PM · Aug …</td><td>&quot;Emotional&quot;</td><td>13</td><td>1</td><td>8</td><td>2</td><td>null</td></tr><tr><td>151</td><td>&quot;30/12/99 07:49…</td><td>&quot;https://twitte…</td><td>&quot;Ninoy being li…</td><td>&quot;@bivoc1&quot;</td><td>&quot;bivoc&quot;</td><td>&quot;Anonymous&quot;</td><td>&quot;April 2020&quot;</td><td>5</td><td>0</td><td>&quot;common, ninoy …</td><td>&quot;common, ninoy …</td><td>&quot;Text&quot;</td><td>&quot;7:38 PM · Aug …</td><td>&quot;Emotional&quot;</td><td>0</td><td>0</td><td>0</td><td>0</td><td>null</td></tr><tr><td>152</td><td>&quot;30/12/99 07:50…</td><td>&quot;https://twitte…</td><td>&quot;Ninoy being li…</td><td>&quot;@ManolitoManta…</td><td>&quot;My love&quot;</td><td>&quot;Anonymous&quot;</td><td>&quot;February 2020&quot;</td><td>20</td><td>12</td><td>&quot;npa founder 😎&quot;</td><td>&quot;npa founder 😎&quot;</td><td>&quot;Text&quot;</td><td>&quot;7:58 AM · Aug …</td><td>&quot;Emotional&quot;</td><td>0</td><td>0</td><td>0</td><td>0</td><td>null</td></tr><tr><td>153</td><td>&quot;7:52:57 AM&quot;</td><td>&quot;https://twitte…</td><td>&quot;Ninoy being li…</td><td>&quot;@thatsthetweet…</td><td>&quot;that&#x27;s the twe…</td><td>&quot;Anonymous&quot;</td><td>&quot;August 2009&quot;</td><td>2032</td><td>1117</td><td>&quot;They couldn&#x27;t …</td><td>&quot;They couldn&#x27;t …</td><td>&quot;Text&quot;</td><td>&quot;21/07/21 22:46…</td><td>&quot;Rational&quot;</td><td>1</td><td>1</td><td>0</td><td>0</td><td>null</td></tr></tbody></table></div>"
            ],
            "text/plain": [
              "shape: (153, 20)\n",
              "┌─────┬──────────────┬──────────────┬──────────────┬───┬─────────┬──────────┬──────────────┬───────┐\n",
              "│ ID  ┆ Timestamp    ┆ Tweet URL    ┆ Topic        ┆ … ┆ Replies ┆ Retweets ┆ Quote Tweets ┆ Views │\n",
              "│ --- ┆ ---          ┆ ---          ┆ ---          ┆   ┆ ---     ┆ ---      ┆ ---          ┆ ---   │\n",
              "│ i32 ┆ str          ┆ str          ┆ str          ┆   ┆ i64     ┆ i64      ┆ i64          ┆ str   │\n",
              "╞═════╪══════════════╪══════════════╪══════════════╪═══╪═════════╪══════════╪══════════════╪═══════╡\n",
              "│ 1   ┆ 30/12/99     ┆ https://twit ┆ Ninoy being  ┆ … ┆ 0       ┆ 94       ┆ 6            ┆ null  │\n",
              "│     ┆ 05:12:57     ┆ ter.com/arth ┆ linked to    ┆   ┆         ┆          ┆              ┆       │\n",
              "│     ┆              ┆ ur_vee/s…    ┆ communist,…  ┆   ┆         ┆          ┆              ┆       │\n",
              "│ 2   ┆ 14/03/23     ┆ https://twit ┆ Ninoy being  ┆ … ┆ 0       ┆ 271      ┆ 21           ┆ null  │\n",
              "│     ┆ 05:19:21     ┆ ter.com/ItsJ ┆ linked to    ┆   ┆         ┆          ┆              ┆       │\n",
              "│     ┆              ┆ amMagno/…    ┆ communist,…  ┆   ┆         ┆          ┆              ┆       │\n",
              "│ 3   ┆ 14/03/23     ┆ https://twit ┆ Ninoy being  ┆ … ┆ 0       ┆ 78       ┆ 15           ┆ null  │\n",
              "│     ┆ 05:24:10     ┆ ter.com/Brad ┆ linked to    ┆   ┆         ┆          ┆              ┆       │\n",
              "│     ┆              ┆ _Kardina…    ┆ communist,…  ┆   ┆         ┆          ┆              ┆       │\n",
              "│ 4   ┆ 14/03/23     ┆ https://twit ┆ Ninoy being  ┆ … ┆ 0       ┆ 10       ┆ 0            ┆ null  │\n",
              "│     ┆ 05:31:30     ┆ ter.com/Winw ┆ linked to    ┆   ┆         ┆          ┆              ┆       │\n",
              "│     ┆              ┆ inEklabu…    ┆ communist,…  ┆   ┆         ┆          ┆              ┆       │\n",
              "│ …   ┆ …            ┆ …            ┆ …            ┆ … ┆ …       ┆ …        ┆ …            ┆ …     │\n",
              "│ 150 ┆ 30/12/99     ┆ https://twit ┆ Ninoy being  ┆ … ┆ 1       ┆ 8        ┆ 2            ┆ null  │\n",
              "│     ┆ 07:49:57     ┆ ter.com/MDSO ┆ linked to    ┆   ┆         ┆          ┆              ┆       │\n",
              "│     ┆              ┆ nwardPH2…    ┆ communist,…  ┆   ┆         ┆          ┆              ┆       │\n",
              "│ 151 ┆ 30/12/99     ┆ https://twit ┆ Ninoy being  ┆ … ┆ 0       ┆ 0        ┆ 0            ┆ null  │\n",
              "│     ┆ 07:49:37     ┆ ter.com/bivo ┆ linked to    ┆   ┆         ┆          ┆              ┆       │\n",
              "│     ┆              ┆ c1/statu…    ┆ communist,…  ┆   ┆         ┆          ┆              ┆       │\n",
              "│ 152 ┆ 30/12/99     ┆ https://twit ┆ Ninoy being  ┆ … ┆ 0       ┆ 0        ┆ 0            ┆ null  │\n",
              "│     ┆ 07:50:23     ┆ ter.com/Mano ┆ linked to    ┆   ┆         ┆          ┆              ┆       │\n",
              "│     ┆              ┆ litoMant…    ┆ communist,…  ┆   ┆         ┆          ┆              ┆       │\n",
              "│ 153 ┆ 7:52:57 AM   ┆ https://twit ┆ Ninoy being  ┆ … ┆ 1       ┆ 0        ┆ 0            ┆ null  │\n",
              "│     ┆              ┆ ter.com/that ┆ linked to    ┆   ┆         ┆          ┆              ┆       │\n",
              "│     ┆              ┆ sthetwee…    ┆ communist,…  ┆   ┆         ┆          ┆              ┆       │\n",
              "└─────┴──────────────┴──────────────┴──────────────┴───┴─────────┴──────────┴──────────────┴───────┘"
            ]
          },
          "execution_count": 169,
          "metadata": {},
          "output_type": "execute_result"
        }
      ],
      "source": [
        "df"
      ]
    },
    {
      "cell_type": "code",
      "execution_count": 170,
      "metadata": {},
      "outputs": [
        {
          "name": "stdout",
          "output_type": "stream",
          "text": [
            "shape: (153, 5)\n",
            "┌─────┬──────────────────┬───────────┬───────────┬──────────────┐\n",
            "│ ID  ┆ Account handle   ┆ Following ┆ Followers ┆ Account type │\n",
            "│ --- ┆ ---              ┆ ---       ┆ ---       ┆ ---          │\n",
            "│ i32 ┆ str              ┆ i64       ┆ i64       ┆ str          │\n",
            "╞═════╪══════════════════╪═══════════╪═══════════╪══════════════╡\n",
            "│ 1   ┆ @arthur_vee      ┆ 2767      ┆ 4255      ┆ Anonymous    │\n",
            "│ 2   ┆ @ItsJamMagno     ┆ 0         ┆ 76100     ┆ Identified   │\n",
            "│ 3   ┆ @Brad_Kardinal   ┆ 1787      ┆ 2067      ┆ Anonymous    │\n",
            "│ 4   ┆ @WinwinEklabu    ┆ 6462      ┆ 7082      ┆ Anonymous    │\n",
            "│ …   ┆ …                ┆ …         ┆ …         ┆ …            │\n",
            "│ 150 ┆ @MDSOnwardPH22   ┆ 7966      ┆ 12300     ┆ Anonymous    │\n",
            "│ 151 ┆ @bivoc1          ┆ 5         ┆ 0         ┆ Anonymous    │\n",
            "│ 152 ┆ @ManolitoMantal2 ┆ 20        ┆ 12        ┆ Anonymous    │\n",
            "│ 153 ┆ @thatsthetweet00 ┆ 2032      ┆ 1117      ┆ Anonymous    │\n",
            "└─────┴──────────────────┴───────────┴───────────┴──────────────┘\n"
          ]
        },
        {
          "data": {
            "application/vnd.plotly.v1+json": {
              "config": {
                "plotlyServerURL": "https://plot.ly"
              },
              "data": [
                {
                  "hovertemplate": "<b>%{text}</b><br>Following: %{x}<br>Followers: %{y}",
                  "marker": {
                    "color": "blue",
                    "line": {
                      "color": "black",
                      "width": 0.5
                    },
                    "opacity": 0.7,
                    "size": 10
                  },
                  "mode": "markers",
                  "name": "Identified",
                  "text": [
                    "@ItsJamMagno",
                    "@LelangmoVlogger",
                    "@iskonglasalista",
                    "@mendozadino",
                    "@iskonglasalista",
                    "@PManejr",
                    "@iskonglasalista",
                    "@jassyangeli",
                    "@jassyangeli",
                    "@iskonglasalista",
                    "@H4L0H4L0",
                    "@iskonglasalita",
                    "@Altesing_Manny",
                    "@iskonglasalista",
                    "@rhan_duke",
                    "@ementriboychoi",
                    "@iammarkgarcia_",
                    "@jbrsamonte",
                    "@ace_on_airrr",
                    "@thebossEFRAIM",
                    "@iam_joshua_bc17",
                    "@jamesparmis",
                    "@Valenzuela_Jeff",
                    "@Smartteaser192",
                    "@babeline7",
                    "@anazachia",
                    "@apolinarcespos",
                    "@teriyo",
                    "@iskonglasalista",
                    "@PulbuRonn",
                    "@marortoll",
                    "@iskonglasalista",
                    "@sycipft",
                    "@sycipft",
                    "@marortoll",
                    "@marredroyalty",
                    "@sycipft",
                    "@sycipft",
                    "@teriyo",
                    "@PulbuRonn"
                  ],
                  "type": "scatter",
                  "x": [
                    0,
                    430,
                    2568,
                    260,
                    2568,
                    1060,
                    2568,
                    185,
                    185,
                    2568,
                    61,
                    2568,
                    562,
                    2568,
                    470,
                    43,
                    1167,
                    132,
                    187,
                    271,
                    2099,
                    711,
                    253,
                    5007,
                    89,
                    133,
                    2001,
                    4510,
                    2561,
                    144,
                    721,
                    2561,
                    522,
                    522,
                    721,
                    2470,
                    522,
                    522,
                    4510,
                    144
                  ],
                  "y": [
                    76100,
                    257,
                    6097,
                    37,
                    6097,
                    136,
                    6097,
                    57,
                    57,
                    6097,
                    10,
                    6096,
                    406,
                    6096,
                    52,
                    85,
                    5759,
                    304,
                    212,
                    31,
                    2338,
                    1044,
                    165,
                    547,
                    21,
                    8,
                    1248,
                    1711,
                    6064,
                    3766,
                    11000,
                    6064,
                    260,
                    260,
                    11000,
                    2169,
                    260,
                    260,
                    1710,
                    3766
                  ]
                },
                {
                  "hovertemplate": "<b>%{text}</b><br>Following: %{x}<br>Followers: %{y}",
                  "marker": {
                    "color": "orange",
                    "line": {
                      "color": "black",
                      "width": 0.5
                    },
                    "opacity": 0.7,
                    "size": 10
                  },
                  "mode": "markers",
                  "name": "Media",
                  "text": [
                    "@1dugoph",
                    "@newspaperphcom"
                  ],
                  "type": "scatter",
                  "x": [
                    8,
                    964
                  ],
                  "y": [
                    3,
                    159
                  ]
                },
                {
                  "hovertemplate": "<b>%{text}</b><br>Following: %{x}<br>Followers: %{y}",
                  "marker": {
                    "color": "red",
                    "line": {
                      "color": "black",
                      "width": 0.5
                    },
                    "opacity": 0.7,
                    "size": 10
                  },
                  "mode": "markers",
                  "name": "Anonymous",
                  "text": [
                    "@arthur_vee",
                    "@Brad_Kardinal",
                    "@WinwinEklabu",
                    "@cierloX6",
                    "@dTnalakRiderSR",
                    "@SLaKaTor",
                    "@JVMombay",
                    "@krameoj2",
                    "@Hyden007Toro",
                    "@hitman531ph",
                    "@Hyden007Toro",
                    "@ArianaCharice",
                    "@Whatsupjess1",
                    "@gerrydeleo",
                    "@nhoy2011",
                    "@Whatsupjess1",
                    "@JurisImmanuel",
                    "@FilCitizenPH",
                    "@AnlaboTsong",
                    "@alden_chua",
                    "@TheSmilingBOW",
                    "@MalaChinaPalace",
                    "@micashan",
                    "@gigaigurlmd",
                    "@matansero12886",
                    "@Ztirf17",
                    "@loloromatu",
                    "@Edelwei8",
                    "@osolge2665",
                    "@Fred_1222",
                    "@SamuraiKatipun",
                    "@blackkn05858615",
                    "@SethTojon",
                    "@marredroyalty",
                    "@marredroyalty",
                    "@AliKyle14",
                    "@sonycuerdo",
                    "@thirteenLexa",
                    "@ronald4eternity",
                    "@rom40800032",
                    "@PinasAngInaNyo",
                    "@marredroyalty",
                    "@yellowzingers1",
                    "@jaby111219",
                    "@WinwinEklabu",
                    "@Martina40290987",
                    "@KenesuMiko",
                    "@saylothe",
                    "@dreamy_eyes0",
                    "@AldreanNavarro",
                    "@senall83",
                    "@Hades_alexis",
                    "@jonnelcardano",
                    "@tapatnapilipino",
                    "@emvisi",
                    "@emvisi",
                    "@tapatnapilipino",
                    "@aizenrei20",
                    "@lynmadrid2017",
                    "@Deemcma76111219",
                    "@http_brent22",
                    "@Spankmerigor",
                    "@Deemcma76111219",
                    "@TishaCM",
                    "@AngAkinLangNman",
                    "@abet023",
                    "@ddaengseul",
                    "@gaudz1948",
                    "@Ur_Supermhay",
                    "@ZunRa",
                    "@alden_chua",
                    "@AbsoluteroC",
                    "@fu_rher_",
                    "@YolandaQueens",
                    "@pinoyanghang",
                    "@jemsenpai30",
                    "@zhandy_77",
                    "@olpips",
                    "@imnotyomom",
                    "@AtokPascua",
                    "@philwayne88",
                    "@arogante_ka_tse",
                    "@WordsinMyMind5",
                    "@Runel24947326",
                    "@1vic2r310",
                    "@Domingo31356729",
                    "@BryanLapez",
                    "@ManuelM73700324",
                    "@BrujaDelDemonio",
                    "@SiiniGeng",
                    "@Rosmar_Masarap",
                    "@liaoericph",
                    "@rumflan60",
                    "@allain_z",
                    "@msuniversemimi",
                    "@Yelle007",
                    "@ShnFrncsc01",
                    "@cinecinecine30",
                    "@kotomba431C",
                    "@TheDoctorLuck",
                    "@Paps_Caloy",
                    "@DontTryMeTsk",
                    "@DodongPags",
                    "@DinoMacaldo",
                    "@roumelle_p",
                    "@theguru91010011",
                    "@MDSOnwardPH22",
                    "@bivoc1",
                    "@ManolitoMantal2",
                    "@thatsthetweet00"
                  ],
                  "type": "scatter",
                  "x": [
                    2767,
                    1787,
                    6462,
                    542,
                    1519,
                    481,
                    16,
                    481,
                    179,
                    312,
                    179,
                    2229,
                    127,
                    414,
                    175,
                    127,
                    446,
                    47,
                    575,
                    268,
                    239,
                    504,
                    606,
                    689,
                    95,
                    63,
                    43,
                    685,
                    279,
                    122,
                    657,
                    929,
                    78,
                    2475,
                    2475,
                    13,
                    16,
                    237,
                    331,
                    47,
                    716,
                    2475,
                    459,
                    25,
                    6462,
                    18,
                    10,
                    30,
                    1269,
                    317,
                    1222,
                    2491,
                    89,
                    58,
                    295,
                    295,
                    58,
                    121,
                    17,
                    190,
                    362,
                    292,
                    190,
                    434,
                    369,
                    648,
                    58,
                    340,
                    61,
                    806,
                    268,
                    2,
                    61,
                    779,
                    1165,
                    287,
                    9,
                    785,
                    1394,
                    745,
                    88,
                    2153,
                    149,
                    212,
                    27,
                    104,
                    30,
                    683,
                    362,
                    1555,
                    47,
                    586,
                    3952,
                    1078,
                    384,
                    1723,
                    405,
                    150,
                    2042,
                    8035,
                    1710,
                    2814,
                    2314,
                    16,
                    14,
                    698,
                    7966,
                    5,
                    20,
                    2032
                  ],
                  "y": [
                    4255,
                    2067,
                    7082,
                    532,
                    3275,
                    252,
                    5,
                    432,
                    6,
                    5405,
                    6,
                    1909,
                    3,
                    533,
                    21,
                    3,
                    551,
                    50,
                    13900,
                    487,
                    243,
                    191,
                    124,
                    753,
                    22,
                    2,
                    6,
                    383,
                    272,
                    52,
                    502,
                    893,
                    71,
                    2171,
                    2171,
                    1,
                    2,
                    41,
                    176,
                    0,
                    785,
                    2171,
                    63,
                    8,
                    7082,
                    2,
                    5,
                    1256,
                    123,
                    539,
                    105,
                    186,
                    46,
                    315,
                    162,
                    162,
                    315,
                    12,
                    6,
                    436,
                    177,
                    63,
                    436,
                    27900,
                    490,
                    42,
                    517,
                    126,
                    1614,
                    773,
                    482,
                    0,
                    75,
                    44,
                    53000,
                    44,
                    85,
                    618,
                    732,
                    879,
                    83,
                    788,
                    17,
                    127,
                    1,
                    25,
                    17,
                    680,
                    24000,
                    1950,
                    441,
                    181,
                    3746,
                    758,
                    202,
                    1571,
                    422,
                    1620,
                    2093,
                    20000,
                    13600,
                    3724,
                    1667,
                    0,
                    2,
                    490,
                    12300,
                    0,
                    12,
                    1117
                  ]
                }
              ],
              "layout": {
                "hoverlabel": {
                  "bgcolor": "white",
                  "font": {
                    "size": 12
                  }
                },
                "legend": {
                  "title": {
                    "text": "Account Type"
                  }
                },
                "plot_bgcolor": "white",
                "template": {
                  "data": {
                    "bar": [
                      {
                        "error_x": {
                          "color": "#2a3f5f"
                        },
                        "error_y": {
                          "color": "#2a3f5f"
                        },
                        "marker": {
                          "line": {
                            "color": "#E5ECF6",
                            "width": 0.5
                          },
                          "pattern": {
                            "fillmode": "overlay",
                            "size": 10,
                            "solidity": 0.2
                          }
                        },
                        "type": "bar"
                      }
                    ],
                    "barpolar": [
                      {
                        "marker": {
                          "line": {
                            "color": "#E5ECF6",
                            "width": 0.5
                          },
                          "pattern": {
                            "fillmode": "overlay",
                            "size": 10,
                            "solidity": 0.2
                          }
                        },
                        "type": "barpolar"
                      }
                    ],
                    "carpet": [
                      {
                        "aaxis": {
                          "endlinecolor": "#2a3f5f",
                          "gridcolor": "white",
                          "linecolor": "white",
                          "minorgridcolor": "white",
                          "startlinecolor": "#2a3f5f"
                        },
                        "baxis": {
                          "endlinecolor": "#2a3f5f",
                          "gridcolor": "white",
                          "linecolor": "white",
                          "minorgridcolor": "white",
                          "startlinecolor": "#2a3f5f"
                        },
                        "type": "carpet"
                      }
                    ],
                    "choropleth": [
                      {
                        "colorbar": {
                          "outlinewidth": 0,
                          "ticks": ""
                        },
                        "type": "choropleth"
                      }
                    ],
                    "contour": [
                      {
                        "colorbar": {
                          "outlinewidth": 0,
                          "ticks": ""
                        },
                        "colorscale": [
                          [
                            0,
                            "#0d0887"
                          ],
                          [
                            0.1111111111111111,
                            "#46039f"
                          ],
                          [
                            0.2222222222222222,
                            "#7201a8"
                          ],
                          [
                            0.3333333333333333,
                            "#9c179e"
                          ],
                          [
                            0.4444444444444444,
                            "#bd3786"
                          ],
                          [
                            0.5555555555555556,
                            "#d8576b"
                          ],
                          [
                            0.6666666666666666,
                            "#ed7953"
                          ],
                          [
                            0.7777777777777778,
                            "#fb9f3a"
                          ],
                          [
                            0.8888888888888888,
                            "#fdca26"
                          ],
                          [
                            1,
                            "#f0f921"
                          ]
                        ],
                        "type": "contour"
                      }
                    ],
                    "contourcarpet": [
                      {
                        "colorbar": {
                          "outlinewidth": 0,
                          "ticks": ""
                        },
                        "type": "contourcarpet"
                      }
                    ],
                    "heatmap": [
                      {
                        "colorbar": {
                          "outlinewidth": 0,
                          "ticks": ""
                        },
                        "colorscale": [
                          [
                            0,
                            "#0d0887"
                          ],
                          [
                            0.1111111111111111,
                            "#46039f"
                          ],
                          [
                            0.2222222222222222,
                            "#7201a8"
                          ],
                          [
                            0.3333333333333333,
                            "#9c179e"
                          ],
                          [
                            0.4444444444444444,
                            "#bd3786"
                          ],
                          [
                            0.5555555555555556,
                            "#d8576b"
                          ],
                          [
                            0.6666666666666666,
                            "#ed7953"
                          ],
                          [
                            0.7777777777777778,
                            "#fb9f3a"
                          ],
                          [
                            0.8888888888888888,
                            "#fdca26"
                          ],
                          [
                            1,
                            "#f0f921"
                          ]
                        ],
                        "type": "heatmap"
                      }
                    ],
                    "heatmapgl": [
                      {
                        "colorbar": {
                          "outlinewidth": 0,
                          "ticks": ""
                        },
                        "colorscale": [
                          [
                            0,
                            "#0d0887"
                          ],
                          [
                            0.1111111111111111,
                            "#46039f"
                          ],
                          [
                            0.2222222222222222,
                            "#7201a8"
                          ],
                          [
                            0.3333333333333333,
                            "#9c179e"
                          ],
                          [
                            0.4444444444444444,
                            "#bd3786"
                          ],
                          [
                            0.5555555555555556,
                            "#d8576b"
                          ],
                          [
                            0.6666666666666666,
                            "#ed7953"
                          ],
                          [
                            0.7777777777777778,
                            "#fb9f3a"
                          ],
                          [
                            0.8888888888888888,
                            "#fdca26"
                          ],
                          [
                            1,
                            "#f0f921"
                          ]
                        ],
                        "type": "heatmapgl"
                      }
                    ],
                    "histogram": [
                      {
                        "marker": {
                          "pattern": {
                            "fillmode": "overlay",
                            "size": 10,
                            "solidity": 0.2
                          }
                        },
                        "type": "histogram"
                      }
                    ],
                    "histogram2d": [
                      {
                        "colorbar": {
                          "outlinewidth": 0,
                          "ticks": ""
                        },
                        "colorscale": [
                          [
                            0,
                            "#0d0887"
                          ],
                          [
                            0.1111111111111111,
                            "#46039f"
                          ],
                          [
                            0.2222222222222222,
                            "#7201a8"
                          ],
                          [
                            0.3333333333333333,
                            "#9c179e"
                          ],
                          [
                            0.4444444444444444,
                            "#bd3786"
                          ],
                          [
                            0.5555555555555556,
                            "#d8576b"
                          ],
                          [
                            0.6666666666666666,
                            "#ed7953"
                          ],
                          [
                            0.7777777777777778,
                            "#fb9f3a"
                          ],
                          [
                            0.8888888888888888,
                            "#fdca26"
                          ],
                          [
                            1,
                            "#f0f921"
                          ]
                        ],
                        "type": "histogram2d"
                      }
                    ],
                    "histogram2dcontour": [
                      {
                        "colorbar": {
                          "outlinewidth": 0,
                          "ticks": ""
                        },
                        "colorscale": [
                          [
                            0,
                            "#0d0887"
                          ],
                          [
                            0.1111111111111111,
                            "#46039f"
                          ],
                          [
                            0.2222222222222222,
                            "#7201a8"
                          ],
                          [
                            0.3333333333333333,
                            "#9c179e"
                          ],
                          [
                            0.4444444444444444,
                            "#bd3786"
                          ],
                          [
                            0.5555555555555556,
                            "#d8576b"
                          ],
                          [
                            0.6666666666666666,
                            "#ed7953"
                          ],
                          [
                            0.7777777777777778,
                            "#fb9f3a"
                          ],
                          [
                            0.8888888888888888,
                            "#fdca26"
                          ],
                          [
                            1,
                            "#f0f921"
                          ]
                        ],
                        "type": "histogram2dcontour"
                      }
                    ],
                    "mesh3d": [
                      {
                        "colorbar": {
                          "outlinewidth": 0,
                          "ticks": ""
                        },
                        "type": "mesh3d"
                      }
                    ],
                    "parcoords": [
                      {
                        "line": {
                          "colorbar": {
                            "outlinewidth": 0,
                            "ticks": ""
                          }
                        },
                        "type": "parcoords"
                      }
                    ],
                    "pie": [
                      {
                        "automargin": true,
                        "type": "pie"
                      }
                    ],
                    "scatter": [
                      {
                        "fillpattern": {
                          "fillmode": "overlay",
                          "size": 10,
                          "solidity": 0.2
                        },
                        "type": "scatter"
                      }
                    ],
                    "scatter3d": [
                      {
                        "line": {
                          "colorbar": {
                            "outlinewidth": 0,
                            "ticks": ""
                          }
                        },
                        "marker": {
                          "colorbar": {
                            "outlinewidth": 0,
                            "ticks": ""
                          }
                        },
                        "type": "scatter3d"
                      }
                    ],
                    "scattercarpet": [
                      {
                        "marker": {
                          "colorbar": {
                            "outlinewidth": 0,
                            "ticks": ""
                          }
                        },
                        "type": "scattercarpet"
                      }
                    ],
                    "scattergeo": [
                      {
                        "marker": {
                          "colorbar": {
                            "outlinewidth": 0,
                            "ticks": ""
                          }
                        },
                        "type": "scattergeo"
                      }
                    ],
                    "scattergl": [
                      {
                        "marker": {
                          "colorbar": {
                            "outlinewidth": 0,
                            "ticks": ""
                          }
                        },
                        "type": "scattergl"
                      }
                    ],
                    "scattermapbox": [
                      {
                        "marker": {
                          "colorbar": {
                            "outlinewidth": 0,
                            "ticks": ""
                          }
                        },
                        "type": "scattermapbox"
                      }
                    ],
                    "scatterpolar": [
                      {
                        "marker": {
                          "colorbar": {
                            "outlinewidth": 0,
                            "ticks": ""
                          }
                        },
                        "type": "scatterpolar"
                      }
                    ],
                    "scatterpolargl": [
                      {
                        "marker": {
                          "colorbar": {
                            "outlinewidth": 0,
                            "ticks": ""
                          }
                        },
                        "type": "scatterpolargl"
                      }
                    ],
                    "scatterternary": [
                      {
                        "marker": {
                          "colorbar": {
                            "outlinewidth": 0,
                            "ticks": ""
                          }
                        },
                        "type": "scatterternary"
                      }
                    ],
                    "surface": [
                      {
                        "colorbar": {
                          "outlinewidth": 0,
                          "ticks": ""
                        },
                        "colorscale": [
                          [
                            0,
                            "#0d0887"
                          ],
                          [
                            0.1111111111111111,
                            "#46039f"
                          ],
                          [
                            0.2222222222222222,
                            "#7201a8"
                          ],
                          [
                            0.3333333333333333,
                            "#9c179e"
                          ],
                          [
                            0.4444444444444444,
                            "#bd3786"
                          ],
                          [
                            0.5555555555555556,
                            "#d8576b"
                          ],
                          [
                            0.6666666666666666,
                            "#ed7953"
                          ],
                          [
                            0.7777777777777778,
                            "#fb9f3a"
                          ],
                          [
                            0.8888888888888888,
                            "#fdca26"
                          ],
                          [
                            1,
                            "#f0f921"
                          ]
                        ],
                        "type": "surface"
                      }
                    ],
                    "table": [
                      {
                        "cells": {
                          "fill": {
                            "color": "#EBF0F8"
                          },
                          "line": {
                            "color": "white"
                          }
                        },
                        "header": {
                          "fill": {
                            "color": "#C8D4E3"
                          },
                          "line": {
                            "color": "white"
                          }
                        },
                        "type": "table"
                      }
                    ]
                  },
                  "layout": {
                    "annotationdefaults": {
                      "arrowcolor": "#2a3f5f",
                      "arrowhead": 0,
                      "arrowwidth": 1
                    },
                    "autotypenumbers": "strict",
                    "coloraxis": {
                      "colorbar": {
                        "outlinewidth": 0,
                        "ticks": ""
                      }
                    },
                    "colorscale": {
                      "diverging": [
                        [
                          0,
                          "#8e0152"
                        ],
                        [
                          0.1,
                          "#c51b7d"
                        ],
                        [
                          0.2,
                          "#de77ae"
                        ],
                        [
                          0.3,
                          "#f1b6da"
                        ],
                        [
                          0.4,
                          "#fde0ef"
                        ],
                        [
                          0.5,
                          "#f7f7f7"
                        ],
                        [
                          0.6,
                          "#e6f5d0"
                        ],
                        [
                          0.7,
                          "#b8e186"
                        ],
                        [
                          0.8,
                          "#7fbc41"
                        ],
                        [
                          0.9,
                          "#4d9221"
                        ],
                        [
                          1,
                          "#276419"
                        ]
                      ],
                      "sequential": [
                        [
                          0,
                          "#0d0887"
                        ],
                        [
                          0.1111111111111111,
                          "#46039f"
                        ],
                        [
                          0.2222222222222222,
                          "#7201a8"
                        ],
                        [
                          0.3333333333333333,
                          "#9c179e"
                        ],
                        [
                          0.4444444444444444,
                          "#bd3786"
                        ],
                        [
                          0.5555555555555556,
                          "#d8576b"
                        ],
                        [
                          0.6666666666666666,
                          "#ed7953"
                        ],
                        [
                          0.7777777777777778,
                          "#fb9f3a"
                        ],
                        [
                          0.8888888888888888,
                          "#fdca26"
                        ],
                        [
                          1,
                          "#f0f921"
                        ]
                      ],
                      "sequentialminus": [
                        [
                          0,
                          "#0d0887"
                        ],
                        [
                          0.1111111111111111,
                          "#46039f"
                        ],
                        [
                          0.2222222222222222,
                          "#7201a8"
                        ],
                        [
                          0.3333333333333333,
                          "#9c179e"
                        ],
                        [
                          0.4444444444444444,
                          "#bd3786"
                        ],
                        [
                          0.5555555555555556,
                          "#d8576b"
                        ],
                        [
                          0.6666666666666666,
                          "#ed7953"
                        ],
                        [
                          0.7777777777777778,
                          "#fb9f3a"
                        ],
                        [
                          0.8888888888888888,
                          "#fdca26"
                        ],
                        [
                          1,
                          "#f0f921"
                        ]
                      ]
                    },
                    "colorway": [
                      "#636efa",
                      "#EF553B",
                      "#00cc96",
                      "#ab63fa",
                      "#FFA15A",
                      "#19d3f3",
                      "#FF6692",
                      "#B6E880",
                      "#FF97FF",
                      "#FECB52"
                    ],
                    "font": {
                      "color": "#2a3f5f"
                    },
                    "geo": {
                      "bgcolor": "white",
                      "lakecolor": "white",
                      "landcolor": "#E5ECF6",
                      "showlakes": true,
                      "showland": true,
                      "subunitcolor": "white"
                    },
                    "hoverlabel": {
                      "align": "left"
                    },
                    "hovermode": "closest",
                    "mapbox": {
                      "style": "light"
                    },
                    "paper_bgcolor": "white",
                    "plot_bgcolor": "#E5ECF6",
                    "polar": {
                      "angularaxis": {
                        "gridcolor": "white",
                        "linecolor": "white",
                        "ticks": ""
                      },
                      "bgcolor": "#E5ECF6",
                      "radialaxis": {
                        "gridcolor": "white",
                        "linecolor": "white",
                        "ticks": ""
                      }
                    },
                    "scene": {
                      "xaxis": {
                        "backgroundcolor": "#E5ECF6",
                        "gridcolor": "white",
                        "gridwidth": 2,
                        "linecolor": "white",
                        "showbackground": true,
                        "ticks": "",
                        "zerolinecolor": "white"
                      },
                      "yaxis": {
                        "backgroundcolor": "#E5ECF6",
                        "gridcolor": "white",
                        "gridwidth": 2,
                        "linecolor": "white",
                        "showbackground": true,
                        "ticks": "",
                        "zerolinecolor": "white"
                      },
                      "zaxis": {
                        "backgroundcolor": "#E5ECF6",
                        "gridcolor": "white",
                        "gridwidth": 2,
                        "linecolor": "white",
                        "showbackground": true,
                        "ticks": "",
                        "zerolinecolor": "white"
                      }
                    },
                    "shapedefaults": {
                      "line": {
                        "color": "#2a3f5f"
                      }
                    },
                    "ternary": {
                      "aaxis": {
                        "gridcolor": "white",
                        "linecolor": "white",
                        "ticks": ""
                      },
                      "baxis": {
                        "gridcolor": "white",
                        "linecolor": "white",
                        "ticks": ""
                      },
                      "bgcolor": "#E5ECF6",
                      "caxis": {
                        "gridcolor": "white",
                        "linecolor": "white",
                        "ticks": ""
                      }
                    },
                    "title": {
                      "x": 0.05
                    },
                    "xaxis": {
                      "automargin": true,
                      "gridcolor": "white",
                      "linecolor": "white",
                      "ticks": "",
                      "title": {
                        "standoff": 15
                      },
                      "zerolinecolor": "white",
                      "zerolinewidth": 2
                    },
                    "yaxis": {
                      "automargin": true,
                      "gridcolor": "white",
                      "linecolor": "white",
                      "ticks": "",
                      "title": {
                        "standoff": 15
                      },
                      "zerolinecolor": "white",
                      "zerolinewidth": 2
                    }
                  }
                },
                "title": {
                  "text": "Following vs Followers"
                },
                "xaxis": {
                  "title": {
                    "text": "Following"
                  }
                },
                "yaxis": {
                  "title": {
                    "text": "Followers"
                  }
                }
              }
            }
          },
          "metadata": {},
          "output_type": "display_data"
        }
      ],
      "source": [
        "df1=df.select(\n",
        "    pl.col(\"ID\"),\n",
        "    pl.col(\"Account handle\"),\n",
        "    pl.col(\"Following\"),\n",
        "    pl.col(\"Followers\"),\n",
        "    pl.col(\"Account type\").str.strip(),\n",
        ")\n",
        "\n",
        "colors = {\n",
        "    'Identified': 'blue',\n",
        "    'Media': 'orange',\n",
        "    'Anonymous': 'red'\n",
        "}\n",
        "print(df1)\n",
        "\n",
        "import plotly.express as px\n",
        "import plotly.graph_objects as go\n",
        "\n",
        "fig = go.Figure()\n",
        "\n",
        "for account_type, color in colors.items():\n",
        "    filtered_df = df.filter(pl.col('Account type') == account_type)\n",
        "    fig.add_trace(go.Scatter(\n",
        "        x=filtered_df['Following'],\n",
        "        y=filtered_df['Followers'],\n",
        "        mode='markers',\n",
        "        text=filtered_df['Account handle'],\n",
        "        hovertemplate='<b>%{text}</b><br>Following: %{x}<br>Followers: %{y}',\n",
        "        marker=dict(\n",
        "            size=10,\n",
        "            color=color,\n",
        "            opacity=0.7,\n",
        "            line=dict(width=0.5, color='black')\n",
        "        ),\n",
        "        name=account_type  # Specify the name for each trace\n",
        "    ))\n",
        "\n",
        "# Customize the layout\n",
        "fig.update_layout(\n",
        "    title='Following vs Followers',\n",
        "    xaxis_title='Following',\n",
        "    yaxis_title='Followers',\n",
        "    hoverlabel=dict(bgcolor='white', font_size=12),\n",
        "    plot_bgcolor='white',\n",
        "    legend_title='Account Type'\n",
        ")\n",
        "\n",
        "\n"
      ]
    },
    {
      "cell_type": "code",
      "execution_count": 171,
      "metadata": {},
      "outputs": [],
      "source": [
        "import polars as pl\n",
        "import matplotlib.pyplot as plt\n",
        "import seaborn as sns\n",
        "\n",
        "df2 = df.select(\n",
        "    pl.col(\"Followers\"),\n",
        "    pl.col(\"Likes\"),\n",
        "    pl.col(\"Replies\"),\n",
        "    pl.col(\"Retweets\"),\n",
        "    pl.col(\"Quote Tweets\")\n",
        ")\n",
        "\n",
        "df2 = df2.fill_null(0)\n",
        "\n",
        "\n",
        "\n"
      ]
    },
    {
      "cell_type": "code",
      "execution_count": 172,
      "metadata": {},
      "outputs": [
        {
          "data": {
            "image/png": "[encoded data removed]",
            "text/plain": [
              "<Figure size 800x600 with 2 Axes>"
            ]
          },
          "metadata": {},
          "output_type": "display_data"
        }
      ],
      "source": [
        "# Compute the correlation matrix\n",
        "corr_matrix = df2.to_pandas().corr()\n",
        "\n",
        "# Visualize the correlation matrix as a heatmap\n",
        "plt.figure(figsize=(8, 6))\n",
        "plt.title(\"Correlation Heatmap\")\n",
        "sns.heatmap(corr_matrix, annot=True, cmap=\"coolwarm\")\n",
        "plt.show()"
      ]
    },
    {
      "cell_type": "code",
      "execution_count": 173,
      "metadata": {},
      "outputs": [
        {
          "data": {
            "image/png": "[encoded data removed]",
            "text/plain": [
              "<Figure size 1000x600 with 1 Axes>"
            ]
          },
          "metadata": {},
          "output_type": "display_data"
        }
      ],
      "source": [
        "import polars as pl\n",
        "import seaborn as sns\n",
        "import matplotlib.pyplot as plt\n",
        "\n",
        "# Select the relevant columns\n",
        "df3 = df.select(\n",
        "    pl.col(\"Account type\").str.strip(),\n",
        "    pl.col(\"Likes\"),\n",
        "    pl.col(\"Replies\"),\n",
        "    pl.col(\"Retweets\"),\n",
        "    pl.col(\"Quote Tweets\")\n",
        ")\n",
        "\n",
        "# Compute the total count of engagement metrics\n",
        "df_total = df3.groupby(\"Account type\").sum()\n",
        "df_total\n",
        "\n",
        "# Reshape the data to create a long-form representation\n",
        "data_melted = df_total.to_pandas().melt(\n",
        "    id_vars=[\"Account type\"],\n",
        "    value_vars=[\"Likes\", \"Replies\", \"Retweets\", \"Quote Tweets\"],\n",
        "    var_name=\"Engagement\",\n",
        "    value_name=\"Total Count\"\n",
        ")\n",
        "\n",
        "# Create the bar plot\n",
        "plt.figure(figsize=(10, 6))\n",
        "sns.barplot(\n",
        "    data=data_melted,\n",
        "    x=\"Engagement\",\n",
        "    y=\"Total Count\",\n",
        "    hue=\"Account type\"\n",
        ")\n",
        "plt.title(\"Total Count of Engagement Metrics across Account Types\")\n",
        "plt.xlabel(\"Engagement Metrics\")\n",
        "plt.ylabel(\"Total Count\")\n",
        "plt.legend(title=\"Account Type\")\n",
        "plt.show()"
      ]
    },
    {
      "cell_type": "code",
      "execution_count": 174,
      "metadata": {},
      "outputs": [
        {
          "data": {
            "text/html": [
              "<div>\n",
              "<style scoped>\n",
              "    .dataframe tbody tr th:only-of-type {\n",
              "        vertical-align: middle;\n",
              "    }\n",
              "\n",
              "    .dataframe tbody tr th {\n",
              "        vertical-align: top;\n",
              "    }\n",
              "\n",
              "    .dataframe thead th {\n",
              "        text-align: right;\n",
              "    }\n",
              "</style>\n",
              "<table border=\"1\" class=\"dataframe\">\n",
              "  <thead>\n",
              "    <tr style=\"text-align: right;\">\n",
              "      <th></th>\n",
              "      <th>Account type</th>\n",
              "      <th>Engagement</th>\n",
              "      <th>Total Count</th>\n",
              "    </tr>\n",
              "  </thead>\n",
              "  <tbody>\n",
              "    <tr>\n",
              "      <th>0</th>\n",
              "      <td>Identified</td>\n",
              "      <td>Likes</td>\n",
              "      <td>1694</td>\n",
              "    </tr>\n",
              "    <tr>\n",
              "      <th>1</th>\n",
              "      <td>Media</td>\n",
              "      <td>Likes</td>\n",
              "      <td>1</td>\n",
              "    </tr>\n",
              "    <tr>\n",
              "      <th>2</th>\n",
              "      <td>Anonymous</td>\n",
              "      <td>Likes</td>\n",
              "      <td>2163</td>\n",
              "    </tr>\n",
              "    <tr>\n",
              "      <th>3</th>\n",
              "      <td>Identified</td>\n",
              "      <td>Replies</td>\n",
              "      <td>23</td>\n",
              "    </tr>\n",
              "    <tr>\n",
              "      <th>4</th>\n",
              "      <td>Media</td>\n",
              "      <td>Replies</td>\n",
              "      <td>9</td>\n",
              "    </tr>\n",
              "    <tr>\n",
              "      <th>5</th>\n",
              "      <td>Anonymous</td>\n",
              "      <td>Replies</td>\n",
              "      <td>51</td>\n",
              "    </tr>\n",
              "    <tr>\n",
              "      <th>6</th>\n",
              "      <td>Identified</td>\n",
              "      <td>Retweets</td>\n",
              "      <td>435</td>\n",
              "    </tr>\n",
              "    <tr>\n",
              "      <th>7</th>\n",
              "      <td>Media</td>\n",
              "      <td>Retweets</td>\n",
              "      <td>1</td>\n",
              "    </tr>\n",
              "    <tr>\n",
              "      <th>8</th>\n",
              "      <td>Anonymous</td>\n",
              "      <td>Retweets</td>\n",
              "      <td>728</td>\n",
              "    </tr>\n",
              "    <tr>\n",
              "      <th>9</th>\n",
              "      <td>Identified</td>\n",
              "      <td>Quote Tweets</td>\n",
              "      <td>38</td>\n",
              "    </tr>\n",
              "    <tr>\n",
              "      <th>10</th>\n",
              "      <td>Media</td>\n",
              "      <td>Quote Tweets</td>\n",
              "      <td>0</td>\n",
              "    </tr>\n",
              "    <tr>\n",
              "      <th>11</th>\n",
              "      <td>Anonymous</td>\n",
              "      <td>Quote Tweets</td>\n",
              "      <td>79</td>\n",
              "    </tr>\n",
              "  </tbody>\n",
              "</table>\n",
              "</div>"
            ],
            "text/plain": [
              "   Account type    Engagement  Total Count\n",
              "0    Identified         Likes         1694\n",
              "1         Media         Likes            1\n",
              "2     Anonymous         Likes         2163\n",
              "3    Identified       Replies           23\n",
              "4         Media       Replies            9\n",
              "5     Anonymous       Replies           51\n",
              "6    Identified      Retweets          435\n",
              "7         Media      Retweets            1\n",
              "8     Anonymous      Retweets          728\n",
              "9    Identified  Quote Tweets           38\n",
              "10        Media  Quote Tweets            0\n",
              "11    Anonymous  Quote Tweets           79"
            ]
          },
          "execution_count": 174,
          "metadata": {},
          "output_type": "execute_result"
        }
      ],
      "source": [
        "data_melted"
      ]
    },
    {
      "attachments": {},
      "cell_type": "markdown",
      "metadata": {},
      "source": []
    },
    {
      "cell_type": "code",
      "execution_count": 175,
      "metadata": {
        "id": "ocQIJeC_1wyC"
      },
      "outputs": [],
      "source": [
        "# Include only necessary columns\n",
        "df = df.select(\n",
        "    pl.col(\"ID\"),\n",
        "    pl.col(\"Tweet\"),\n",
        "    pl.col(\"Tweet Translated\").alias(\"Translated\")\n",
        ")"
      ]
    },
    {
      "cell_type": "code",
      "execution_count": 176,
      "metadata": {},
      "outputs": [
        {
          "data": {
            "text/html": [
              "<div><style>\n",
              ".dataframe > thead > tr > th,\n",
              ".dataframe > tbody > tr > td {\n",
              "  text-align: right;\n",
              "}\n",
              "</style>\n",
              "<small>shape: (153, 3)</small><table border=\"1\" class=\"dataframe\"><thead><tr><th>ID</th><th>Tweet</th><th>Translated</th></tr><tr><td>i32</td><td>str</td><td>str</td></tr></thead><tbody><tr><td>1</td><td>&quot;Cory Aquino: \r…</td><td>&quot;Cory Aquino:\r\n",
              "…</td></tr><tr><td>2</td><td>&quot;Ninoy Aquino i…</td><td>&quot;Ninoy Aquino i…</td></tr><tr><td>3</td><td>&quot;Ninoy is a tra…</td><td>&quot;Ninoy is a tra…</td></tr><tr><td>4</td><td>&quot;Ninoy Aquino d…</td><td>&quot;Ninoy Aquino d…</td></tr><tr><td>5</td><td>&quot;ninoy aquino i…</td><td>&quot;ninoy aquino i…</td></tr><tr><td>6</td><td>&quot;Yan Si NiNoy s…</td><td>&quot;That&#x27;s Ninoy h…</td></tr><tr><td>7</td><td>&quot;Irony: The Com…</td><td>&quot;Irony: The Com…</td></tr><tr><td>8</td><td>&quot;@senbongrevill…</td><td>&quot;@senbagrevilla…</td></tr><tr><td>9</td><td>&quot;Meron akong hi…</td><td>&quot;I have a suspi…</td></tr><tr><td>10</td><td>&quot;Pwede ng burah…</td><td>&quot;It is possible…</td></tr><tr><td>11</td><td>&quot;Ninoy Aquino c…</td><td>&quot;Ninoy Aquino c…</td></tr><tr><td>12</td><td>&quot;These people r…</td><td>&quot;How many peopl…</td></tr><tr><td>&hellip;</td><td>&hellip;</td><td>&hellip;</td></tr><tr><td>142</td><td>&quot;Ninoy is a her…</td><td>&quot;Ninoy is a her…</td></tr><tr><td>143</td><td>&quot;#NinoyIsNotAHe…</td><td>&quot;#Ninoyisnotsee…</td></tr><tr><td>144</td><td>&quot;The monster th…</td><td>&quot;The monster th…</td></tr><tr><td>145</td><td>&quot;NINOY AQUINO D…</td><td>&quot;NINOY AQUINO D…</td></tr><tr><td>146</td><td>&quot;Ninoy is the m…</td><td>&quot;Ninoy is the m…</td></tr><tr><td>147</td><td>&quot;By yellowtard …</td><td>&quot;By yellowtard …</td></tr><tr><td>148</td><td>&quot;Ninoy is a com…</td><td>&quot;Ninoy is a com…</td></tr><tr><td>149</td><td>&quot;Philippines is…</td><td>&quot;Philippines is…</td></tr><tr><td>150</td><td>&quot;Ninoy is not w…</td><td>&quot;Ninoy is not w…</td></tr><tr><td>151</td><td>&quot;common, ninoy …</td><td>&quot;common, ninoy …</td></tr><tr><td>152</td><td>&quot;npa founder 😎&quot;</td><td>&quot;npa founder 😎&quot;</td></tr><tr><td>153</td><td>&quot;They couldn&#x27;t …</td><td>&quot;They couldn&#x27;t …</td></tr></tbody></table></div>"
            ],
            "text/plain": [
              "shape: (153, 3)\n",
              "┌─────┬───────────────────────────────────┬───────────────────────────────────┐\n",
              "│ ID  ┆ Tweet                             ┆ Translated                        │\n",
              "│ --- ┆ ---                               ┆ ---                               │\n",
              "│ i32 ┆ str                               ┆ str                               │\n",
              "╞═════╪═══════════════════════════════════╪═══════════════════════════════════╡\n",
              "│ 1   ┆ Cory Aquino: \n",
              "                     ┆ Cory Aquino:\n",
              "                      │\n",
              "│     ┆ - Duly elected Pr…                ┆ - Duly elected pre…               │\n",
              "│ 2   ┆ Ninoy Aquino is a TRAITOR.\n",
              "        ┆ Ninoy Aquino is a TRAITOR.\n",
              "        │\n",
              "│     ┆ \n",
              "                                  ┆ \n",
              "                                  │\n",
              "│     ┆ He…                               ┆ He…                               │\n",
              "│ 3   ┆ Ninoy is a traitor, an idiot and… ┆ Ninoy is a traitor, an idiot and… │\n",
              "│ 4   ┆ Ninoy Aquino day should be aboli… ┆ Ninoy Aquino day should be aboli… │\n",
              "│ …   ┆ …                                 ┆ …                                 │\n",
              "│ 150 ┆ Ninoy is not worth dying for,but… ┆ Ninoy is not worth Dying for,but… │\n",
              "│ 151 ┆ common, ninoy is big traitor and… ┆ common, ninoy is big traitor and… │\n",
              "│ 152 ┆ npa founder 😎                    ┆ npa founder 😎                    │\n",
              "│ 153 ┆ They couldn't think of a better … ┆ They couldn't think of a better … │\n",
              "└─────┴───────────────────────────────────┴───────────────────────────────────┘"
            ]
          },
          "execution_count": 176,
          "metadata": {},
          "output_type": "execute_result"
        }
      ],
      "source": [
        "df"
      ]
    },
    {
      "cell_type": "code",
      "execution_count": null,
      "metadata": {},
      "outputs": [],
      "source": []
    },
    {
      "cell_type": "code",
      "execution_count": 177,
      "metadata": {
        "id": "SEX6abSJ1zKJ"
      },
      "outputs": [],
      "source": [
        "# Change tweet case to lowercase\n",
        "df = df.select(\n",
        "    pl.all(),\n",
        "    pl.col(\"Translated\").apply(lambda tweet: tweet.lower()).alias(\"Clean\")\n",
        ")"
      ]
    },
    {
      "cell_type": "code",
      "execution_count": 178,
      "metadata": {},
      "outputs": [
        {
          "data": {
            "text/html": [
              "<div><style>\n",
              ".dataframe > thead > tr > th,\n",
              ".dataframe > tbody > tr > td {\n",
              "  text-align: right;\n",
              "}\n",
              "</style>\n",
              "<small>shape: (153, 4)</small><table border=\"1\" class=\"dataframe\"><thead><tr><th>ID</th><th>Tweet</th><th>Translated</th><th>Clean</th></tr><tr><td>i32</td><td>str</td><td>str</td><td>str</td></tr></thead><tbody><tr><td>1</td><td>&quot;Cory Aquino: \r…</td><td>&quot;Cory Aquino:\r\n",
              "…</td><td>&quot;cory aquino:\r\n",
              "…</td></tr><tr><td>2</td><td>&quot;Ninoy Aquino i…</td><td>&quot;Ninoy Aquino i…</td><td>&quot;ninoy aquino i…</td></tr><tr><td>3</td><td>&quot;Ninoy is a tra…</td><td>&quot;Ninoy is a tra…</td><td>&quot;ninoy is a tra…</td></tr><tr><td>4</td><td>&quot;Ninoy Aquino d…</td><td>&quot;Ninoy Aquino d…</td><td>&quot;ninoy aquino d…</td></tr><tr><td>5</td><td>&quot;ninoy aquino i…</td><td>&quot;ninoy aquino i…</td><td>&quot;ninoy aquino i…</td></tr><tr><td>6</td><td>&quot;Yan Si NiNoy s…</td><td>&quot;That&#x27;s Ninoy h…</td><td>&quot;that&#x27;s ninoy h…</td></tr><tr><td>7</td><td>&quot;Irony: The Com…</td><td>&quot;Irony: The Com…</td><td>&quot;irony: the com…</td></tr><tr><td>8</td><td>&quot;@senbongrevill…</td><td>&quot;@senbagrevilla…</td><td>&quot;@senbagrevilla…</td></tr><tr><td>9</td><td>&quot;Meron akong hi…</td><td>&quot;I have a suspi…</td><td>&quot;i have a suspi…</td></tr><tr><td>10</td><td>&quot;Pwede ng burah…</td><td>&quot;It is possible…</td><td>&quot;it is possible…</td></tr><tr><td>11</td><td>&quot;Ninoy Aquino c…</td><td>&quot;Ninoy Aquino c…</td><td>&quot;ninoy aquino c…</td></tr><tr><td>12</td><td>&quot;These people r…</td><td>&quot;How many peopl…</td><td>&quot;how many peopl…</td></tr><tr><td>&hellip;</td><td>&hellip;</td><td>&hellip;</td><td>&hellip;</td></tr><tr><td>142</td><td>&quot;Ninoy is a her…</td><td>&quot;Ninoy is a her…</td><td>&quot;ninoy is a her…</td></tr><tr><td>143</td><td>&quot;#NinoyIsNotAHe…</td><td>&quot;#Ninoyisnotsee…</td><td>&quot;#ninoyisnotsee…</td></tr><tr><td>144</td><td>&quot;The monster th…</td><td>&quot;The monster th…</td><td>&quot;the monster th…</td></tr><tr><td>145</td><td>&quot;NINOY AQUINO D…</td><td>&quot;NINOY AQUINO D…</td><td>&quot;ninoy aquino d…</td></tr><tr><td>146</td><td>&quot;Ninoy is the m…</td><td>&quot;Ninoy is the m…</td><td>&quot;ninoy is the m…</td></tr><tr><td>147</td><td>&quot;By yellowtard …</td><td>&quot;By yellowtard …</td><td>&quot;by yellowtard …</td></tr><tr><td>148</td><td>&quot;Ninoy is a com…</td><td>&quot;Ninoy is a com…</td><td>&quot;ninoy is a com…</td></tr><tr><td>149</td><td>&quot;Philippines is…</td><td>&quot;Philippines is…</td><td>&quot;philippines is…</td></tr><tr><td>150</td><td>&quot;Ninoy is not w…</td><td>&quot;Ninoy is not w…</td><td>&quot;ninoy is not w…</td></tr><tr><td>151</td><td>&quot;common, ninoy …</td><td>&quot;common, ninoy …</td><td>&quot;common, ninoy …</td></tr><tr><td>152</td><td>&quot;npa founder 😎&quot;</td><td>&quot;npa founder 😎&quot;</td><td>&quot;npa founder 😎&quot;</td></tr><tr><td>153</td><td>&quot;They couldn&#x27;t …</td><td>&quot;They couldn&#x27;t …</td><td>&quot;they couldn&#x27;t …</td></tr></tbody></table></div>"
            ],
            "text/plain": [
              "shape: (153, 4)\n",
              "┌─────┬──────────────────────────────┬──────────────────────────────┬──────────────────────────────┐\n",
              "│ ID  ┆ Tweet                        ┆ Translated                   ┆ Clean                        │\n",
              "│ --- ┆ ---                          ┆ ---                          ┆ ---                          │\n",
              "│ i32 ┆ str                          ┆ str                          ┆ str                          │\n",
              "╞═════╪══════════════════════════════╪══════════════════════════════╪══════════════════════════════╡\n",
              "│ 1   ┆ Cory Aquino: \n",
              "                ┆ Cory Aquino:\n",
              "                 ┆ cory aquino:\n",
              "                 │\n",
              "│     ┆ - Duly elected Pr…           ┆ - Duly elected pre…          ┆ - duly elected pre…          │\n",
              "│ 2   ┆ Ninoy Aquino is a TRAITOR.\n",
              "   ┆ Ninoy Aquino is a TRAITOR.\n",
              "   ┆ ninoy aquino is a traitor.\n",
              "   │\n",
              "│     ┆ \n",
              "                             ┆ \n",
              "                             ┆ \n",
              "                             │\n",
              "│     ┆ He…                          ┆ He…                          ┆ he…                          │\n",
              "│ 3   ┆ Ninoy is a traitor, an idiot ┆ Ninoy is a traitor, an idiot ┆ ninoy is a traitor, an idiot │\n",
              "│     ┆ and…                         ┆ and…                         ┆ and…                         │\n",
              "│ 4   ┆ Ninoy Aquino day should be   ┆ Ninoy Aquino day should be   ┆ ninoy aquino day should be   │\n",
              "│     ┆ aboli…                       ┆ aboli…                       ┆ aboli…                       │\n",
              "│ …   ┆ …                            ┆ …                            ┆ …                            │\n",
              "│ 150 ┆ Ninoy is not worth dying     ┆ Ninoy is not worth Dying     ┆ ninoy is not worth dying     │\n",
              "│     ┆ for,but…                     ┆ for,but…                     ┆ for,but…                     │\n",
              "│ 151 ┆ common, ninoy is big traitor ┆ common, ninoy is big traitor ┆ common, ninoy is big traitor │\n",
              "│     ┆ and…                         ┆ and…                         ┆ and…                         │\n",
              "│ 152 ┆ npa founder 😎               ┆ npa founder 😎               ┆ npa founder 😎               │\n",
              "│ 153 ┆ They couldn't think of a     ┆ They couldn't think of a     ┆ they couldn't think of a     │\n",
              "│     ┆ better …                     ┆ better …                     ┆ better …                     │\n",
              "└─────┴──────────────────────────────┴──────────────────────────────┴──────────────────────────────┘"
            ]
          },
          "execution_count": 178,
          "metadata": {},
          "output_type": "execute_result"
        }
      ],
      "source": [
        "df"
      ]
    },
    {
      "cell_type": "code",
      "execution_count": 179,
      "metadata": {
        "id": "xxWn2UW4_WNr"
      },
      "outputs": [],
      "source": [
        "# Remove hashtags\n",
        "df = df.select(\n",
        "    pl.exclude(\"Clean\"),\n",
        "    pl.col(\"Clean\").apply(lambda tweet: re.sub(\"#(\\w+)\", '', tweet))\n",
        ")"
      ]
    },
    {
      "cell_type": "code",
      "execution_count": 180,
      "metadata": {
        "id": "SN_0gMLh8HWz"
      },
      "outputs": [],
      "source": [
        "# Replace all emojis into interpretation\n",
        "def emoji_to_word(tweet):\n",
        "  for symbol, interpretation in demoji.findall(tweet).items():\n",
        "    interpretation = interpretation.lower()\n",
        "    # Turn flag: Philippines into flagphilippines \n",
        "    interpretation = re.sub('[^0-9a-z]+', '', interpretation)\n",
        "    # replace all emojis to \"emojiinterpretation \"\n",
        "    tweet = re.sub(symbol, interpretation+' ', tweet)\n",
        "  return tweet\n",
        "\n",
        "df = df.select(\n",
        "    pl.exclude(\"Clean\"),\n",
        "    pl.col(\"Clean\").apply(emoji_to_word)\n",
        ")"
      ]
    },
    {
      "cell_type": "code",
      "execution_count": 181,
      "metadata": {
        "id": "VCfJ-Nqq7LD4"
      },
      "outputs": [],
      "source": [
        "# Remove non alphanumeric characters\n",
        "df = df.select(\n",
        "    pl.exclude(\"Clean\"),\n",
        "    pl.col(\"Clean\").apply(lambda tweet: re.sub('[^0-9a-z]+', ' ', tweet))\n",
        ")"
      ]
    },
    {
      "cell_type": "code",
      "execution_count": 182,
      "metadata": {
        "id": "GSnfF1n210yx"
      },
      "outputs": [],
      "source": [
        "# Cast Tweets to word array instead of long string.\n",
        "df = df.select(\n",
        "    pl.all(),\n",
        "    pl.col(\"Clean\").apply(lambda tweet: tweet.split()).cast(pl.List(str)).alias(\"Tokenized\")\n",
        ")"
      ]
    },
    {
      "cell_type": "code",
      "execution_count": 183,
      "metadata": {
        "colab": {
          "base_uri": "https://localhost:8080/",
          "height": 235
        },
        "id": "zGwZCcBN12QZ",
        "outputId": "ed5db31e-1f75-4119-94f8-a13b010beba6"
      },
      "outputs": [],
      "source": [
        "# Strip english stopwords\n",
        "df = df.select(\n",
        "    pl.all(),\n",
        "    pl.col(\"Tokenized\").arr.eval(pl.element().filter(~pl.element().is_in(ensw)), parallel=True).alias(\"Stopwords Removed\")\n",
        ")"
      ]
    },
    {
      "cell_type": "code",
      "execution_count": 184,
      "metadata": {
        "id": "6sjGF58uBU36"
      },
      "outputs": [
        {
          "name": "stderr",
          "output_type": "stream",
          "text": [
            "[nltk_data] Downloading package wordnet to\n",
            "[nltk_data]     C:\\Users\\helpkreios\\AppData\\Roaming\\nltk_data...\n",
            "[nltk_data]   Package wordnet is already up-to-date!\n"
          ]
        }
      ],
      "source": [
        "# Stem and Lemmatize.\n",
        "from nltk.stem import PorterStemmer, WordNetLemmatizer\n",
        "nltk.download('wordnet')\n",
        "# Initialize the stemmer and lemmatizer\n",
        "stemmer = PorterStemmer()\n",
        "lemmatizer = WordNetLemmatizer()\n",
        "\n",
        "df = df.select(\n",
        "    pl.all(),\n",
        "    pl.col(\"Stopwords Removed\").apply(lambda words: [stemmer.stem(word) for word in words.to_list()]).alias(\"Stemmed\"),\n",
        "    pl.col(\"Stopwords Removed\").apply(lambda words: [lemmatizer.lemmatize(word) for word in words.to_list()]).alias(\"Lemmatized\")\n",
        ")"
      ]
    },
    {
      "cell_type": "code",
      "execution_count": 185,
      "metadata": {
        "colab": {
          "base_uri": "https://localhost:8080/"
        },
        "id": "GGcYfwPM16OT",
        "outputId": "e8a94e34-0e8e-4f00-c4c0-7ba64d5f3480"
      },
      "outputs": [
        {
          "name": "stdout",
          "output_type": "stream",
          "text": [
            "shape: (153, 8)\n",
            "┌─────┬─────────────┬─────────────┬────────────┬────────────┬────────────┬────────────┬────────────┐\n",
            "│ ID  ┆ Tweet       ┆ Translated  ┆ Clean      ┆ Tokenized  ┆ Stopwords  ┆ Stemmed    ┆ Lemmatized │\n",
            "│ --- ┆ ---         ┆ ---         ┆ ---        ┆ ---        ┆ Removed    ┆ ---        ┆ ---        │\n",
            "│ i32 ┆ str         ┆ str         ┆ str        ┆ list[str]  ┆ ---        ┆ list[str]  ┆ list[str]  │\n",
            "│     ┆             ┆             ┆            ┆            ┆ list[str]  ┆            ┆            │\n",
            "╞═════╪═════════════╪═════════════╪════════════╪════════════╪════════════╪════════════╪════════════╡\n",
            "│ 1   ┆ Cory        ┆ Cory        ┆ cory       ┆ [\"cory\",   ┆ [\"cory\",   ┆ [\"cori\",   ┆ [\"cory\",   │\n",
            "     ┆ aquino     ┆ \"aquino\",  ┆ \"aquino\",  ┆ \"aquino\",  ┆ \"aquino\",  │\n",
            "│     ┆ - Duly      ┆ - Duly      ┆ duly       ┆ … \"fact\"]  ┆ … \"fact\"]  ┆ … \"fact\"]  ┆ … \"fact\"]  │\n",
            "│     ┆ elected Pr… ┆ elected     ┆ elected    ┆            ┆            ┆            ┆            │\n",
            "│     ┆             ┆ pre…        ┆ preside…   ┆            ┆            ┆            ┆            │\n",
            "│ 2   ┆ Ninoy       ┆ Ninoy       ┆ ninoy      ┆ [\"ninoy\",  ┆ [\"ninoy\",  ┆ [\"ninoy\",  ┆ [\"ninoy\",  │\n",
            "│     ┆ Aquino is a ┆ Aquino is a ┆ aquino is  ┆ \"aquino\",  ┆ \"aquino\",  ┆ \"aquino\",  ┆ \"aquino\",  │\n",
            "    ┆ a traitor  ┆ …          ┆ …          ┆ …          ┆ …          │\n",
            "            ┆ he joi…    ┆ \"family\"]  ┆ \"family\"]  ┆ \"famili\"]  ┆ \"family\"]  │\n",
            "│     ┆ He…         ┆ He…         ┆            ┆            ┆            ┆            ┆            │\n",
            "│ 3   ┆ Ninoy is a  ┆ Ninoy is a  ┆ ninoy is a ┆ [\"ninoy\",  ┆ [\"ninoy\",  ┆ [\"ninoy\",  ┆ [\"ninoy\",  │\n",
            "│     ┆ traitor, an ┆ traitor, an ┆ traitor an ┆ \"is\", …    ┆ \"traitor\", ┆ \"traitor\", ┆ \"traitor\", │\n",
            "│     ┆ idiot and…  ┆ idiot and…  ┆ idiot and  ┆ \"etc\"]     ┆ … \"etc\"]   ┆ … \"etc\"]   ┆ … \"etc\"]   │\n",
            "│     ┆             ┆             ┆ …          ┆            ┆            ┆            ┆            │\n",
            "│ 4   ┆ Ninoy       ┆ Ninoy       ┆ ninoy      ┆ [\"ninoy\",  ┆ [\"ninoy\",  ┆ [\"ninoy\",  ┆ [\"ninoy\",  │\n",
            "│     ┆ Aquino day  ┆ Aquino day  ┆ aquino day ┆ \"aquino\",  ┆ \"aquino\",  ┆ \"aquino\",  ┆ \"aquino\",  │\n",
            "│     ┆ should be   ┆ should be   ┆ should be  ┆ … \"inc\"]   ┆ … \"inc\"]   ┆ … \"inc\"]   ┆ … \"inc\"]   │\n",
            "│     ┆ aboli…      ┆ aboli…      ┆ aboli…     ┆            ┆            ┆            ┆            │\n",
            "│ …   ┆ …           ┆ …           ┆ …          ┆ …          ┆ …          ┆ …          ┆ …          │\n",
            "│ 150 ┆ Ninoy is    ┆ Ninoy is    ┆ ninoy is   ┆ [\"ninoy\",  ┆ [\"ninoy\",  ┆ [\"ninoy\",  ┆ [\"ninoy\",  │\n",
            "│     ┆ not worth   ┆ not worth   ┆ not worth  ┆ \"is\", …    ┆ \"worth\", … ┆ \"worth\", … ┆ \"worth\", … │\n",
            "│     ┆ dying       ┆ Dying       ┆ dying for  ┆ \"bonifacio ┆ \"bonifacio ┆ \"bonifacio ┆ \"bonifacio │\n",
            "│     ┆ for,but…    ┆ for,but…    ┆ but…       ┆ \"]         ┆ \"…         ┆ \"…         ┆ \"…         │\n",
            "│ 151 ┆ common,     ┆ common,     ┆ common     ┆ [\"common\", ┆ [\"common\", ┆ [\"common\", ┆ [\"common\", │\n",
            "│     ┆ ninoy is    ┆ ninoy is    ┆ ninoy is   ┆ \"ninoy\", … ┆ \"ninoy\", … ┆ \"ninoy\", … ┆ \"ninoy\", … │\n",
            "│     ┆ big traitor ┆ big traitor ┆ big        ┆ \"rollingon ┆ \"rollingon ┆ \"rollingon ┆ \"rollingon │\n",
            "│     ┆ and…        ┆ and…        ┆ traitor    ┆ …          ┆ …          ┆ …          ┆ …          │\n",
            "│     ┆             ┆             ┆ and …      ┆            ┆            ┆            ┆            │\n",
            "│ 152 ┆ npa founder ┆ npa founder ┆ npa        ┆ [\"npa\",    ┆ [\"npa\",    ┆ [\"npa\",    ┆ [\"npa\",    │\n",
            "│     ┆ 😎          ┆ 😎          ┆ founder    ┆ \"founder\", ┆ \"founder\", ┆ \"founder\", ┆ \"founder\", │\n",
            "│     ┆             ┆             ┆ smilingfac ┆ \"smilingfa ┆ \"smilingfa ┆ \"smilingfa ┆ \"smilingfa │\n",
            "│     ┆             ┆             ┆ ewithsungl ┆ cew…       ┆ cew…       ┆ cew…       ┆ cew…       │\n",
            "│     ┆             ┆             ┆ …          ┆            ┆            ┆            ┆            │\n",
            "│ 153 ┆ They        ┆ They        ┆ they       ┆ [\"they\",   ┆ [\"think\",  ┆ [\"think\",  ┆ [\"think\",  │\n",
            "│     ┆ couldn't    ┆ couldn't    ┆ couldn t   ┆ \"couldn\",  ┆ \"better\",  ┆ \"better\",  ┆ \"better\",  │\n",
            "│     ┆ think of a  ┆ think of a  ┆ think of a ┆ … \"truth\"] ┆ … \"truth\"] ┆ … \"truth\"] ┆ … \"truth\"] │\n",
            "│     ┆ better …    ┆ better …    ┆ better …   ┆            ┆            ┆            ┆            │\n",
            "└─────┴─────────────┴─────────────┴────────────┴────────────┴────────────┴────────────┴────────────┘\n"
          ]
        }
      ],
      "source": [
        "print(df)\n",
        "def serialize(arr):\n",
        "  return \" \".join(arr)\n",
        "df_serialized = df.select(\n",
        "    pl.col(\"ID\"),\n",
        "    pl.col(\"Tweet\"),\n",
        "    pl.col(\"Translated\"),\n",
        "    pl.col(\"Clean\"),\n",
        "    pl.col(\"Tokenized\").apply(serialize).cast(str),\n",
        "    pl.col(\"Stopwords Removed\").apply(serialize).cast(str),\n",
        "    pl.col(\"Stemmed\").apply(serialize).cast(str),\n",
        "    pl.col(\"Lemmatized\").apply(serialize).cast(str)\n",
        ")\n",
        "df_serialized.write_csv(\"clean.csv\")"
      ]
    }
  ],
  "metadata": {
    "colab": {
      "provenance": []
    },
    "kernelspec": {
      "display_name": "Python 3",
      "name": "python3"
    },
    "language_info": {
      "codemirror_mode": {
        "name": "ipython",
        "version": 3
      },
      "file_extension": ".py",
      "mimetype": "text/x-python",
      "name": "python",
      "nbconvert_exporter": "python",
      "pygments_lexer": "ipython3",
      "version": "3.11.3"
    }
  },
  "nbformat": 4,
  "nbformat_minor": 0
}
